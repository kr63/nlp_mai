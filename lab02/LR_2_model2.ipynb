{
 "cells": [
  {
   "cell_type": "markdown",
   "metadata": {
    "id": "wr9GLW3A2RqL"
   },
   "source": [
    "### ЛР. Часть II: Large scale text analysis with deep learning (4 points)\n"
   ]
  },
  {
   "cell_type": "markdown",
   "metadata": {
    "id": "V6pSQcFn2RqN"
   },
   "source": [
    "**Для успешной сдачи этой части ЛР - нужно получить MAE < 0.11**\n",
    "\n",
    "За датасет спасибо [Oleg Vasilev](https://github.com/Omrigan/)\n",
    "\n",
    "Мы будем предсказывать ЗП по резюме. Начнем с семинара, закончим ЛР.\n",
    "\n",
    "**Для успешной сдачи этой части ЛР - нужно получить MAE < 0.11**"
   ]
  },
  {
   "cell_type": "code",
   "metadata": {
    "id": "eUuse6vD2RqN",
    "ExecuteTime": {
     "end_time": "2025-03-27T08:33:11.968799Z",
     "start_time": "2025-03-27T08:33:11.961818Z"
    }
   },
   "source": [
    "import matplotlib.pyplot as plt\n",
    "import numpy as np\n",
    "import pandas as pd\n",
    "%matplotlib inline"
   ],
   "outputs": [],
   "execution_count": 1
  },
  {
   "cell_type": "markdown",
   "metadata": {
    "id": "uj7sqAP52RqO"
   },
   "source": [
    "### Начало\n",
    "\n",
    "Сначала разумеется нужно скачать датасет с яндекс диска.\n",
    "\n",
    "Данные сделаны на основе Kaggle соревнования - https://www.kaggle.com/c/job-salary-prediction/data\n"
   ]
  },
  {
   "cell_type": "code",
   "metadata": {
    "id": "O7uK6DLq2Zlm"
   },
   "source": [
    "#import requests\n",
    "#from urllib.parse import urlencode\n",
    "\n",
    "#base_url = 'https://cloud-api.yandex.net/v1/disk/public/resources/download?'\n",
    "#public_key = 'https://disk.yandex.ru/d/DoFaLhNST81AgA'\n",
    "\n",
    "# Получаем загрузочную ссылку\n",
    "#final_url = base_url + urlencode(dict(public_key=public_key))\n",
    "#response = requests.get(final_url)\n",
    "#download_url = response.json()['href']\n",
    "\n",
    "# Загружаем файл и сохраняем его\n",
    "#download_response = requests.get(download_url)"
   ],
   "outputs": [],
   "execution_count": null
  },
  {
   "cell_type": "code",
   "metadata": {
    "id": "MJ8yyGZH286H"
   },
   "source": [
    "#with open('./Train_rev1.csv', 'wb') as f:\n",
    "#    f.write(download_response.content)"
   ],
   "outputs": [],
   "execution_count": null
  },
  {
   "cell_type": "code",
   "metadata": {
    "colab": {
     "base_uri": "https://localhost:8080/"
    },
    "id": "mgO7R-ct2RqO",
    "outputId": "cfa516f7-f24a-412d-fdd8-e6045e7518ea",
    "ExecuteTime": {
     "end_time": "2025-03-27T08:33:19.048363Z",
     "start_time": "2025-03-27T08:33:15.790864Z"
    }
   },
   "source": [
    "data = pd.read_csv(\"./Train_rev1.csv\", index_col=None)\n",
    "data.shape"
   ],
   "outputs": [
    {
     "data": {
      "text/plain": [
       "(244768, 12)"
      ]
     },
     "execution_count": 2,
     "metadata": {},
     "output_type": "execute_result"
    }
   ],
   "execution_count": 2
  },
  {
   "cell_type": "code",
   "metadata": {
    "colab": {
     "base_uri": "https://localhost:8080/",
     "height": 486
    },
    "id": "GQd_KyEb2RqO",
    "outputId": "c5d9b6bd-bde4-4bc6-b862-9c294ac1bbef",
    "ExecuteTime": {
     "end_time": "2025-03-27T08:34:10.037733Z",
     "start_time": "2025-03-27T08:34:10.023685Z"
    }
   },
   "source": [
    "data.head()"
   ],
   "outputs": [
    {
     "data": {
      "text/plain": [
       "         Id                                              Title  \\\n",
       "0  12612628                        Engineering Systems Analyst   \n",
       "1  12612830                            Stress Engineer Glasgow   \n",
       "2  12612844                   Modelling and simulation analyst   \n",
       "3  12613049  Engineering Systems Analyst / Mathematical Mod...   \n",
       "4  12613647         Pioneer, Miser Engineering Systems Analyst   \n",
       "\n",
       "                                     FullDescription  \\\n",
       "0  Engineering Systems Analyst Dorking Surrey Sal...   \n",
       "1  Stress Engineer Glasgow Salary **** to **** We...   \n",
       "2  Mathematical Modeller / Simulation Analyst / O...   \n",
       "3  Engineering Systems Analyst / Mathematical Mod...   \n",
       "4  Pioneer, Miser  Engineering Systems Analyst Do...   \n",
       "\n",
       "                         LocationRaw LocationNormalized ContractType  \\\n",
       "0            Dorking, Surrey, Surrey            Dorking          NaN   \n",
       "1        Glasgow, Scotland, Scotland            Glasgow          NaN   \n",
       "2  Hampshire, South East, South East          Hampshire          NaN   \n",
       "3     Surrey, South East, South East             Surrey          NaN   \n",
       "4     Surrey, South East, South East             Surrey          NaN   \n",
       "\n",
       "  ContractTime                       Company          Category  \\\n",
       "0    permanent  Gregory Martin International  Engineering Jobs   \n",
       "1    permanent  Gregory Martin International  Engineering Jobs   \n",
       "2    permanent  Gregory Martin International  Engineering Jobs   \n",
       "3    permanent  Gregory Martin International  Engineering Jobs   \n",
       "4    permanent  Gregory Martin International  Engineering Jobs   \n",
       "\n",
       "                                SalaryRaw  SalaryNormalized        SourceName  \n",
       "0              20000 - 30000/annum 20-30K             25000  cv-library.co.uk  \n",
       "1              25000 - 35000/annum 25-35K             30000  cv-library.co.uk  \n",
       "2              20000 - 40000/annum 20-40K             30000  cv-library.co.uk  \n",
       "3  25000 - 30000/annum 25K-30K negotiable             27500  cv-library.co.uk  \n",
       "4              20000 - 30000/annum 20-30K             25000  cv-library.co.uk  "
      ],
      "text/html": [
       "<div>\n",
       "<style scoped>\n",
       "    .dataframe tbody tr th:only-of-type {\n",
       "        vertical-align: middle;\n",
       "    }\n",
       "\n",
       "    .dataframe tbody tr th {\n",
       "        vertical-align: top;\n",
       "    }\n",
       "\n",
       "    .dataframe thead th {\n",
       "        text-align: right;\n",
       "    }\n",
       "</style>\n",
       "<table border=\"1\" class=\"dataframe\">\n",
       "  <thead>\n",
       "    <tr style=\"text-align: right;\">\n",
       "      <th></th>\n",
       "      <th>Id</th>\n",
       "      <th>Title</th>\n",
       "      <th>FullDescription</th>\n",
       "      <th>LocationRaw</th>\n",
       "      <th>LocationNormalized</th>\n",
       "      <th>ContractType</th>\n",
       "      <th>ContractTime</th>\n",
       "      <th>Company</th>\n",
       "      <th>Category</th>\n",
       "      <th>SalaryRaw</th>\n",
       "      <th>SalaryNormalized</th>\n",
       "      <th>SourceName</th>\n",
       "    </tr>\n",
       "  </thead>\n",
       "  <tbody>\n",
       "    <tr>\n",
       "      <th>0</th>\n",
       "      <td>12612628</td>\n",
       "      <td>Engineering Systems Analyst</td>\n",
       "      <td>Engineering Systems Analyst Dorking Surrey Sal...</td>\n",
       "      <td>Dorking, Surrey, Surrey</td>\n",
       "      <td>Dorking</td>\n",
       "      <td>NaN</td>\n",
       "      <td>permanent</td>\n",
       "      <td>Gregory Martin International</td>\n",
       "      <td>Engineering Jobs</td>\n",
       "      <td>20000 - 30000/annum 20-30K</td>\n",
       "      <td>25000</td>\n",
       "      <td>cv-library.co.uk</td>\n",
       "    </tr>\n",
       "    <tr>\n",
       "      <th>1</th>\n",
       "      <td>12612830</td>\n",
       "      <td>Stress Engineer Glasgow</td>\n",
       "      <td>Stress Engineer Glasgow Salary **** to **** We...</td>\n",
       "      <td>Glasgow, Scotland, Scotland</td>\n",
       "      <td>Glasgow</td>\n",
       "      <td>NaN</td>\n",
       "      <td>permanent</td>\n",
       "      <td>Gregory Martin International</td>\n",
       "      <td>Engineering Jobs</td>\n",
       "      <td>25000 - 35000/annum 25-35K</td>\n",
       "      <td>30000</td>\n",
       "      <td>cv-library.co.uk</td>\n",
       "    </tr>\n",
       "    <tr>\n",
       "      <th>2</th>\n",
       "      <td>12612844</td>\n",
       "      <td>Modelling and simulation analyst</td>\n",
       "      <td>Mathematical Modeller / Simulation Analyst / O...</td>\n",
       "      <td>Hampshire, South East, South East</td>\n",
       "      <td>Hampshire</td>\n",
       "      <td>NaN</td>\n",
       "      <td>permanent</td>\n",
       "      <td>Gregory Martin International</td>\n",
       "      <td>Engineering Jobs</td>\n",
       "      <td>20000 - 40000/annum 20-40K</td>\n",
       "      <td>30000</td>\n",
       "      <td>cv-library.co.uk</td>\n",
       "    </tr>\n",
       "    <tr>\n",
       "      <th>3</th>\n",
       "      <td>12613049</td>\n",
       "      <td>Engineering Systems Analyst / Mathematical Mod...</td>\n",
       "      <td>Engineering Systems Analyst / Mathematical Mod...</td>\n",
       "      <td>Surrey, South East, South East</td>\n",
       "      <td>Surrey</td>\n",
       "      <td>NaN</td>\n",
       "      <td>permanent</td>\n",
       "      <td>Gregory Martin International</td>\n",
       "      <td>Engineering Jobs</td>\n",
       "      <td>25000 - 30000/annum 25K-30K negotiable</td>\n",
       "      <td>27500</td>\n",
       "      <td>cv-library.co.uk</td>\n",
       "    </tr>\n",
       "    <tr>\n",
       "      <th>4</th>\n",
       "      <td>12613647</td>\n",
       "      <td>Pioneer, Miser Engineering Systems Analyst</td>\n",
       "      <td>Pioneer, Miser  Engineering Systems Analyst Do...</td>\n",
       "      <td>Surrey, South East, South East</td>\n",
       "      <td>Surrey</td>\n",
       "      <td>NaN</td>\n",
       "      <td>permanent</td>\n",
       "      <td>Gregory Martin International</td>\n",
       "      <td>Engineering Jobs</td>\n",
       "      <td>20000 - 30000/annum 20-30K</td>\n",
       "      <td>25000</td>\n",
       "      <td>cv-library.co.uk</td>\n",
       "    </tr>\n",
       "  </tbody>\n",
       "</table>\n",
       "</div>"
      ]
     },
     "execution_count": 4,
     "metadata": {},
     "output_type": "execute_result"
    }
   ],
   "execution_count": 4
  },
  {
   "cell_type": "markdown",
   "metadata": {
    "id": "DqxnSwlp2RqO"
   },
   "source": [
    "Одна из проблем с предсказанием зарплат заключается в том, что они распределены необычным образом (хотя кто слушал лекции по классик мл было все идеально): существует много людей, которые получают стандартные зарплаты, и немного тех, кто зарабатывает огромные суммы. Распределение имеет \"жирный хвост\" на правой стороне, что неудобно для минимизации MSE.\n",
    "\n",
    "Существует несколько методов для решения этой проблемы: использование другой функции потерь (MSLE), предсказание логарифма целевой переменной вместо исходного значения (LOG1P), или даже замена целевых значений их процентилями среди всех зарплат в обучающем наборе (ДИСКРЕТИЗАЦИЯ????).\n",
    "\n",
    "Для простоты и вашего интереса буду юзать log1p\n",
    "\n",
    "_Подробнее можно прочитать [в официальном описании](https://www.kaggle.com/c/job-salary-prediction#description)._"
   ]
  },
  {
   "cell_type": "code",
   "metadata": {
    "id": "RvC3_LF72RqO",
    "ExecuteTime": {
     "end_time": "2025-03-27T08:34:12.899320Z",
     "start_time": "2025-03-27T08:34:12.660229Z"
    }
   },
   "source": [
    "data['Log1pSalary'] = np.log1p(data['SalaryNormalized']).astype('float32')\n",
    "\n",
    "plt.figure(figsize=[8, 4])\n",
    "plt.subplot(1, 2, 1)\n",
    "plt.hist(data[\"SalaryNormalized\"], bins=20);\n",
    "\n",
    "plt.subplot(1, 2, 2)\n",
    "plt.hist(data['Log1pSalary'], bins=20);"
   ],
   "outputs": [
    {
     "data": {
      "text/plain": [
       "<Figure size 800x400 with 2 Axes>"
      ],
      "image/png": "[encoded data removed]"
     },
     "metadata": {},
     "output_type": "display_data"
    }
   ],
   "execution_count": 5
  },
  {
   "cell_type": "markdown",
   "metadata": {
    "id": "PIhd1Owf2RqO"
   },
   "source": [
    "Наша задача — предсказать одно число, __Log1pSalary__.\n",
    "\n",
    "Для этого наша модель может использовать несколько признаков:\n",
    "* Текстовые данные: __`Title`__ и  __`FullDescription`__\n",
    "* Категориальные данные: __`Category`__, __`Company`__, __`LocationNormalized`__, __`ContractType`__ и __`ContractTime`__."
   ]
  },
  {
   "cell_type": "code",
   "metadata": {
    "colab": {
     "base_uri": "https://localhost:8080/",
     "height": 309
    },
    "id": "WqelS_j32RqO",
    "outputId": "792e2554-daf4-4904-91f8-0cce81e7943a",
    "ExecuteTime": {
     "end_time": "2025-03-27T08:34:18.295884Z",
     "start_time": "2025-03-27T08:34:18.158078Z"
    }
   },
   "source": [
    "text_columns = [\"Title\", \"FullDescription\"]\n",
    "categorical_columns = [\"Category\", \"Company\", \"LocationNormalized\", \"ContractType\", \"ContractTime\"]\n",
    "TARGET_COLUMN = \"Log1pSalary\"\n",
    "\n",
    "data[categorical_columns] = data[categorical_columns].fillna('NaN') # cast missing values to string \"NaN\"\n",
    "\n",
    "data.sample(3)"
   ],
   "outputs": [
    {
     "data": {
      "text/plain": [
       "              Id                                             Title  \\\n",
       "30187   68061916                      Qualitative Research Manager   \n",
       "227632  72444792  Assistant Sales Manager  Market Leading Retailer   \n",
       "137838  70433650                                    SUPPORT WORKER   \n",
       "\n",
       "                                          FullDescription  \\\n",
       "30187   A leading agency in the region is seeking a re...   \n",
       "227632  This leading UK retailer has enjoyed over 40 y...   \n",
       "137838  Support Worker: Job Description Role Objective...   \n",
       "\n",
       "                                   LocationRaw LocationNormalized  \\\n",
       "30187   Leicester Leicestershire East Midlands          Leicester   \n",
       "227632            Glasgow Lanarkshire Scotland                 UK   \n",
       "137838                                 Warwick            Warwick   \n",
       "\n",
       "       ContractType ContractTime               Company  \\\n",
       "30187           NaN    permanent     Brand Recruitment   \n",
       "227632          NaN    permanent  Triple S Recruitment   \n",
       "137838    full_time          NaN      People in Action   \n",
       "\n",
       "                                Category                           SalaryRaw  \\\n",
       "30187   PR, Advertising & Marketing Jobs  40000 - 45000 per annum + benefits   \n",
       "227632                        Sales Jobs            OTE 35-40k plus benefits   \n",
       "137838         Healthcare & Nursing Jobs                7.60 - 8.10 per hour   \n",
       "\n",
       "        SalaryNormalized      SourceName  Log1pSalary  \n",
       "30187              42500   totaljobs.com    10.657283  \n",
       "227632             37500   totaljobs.com    10.532123  \n",
       "137838             15072  Jobcentre Plus     9.620661  "
      ],
      "text/html": [
       "<div>\n",
       "<style scoped>\n",
       "    .dataframe tbody tr th:only-of-type {\n",
       "        vertical-align: middle;\n",
       "    }\n",
       "\n",
       "    .dataframe tbody tr th {\n",
       "        vertical-align: top;\n",
       "    }\n",
       "\n",
       "    .dataframe thead th {\n",
       "        text-align: right;\n",
       "    }\n",
       "</style>\n",
       "<table border=\"1\" class=\"dataframe\">\n",
       "  <thead>\n",
       "    <tr style=\"text-align: right;\">\n",
       "      <th></th>\n",
       "      <th>Id</th>\n",
       "      <th>Title</th>\n",
       "      <th>FullDescription</th>\n",
       "      <th>LocationRaw</th>\n",
       "      <th>LocationNormalized</th>\n",
       "      <th>ContractType</th>\n",
       "      <th>ContractTime</th>\n",
       "      <th>Company</th>\n",
       "      <th>Category</th>\n",
       "      <th>SalaryRaw</th>\n",
       "      <th>SalaryNormalized</th>\n",
       "      <th>SourceName</th>\n",
       "      <th>Log1pSalary</th>\n",
       "    </tr>\n",
       "  </thead>\n",
       "  <tbody>\n",
       "    <tr>\n",
       "      <th>30187</th>\n",
       "      <td>68061916</td>\n",
       "      <td>Qualitative Research Manager</td>\n",
       "      <td>A leading agency in the region is seeking a re...</td>\n",
       "      <td>Leicester Leicestershire East Midlands</td>\n",
       "      <td>Leicester</td>\n",
       "      <td>NaN</td>\n",
       "      <td>permanent</td>\n",
       "      <td>Brand Recruitment</td>\n",
       "      <td>PR, Advertising &amp; Marketing Jobs</td>\n",
       "      <td>40000 - 45000 per annum + benefits</td>\n",
       "      <td>42500</td>\n",
       "      <td>totaljobs.com</td>\n",
       "      <td>10.657283</td>\n",
       "    </tr>\n",
       "    <tr>\n",
       "      <th>227632</th>\n",
       "      <td>72444792</td>\n",
       "      <td>Assistant Sales Manager  Market Leading Retailer</td>\n",
       "      <td>This leading UK retailer has enjoyed over 40 y...</td>\n",
       "      <td>Glasgow Lanarkshire Scotland</td>\n",
       "      <td>UK</td>\n",
       "      <td>NaN</td>\n",
       "      <td>permanent</td>\n",
       "      <td>Triple S Recruitment</td>\n",
       "      <td>Sales Jobs</td>\n",
       "      <td>OTE 35-40k plus benefits</td>\n",
       "      <td>37500</td>\n",
       "      <td>totaljobs.com</td>\n",
       "      <td>10.532123</td>\n",
       "    </tr>\n",
       "    <tr>\n",
       "      <th>137838</th>\n",
       "      <td>70433650</td>\n",
       "      <td>SUPPORT WORKER</td>\n",
       "      <td>Support Worker: Job Description Role Objective...</td>\n",
       "      <td>Warwick</td>\n",
       "      <td>Warwick</td>\n",
       "      <td>full_time</td>\n",
       "      <td>NaN</td>\n",
       "      <td>People in Action</td>\n",
       "      <td>Healthcare &amp; Nursing Jobs</td>\n",
       "      <td>7.60 - 8.10 per hour</td>\n",
       "      <td>15072</td>\n",
       "      <td>Jobcentre Plus</td>\n",
       "      <td>9.620661</td>\n",
       "    </tr>\n",
       "  </tbody>\n",
       "</table>\n",
       "</div>"
      ]
     },
     "execution_count": 6,
     "metadata": {},
     "output_type": "execute_result"
    }
   ],
   "execution_count": 6
  },
  {
   "cell_type": "markdown",
   "metadata": {
    "id": "fm6RK0wV2RqP"
   },
   "source": [
    "### Препроцессинг\n",
    "\n",
    "Как и на прошлой неделе, NLP начинается с токенизации: разбиения исходного текста на последовательности токенов (слов, знаков пунктуации и т.д.).\n",
    "\n",
    "__Ваша задача__ — привести к нижнему регистру и токенизировать все тексты в столбцах `Title` и `FullDescription`. Сохраните токенизированные данные в виде строки с токенами, разделенными __пробелами__, для повышения производительности.\n"
   ]
  },
  {
   "cell_type": "code",
   "metadata": {
    "id": "zSXdXkxEYW9o",
    "scrolled": true,
    "ExecuteTime": {
     "end_time": "2025-03-27T08:34:28.990374Z",
     "start_time": "2025-03-27T08:34:28.985223Z"
    }
   },
   "source": [
    "print(\"Raw text:\")\n",
    "print(data[\"FullDescription\"][2::100000])"
   ],
   "outputs": [
    {
     "name": "stdout",
     "output_type": "stream",
     "text": [
      "Raw text:\n",
      "2         Mathematical Modeller / Simulation Analyst / O...\n",
      "100002    A successful and high achieving specialist sch...\n",
      "200002    Web Designer  HTML, CSS, JavaScript, Photoshop...\n",
      "Name: FullDescription, dtype: object\n"
     ]
    }
   ],
   "execution_count": 9
  },
  {
   "cell_type": "code",
   "metadata": {
    "ExecuteTime": {
     "end_time": "2025-03-27T08:34:30.924228Z",
     "start_time": "2025-03-27T08:34:30.692585Z"
    }
   },
   "source": [
    "import nltk\n",
    "\n",
    "tokenizer = nltk.tokenize.WordPunctTokenizer()"
   ],
   "outputs": [],
   "execution_count": 10
  },
  {
   "cell_type": "code",
   "metadata": {
    "ExecuteTime": {
     "end_time": "2025-03-27T08:34:51.624832Z",
     "start_time": "2025-03-27T08:34:32.496850Z"
    }
   },
   "source": [
    "data['FullDescription'] = data['FullDescription'].apply(lambda x: ' '.join(tokenizer.tokenize(str(x))).lower())\n",
    "data['Title'] = data['Title'].apply(lambda x: ' '.join(tokenizer.tokenize(str(x))).lower())"
   ],
   "outputs": [],
   "execution_count": 11
  },
  {
   "cell_type": "markdown",
   "metadata": {
    "id": "Ry5YUK_XYW9o"
   },
   "source": [
    "Теперь мы можем предположить, что наш текст - это список лексем, разделенных пробелами:"
   ]
  },
  {
   "cell_type": "code",
   "metadata": {
    "id": "MNxaDGUUYW9o",
    "ExecuteTime": {
     "end_time": "2025-03-27T08:34:54.898854Z",
     "start_time": "2025-03-27T08:34:54.895110Z"
    }
   },
   "source": [
    "print(\"Tokenized:\")\n",
    "print(data[\"FullDescription\"][2::100000])\n",
    "assert data[\"FullDescription\"][2][:50] == 'mathematical modeller / simulation analyst / opera'\n",
    "assert data[\"Title\"][54321] == 'international digital account manager ( german )'"
   ],
   "outputs": [
    {
     "name": "stdout",
     "output_type": "stream",
     "text": [
      "Tokenized:\n",
      "2         mathematical modeller / simulation analyst / o...\n",
      "100002    a successful and high achieving specialist sch...\n",
      "200002    web designer html , css , javascript , photosh...\n",
      "Name: FullDescription, dtype: object\n"
     ]
    }
   ],
   "execution_count": 12
  },
  {
   "cell_type": "markdown",
   "metadata": {
    "id": "1qF1uDpi2RqP"
   },
   "source": [
    "Не все слова одинаково полезны. Некоторые из них - опечатки или редкие слова, которые встречаются всего несколько раз.\n",
    "\n",
    "Давайте подсчитаем, сколько раз каждое слово встречается в данных, чтобы составить «белый список» известных слов."
   ]
  },
  {
   "cell_type": "code",
   "metadata": {
    "id": "bbvHsss1YW9o",
    "ExecuteTime": {
     "end_time": "2025-03-27T08:35:23.661415Z",
     "start_time": "2025-03-27T08:34:58.289405Z"
    }
   },
   "source": [
    "from collections import Counter\n",
    "token_counts = Counter()\n",
    "\n",
    "# Count how many times does each token occur in both \"Title\" and \"FullDescription\" in total\n",
    "for text in data['FullDescription'].values:\n",
    "    for token in text.split():\n",
    "        token_counts[token] += 1\n",
    "\n",
    "for text in data['Title'].values:\n",
    "    for token in text.split():\n",
    "        token_counts[token] += 1"
   ],
   "outputs": [],
   "execution_count": 13
  },
  {
   "cell_type": "code",
   "metadata": {
    "id": "g12Ne0x92RqP",
    "ExecuteTime": {
     "end_time": "2025-03-27T08:35:25.096010Z",
     "start_time": "2025-03-27T08:35:24.972142Z"
    }
   },
   "source": [
    "print(\"Total unique tokens :\", len(token_counts))\n",
    "print('\\n'.join(map(str, token_counts.most_common(n=5))))\n",
    "print('...')\n",
    "print('\\n'.join(map(str, token_counts.most_common()[-3:])))\n",
    "\n",
    "assert token_counts.most_common(1)[0][1] in  range(2600000, 2700000)\n",
    "assert len(token_counts) in range(200000, 210000)\n",
    "print('Correct!')"
   ],
   "outputs": [
    {
     "name": "stdout",
     "output_type": "stream",
     "text": [
      "Total unique tokens : 202704\n",
      "('and', 2657388)\n",
      "('.', 2523216)\n",
      "(',', 2318606)\n",
      "('the', 2080994)\n",
      "('to', 2019884)\n",
      "...\n",
      "('improvemen', 1)\n",
      "('techniciancivil', 1)\n",
      "('mlnlycke', 1)\n",
      "Correct!\n"
     ]
    }
   ],
   "execution_count": 14
  },
  {
   "cell_type": "code",
   "metadata": {
    "id": "BjQjcxpR2RqQ",
    "ExecuteTime": {
     "end_time": "2025-03-27T08:35:29.171327Z",
     "start_time": "2025-03-27T08:35:28.039245Z"
    }
   },
   "source": [
    "# Let's see how many words are there for each count\n",
    "plt.hist(list(token_counts.values()), range=[0, 10**4], bins=50, log=True)\n",
    "plt.xlabel(\"Word counts\");"
   ],
   "outputs": [
    {
     "data": {
      "text/plain": [
       "<Figure size 640x480 with 1 Axes>"
      ],
      "image/png": "[encoded data removed]"
     },
     "metadata": {},
     "output_type": "display_data"
    }
   ],
   "execution_count": 15
  },
  {
   "cell_type": "markdown",
   "metadata": {
    "id": "HXjXS_oZ2RqQ"
   },
   "source": [
    "__Задание 1.1__ Получите список всех токенов, которые встречаются не менее 10 раз."
   ]
  },
  {
   "cell_type": "code",
   "metadata": {
    "id": "JayaT2Cl2RqQ",
    "ExecuteTime": {
     "end_time": "2025-03-27T08:35:32.432651Z",
     "start_time": "2025-03-27T08:35:32.411272Z"
    }
   },
   "source": [
    "min_count = 10\n",
    "\n",
    "# tokens from token_counts keys that had at least min_count occurrences throughout the dataset\n",
    "tokens = sorted(token for token, count in token_counts.items() if count >= min_count)\n",
    "\n",
    "# Add a special tokens for unknown and empty words\n",
    "UNK, PAD = \"UNK\", \"PAD\"\n",
    "tokens = [UNK, PAD] + tokens"
   ],
   "outputs": [],
   "execution_count": 16
  },
  {
   "cell_type": "code",
   "metadata": {
    "id": "cv4sKk_V2RqQ",
    "ExecuteTime": {
     "end_time": "2025-03-27T08:35:34.660385Z",
     "start_time": "2025-03-27T08:35:34.655279Z"
    }
   },
   "source": [
    "print(\"Vocabulary size:\", len(tokens))\n",
    "assert type(tokens) == list\n",
    "assert len(tokens) in range(32000, 35000)\n",
    "assert 'me' in tokens\n",
    "assert UNK in tokens\n",
    "print(\"Correct!\")"
   ],
   "outputs": [
    {
     "name": "stdout",
     "output_type": "stream",
     "text": [
      "Vocabulary size: 34158\n",
      "Correct!\n"
     ]
    }
   ],
   "execution_count": 17
  },
  {
   "cell_type": "markdown",
   "metadata": {
    "id": "5lDkb5w02RqQ"
   },
   "source": [
    "__Задача 1.2__ Постройте обратный индекс токена: словарь от токена(string) до его индекса в `tokens` (int)"
   ]
  },
  {
   "cell_type": "code",
   "metadata": {
    "id": "rb656LuY2RqQ",
    "ExecuteTime": {
     "end_time": "2025-03-27T08:35:37.398506Z",
     "start_time": "2025-03-27T08:35:37.390446Z"
    }
   },
   "source": [
    "token_to_id = {token: index for index, token in enumerate(tokens)}"
   ],
   "outputs": [],
   "execution_count": 18
  },
  {
   "cell_type": "code",
   "metadata": {
    "id": "BjOANmKH2RqQ",
    "ExecuteTime": {
     "end_time": "2025-03-27T08:35:40.726909Z",
     "start_time": "2025-03-27T08:35:40.715344Z"
    }
   },
   "source": [
    "assert isinstance(token_to_id, dict)\n",
    "assert len(token_to_id) == len(tokens)\n",
    "for tok in tokens:\n",
    "    assert tokens[token_to_id[tok]] == tok\n",
    "\n",
    "print(\"Correct!\")"
   ],
   "outputs": [
    {
     "name": "stdout",
     "output_type": "stream",
     "text": [
      "Correct!\n"
     ]
    }
   ],
   "execution_count": 19
  },
  {
   "cell_type": "markdown",
   "metadata": {
    "id": "4OXmoEAi2RqQ"
   },
   "source": [
    "And finally, let's use the vocabulary you've built to map text lines into neural network-digestible matrices."
   ]
  },
  {
   "cell_type": "code",
   "metadata": {
    "id": "nVXc6Cd62RqQ",
    "ExecuteTime": {
     "end_time": "2025-03-27T08:35:43.926960Z",
     "start_time": "2025-03-27T08:35:43.922941Z"
    }
   },
   "source": [
    "UNK_IX, PAD_IX = map(token_to_id.get, [UNK, PAD])\n",
    "\n",
    "def as_matrix(sequences, max_len=None):\n",
    "    \"\"\" Convert a list of tokens into a matrix with padding \"\"\"\n",
    "    if isinstance(sequences[0], str):\n",
    "        sequences = list(map(str.split, sequences))\n",
    "\n",
    "    max_len = min(max(map(len, sequences)), max_len or float('inf'))\n",
    "\n",
    "    matrix = np.full((len(sequences), max_len), np.int32(PAD_IX))\n",
    "    for i,seq in enumerate(sequences):\n",
    "        row_ix = [token_to_id.get(word, UNK_IX) for word in seq[:max_len]]\n",
    "        matrix[i, :len(row_ix)] = row_ix\n",
    "\n",
    "    return matrix"
   ],
   "outputs": [],
   "execution_count": 20
  },
  {
   "cell_type": "code",
   "metadata": {
    "id": "tU1TrTOV2RqR",
    "ExecuteTime": {
     "end_time": "2025-03-27T08:35:46.140461Z",
     "start_time": "2025-03-27T08:35:46.136178Z"
    }
   },
   "source": [
    "print(\"Lines:\")\n",
    "print('\\n'.join(data[\"Title\"][::100000].values), end='\\n\\n')\n",
    "print(\"Matrix:\")\n",
    "print(as_matrix(data[\"Title\"][::100000]))"
   ],
   "outputs": [
    {
     "name": "stdout",
     "output_type": "stream",
     "text": [
      "Lines:\n",
      "engineering systems analyst\n",
      "hr assistant\n",
      "senior ec & i engineer\n",
      "\n",
      "Matrix:\n",
      "[[10807 30161  2166     1     1]\n",
      " [15020  2844     1     1     1]\n",
      " [27645 10201    16 15215 10804]]\n"
     ]
    }
   ],
   "execution_count": 21
  },
  {
   "cell_type": "markdown",
   "metadata": {
    "id": "zMPGp3gB2RqR"
   },
   "source": [
    "Теперь давайте закодируем имеющиеся у нас категориальные данные.\n",
    "\n",
    "Для простоты мы будем использовать кодировку one-hot. Но естесна тот же tfidf даст качество выше"
   ]
  },
  {
   "cell_type": "code",
   "metadata": {
    "colab": {
     "base_uri": "https://localhost:8080/",
     "height": 93
    },
    "id": "7DFM83G52RqR",
    "outputId": "ec5f2fb0-7528-4903-e4e0-fad9e4329283",
    "ExecuteTime": {
     "end_time": "2025-03-27T08:35:52.986194Z",
     "start_time": "2025-03-27T08:35:48.619435Z"
    }
   },
   "source": [
    "from sklearn.feature_extraction import DictVectorizer\n",
    "\n",
    "# we only consider top-1k most frequent companies to minimize memory usage\n",
    "top_companies, top_counts = zip(*Counter(data['Company']).most_common(1000))\n",
    "recognized_companies = set(top_companies)\n",
    "data[\"Company\"] = data[\"Company\"].apply(lambda comp: comp if comp in recognized_companies else \"Other\")\n",
    "\n",
    "categorical_vectorizer = DictVectorizer(dtype=np.float32, sparse=False)\n",
    "categorical_vectorizer.fit(data[categorical_columns].apply(dict, axis=1))"
   ],
   "outputs": [
    {
     "data": {
      "text/plain": [
       "DictVectorizer(dtype=<class 'numpy.float32'>, sparse=False)"
      ],
      "text/html": [
       "<style>#sk-container-id-1 {\n",
       "  /* Definition of color scheme common for light and dark mode */\n",
       "  --sklearn-color-text: #000;\n",
       "  --sklearn-color-text-muted: #666;\n",
       "  --sklearn-color-line: gray;\n",
       "  /* Definition of color scheme for unfitted estimators */\n",
       "  --sklearn-color-unfitted-level-0: #fff5e6;\n",
       "  --sklearn-color-unfitted-level-1: #f6e4d2;\n",
       "  --sklearn-color-unfitted-level-2: #ffe0b3;\n",
       "  --sklearn-color-unfitted-level-3: chocolate;\n",
       "  /* Definition of color scheme for fitted estimators */\n",
       "  --sklearn-color-fitted-level-0: #f0f8ff;\n",
       "  --sklearn-color-fitted-level-1: #d4ebff;\n",
       "  --sklearn-color-fitted-level-2: #b3dbfd;\n",
       "  --sklearn-color-fitted-level-3: cornflowerblue;\n",
       "\n",
       "  /* Specific color for light theme */\n",
       "  --sklearn-color-text-on-default-background: var(--sg-text-color, var(--theme-code-foreground, var(--jp-content-font-color1, black)));\n",
       "  --sklearn-color-background: var(--sg-background-color, var(--theme-background, var(--jp-layout-color0, white)));\n",
       "  --sklearn-color-border-box: var(--sg-text-color, var(--theme-code-foreground, var(--jp-content-font-color1, black)));\n",
       "  --sklearn-color-icon: #696969;\n",
       "\n",
       "  @media (prefers-color-scheme: dark) {\n",
       "    /* Redefinition of color scheme for dark theme */\n",
       "    --sklearn-color-text-on-default-background: var(--sg-text-color, var(--theme-code-foreground, var(--jp-content-font-color1, white)));\n",
       "    --sklearn-color-background: var(--sg-background-color, var(--theme-background, var(--jp-layout-color0, #111)));\n",
       "    --sklearn-color-border-box: var(--sg-text-color, var(--theme-code-foreground, var(--jp-content-font-color1, white)));\n",
       "    --sklearn-color-icon: #878787;\n",
       "  }\n",
       "}\n",
       "\n",
       "#sk-container-id-1 {\n",
       "  color: var(--sklearn-color-text);\n",
       "}\n",
       "\n",
       "#sk-container-id-1 pre {\n",
       "  padding: 0;\n",
       "}\n",
       "\n",
       "#sk-container-id-1 input.sk-hidden--visually {\n",
       "  border: 0;\n",
       "  clip: rect(1px 1px 1px 1px);\n",
       "  clip: rect(1px, 1px, 1px, 1px);\n",
       "  height: 1px;\n",
       "  margin: -1px;\n",
       "  overflow: hidden;\n",
       "  padding: 0;\n",
       "  position: absolute;\n",
       "  width: 1px;\n",
       "}\n",
       "\n",
       "#sk-container-id-1 div.sk-dashed-wrapped {\n",
       "  border: 1px dashed var(--sklearn-color-line);\n",
       "  margin: 0 0.4em 0.5em 0.4em;\n",
       "  box-sizing: border-box;\n",
       "  padding-bottom: 0.4em;\n",
       "  background-color: var(--sklearn-color-background);\n",
       "}\n",
       "\n",
       "#sk-container-id-1 div.sk-container {\n",
       "  /* jupyter's `normalize.less` sets `[hidden] { display: none; }`\n",
       "     but bootstrap.min.css set `[hidden] { display: none !important; }`\n",
       "     so we also need the `!important` here to be able to override the\n",
       "     default hidden behavior on the sphinx rendered scikit-learn.org.\n",
       "     See: https://github.com/scikit-learn/scikit-learn/issues/21755 */\n",
       "  display: inline-block !important;\n",
       "  position: relative;\n",
       "}\n",
       "\n",
       "#sk-container-id-1 div.sk-text-repr-fallback {\n",
       "  display: none;\n",
       "}\n",
       "\n",
       "div.sk-parallel-item,\n",
       "div.sk-serial,\n",
       "div.sk-item {\n",
       "  /* draw centered vertical line to link estimators */\n",
       "  background-image: linear-gradient(var(--sklearn-color-text-on-default-background), var(--sklearn-color-text-on-default-background));\n",
       "  background-size: 2px 100%;\n",
       "  background-repeat: no-repeat;\n",
       "  background-position: center center;\n",
       "}\n",
       "\n",
       "/* Parallel-specific style estimator block */\n",
       "\n",
       "#sk-container-id-1 div.sk-parallel-item::after {\n",
       "  content: \"\";\n",
       "  width: 100%;\n",
       "  border-bottom: 2px solid var(--sklearn-color-text-on-default-background);\n",
       "  flex-grow: 1;\n",
       "}\n",
       "\n",
       "#sk-container-id-1 div.sk-parallel {\n",
       "  display: flex;\n",
       "  align-items: stretch;\n",
       "  justify-content: center;\n",
       "  background-color: var(--sklearn-color-background);\n",
       "  position: relative;\n",
       "}\n",
       "\n",
       "#sk-container-id-1 div.sk-parallel-item {\n",
       "  display: flex;\n",
       "  flex-direction: column;\n",
       "}\n",
       "\n",
       "#sk-container-id-1 div.sk-parallel-item:first-child::after {\n",
       "  align-self: flex-end;\n",
       "  width: 50%;\n",
       "}\n",
       "\n",
       "#sk-container-id-1 div.sk-parallel-item:last-child::after {\n",
       "  align-self: flex-start;\n",
       "  width: 50%;\n",
       "}\n",
       "\n",
       "#sk-container-id-1 div.sk-parallel-item:only-child::after {\n",
       "  width: 0;\n",
       "}\n",
       "\n",
       "/* Serial-specific style estimator block */\n",
       "\n",
       "#sk-container-id-1 div.sk-serial {\n",
       "  display: flex;\n",
       "  flex-direction: column;\n",
       "  align-items: center;\n",
       "  background-color: var(--sklearn-color-background);\n",
       "  padding-right: 1em;\n",
       "  padding-left: 1em;\n",
       "}\n",
       "\n",
       "\n",
       "/* Toggleable style: style used for estimator/Pipeline/ColumnTransformer box that is\n",
       "clickable and can be expanded/collapsed.\n",
       "- Pipeline and ColumnTransformer use this feature and define the default style\n",
       "- Estimators will overwrite some part of the style using the `sk-estimator` class\n",
       "*/\n",
       "\n",
       "/* Pipeline and ColumnTransformer style (default) */\n",
       "\n",
       "#sk-container-id-1 div.sk-toggleable {\n",
       "  /* Default theme specific background. It is overwritten whether we have a\n",
       "  specific estimator or a Pipeline/ColumnTransformer */\n",
       "  background-color: var(--sklearn-color-background);\n",
       "}\n",
       "\n",
       "/* Toggleable label */\n",
       "#sk-container-id-1 label.sk-toggleable__label {\n",
       "  cursor: pointer;\n",
       "  display: flex;\n",
       "  width: 100%;\n",
       "  margin-bottom: 0;\n",
       "  padding: 0.5em;\n",
       "  box-sizing: border-box;\n",
       "  text-align: center;\n",
       "  align-items: start;\n",
       "  justify-content: space-between;\n",
       "  gap: 0.5em;\n",
       "}\n",
       "\n",
       "#sk-container-id-1 label.sk-toggleable__label .caption {\n",
       "  font-size: 0.6rem;\n",
       "  font-weight: lighter;\n",
       "  color: var(--sklearn-color-text-muted);\n",
       "}\n",
       "\n",
       "#sk-container-id-1 label.sk-toggleable__label-arrow:before {\n",
       "  /* Arrow on the left of the label */\n",
       "  content: \"▸\";\n",
       "  float: left;\n",
       "  margin-right: 0.25em;\n",
       "  color: var(--sklearn-color-icon);\n",
       "}\n",
       "\n",
       "#sk-container-id-1 label.sk-toggleable__label-arrow:hover:before {\n",
       "  color: var(--sklearn-color-text);\n",
       "}\n",
       "\n",
       "/* Toggleable content - dropdown */\n",
       "\n",
       "#sk-container-id-1 div.sk-toggleable__content {\n",
       "  max-height: 0;\n",
       "  max-width: 0;\n",
       "  overflow: hidden;\n",
       "  text-align: left;\n",
       "  /* unfitted */\n",
       "  background-color: var(--sklearn-color-unfitted-level-0);\n",
       "}\n",
       "\n",
       "#sk-container-id-1 div.sk-toggleable__content.fitted {\n",
       "  /* fitted */\n",
       "  background-color: var(--sklearn-color-fitted-level-0);\n",
       "}\n",
       "\n",
       "#sk-container-id-1 div.sk-toggleable__content pre {\n",
       "  margin: 0.2em;\n",
       "  border-radius: 0.25em;\n",
       "  color: var(--sklearn-color-text);\n",
       "  /* unfitted */\n",
       "  background-color: var(--sklearn-color-unfitted-level-0);\n",
       "}\n",
       "\n",
       "#sk-container-id-1 div.sk-toggleable__content.fitted pre {\n",
       "  /* unfitted */\n",
       "  background-color: var(--sklearn-color-fitted-level-0);\n",
       "}\n",
       "\n",
       "#sk-container-id-1 input.sk-toggleable__control:checked~div.sk-toggleable__content {\n",
       "  /* Expand drop-down */\n",
       "  max-height: 200px;\n",
       "  max-width: 100%;\n",
       "  overflow: auto;\n",
       "}\n",
       "\n",
       "#sk-container-id-1 input.sk-toggleable__control:checked~label.sk-toggleable__label-arrow:before {\n",
       "  content: \"▾\";\n",
       "}\n",
       "\n",
       "/* Pipeline/ColumnTransformer-specific style */\n",
       "\n",
       "#sk-container-id-1 div.sk-label input.sk-toggleable__control:checked~label.sk-toggleable__label {\n",
       "  color: var(--sklearn-color-text);\n",
       "  background-color: var(--sklearn-color-unfitted-level-2);\n",
       "}\n",
       "\n",
       "#sk-container-id-1 div.sk-label.fitted input.sk-toggleable__control:checked~label.sk-toggleable__label {\n",
       "  background-color: var(--sklearn-color-fitted-level-2);\n",
       "}\n",
       "\n",
       "/* Estimator-specific style */\n",
       "\n",
       "/* Colorize estimator box */\n",
       "#sk-container-id-1 div.sk-estimator input.sk-toggleable__control:checked~label.sk-toggleable__label {\n",
       "  /* unfitted */\n",
       "  background-color: var(--sklearn-color-unfitted-level-2);\n",
       "}\n",
       "\n",
       "#sk-container-id-1 div.sk-estimator.fitted input.sk-toggleable__control:checked~label.sk-toggleable__label {\n",
       "  /* fitted */\n",
       "  background-color: var(--sklearn-color-fitted-level-2);\n",
       "}\n",
       "\n",
       "#sk-container-id-1 div.sk-label label.sk-toggleable__label,\n",
       "#sk-container-id-1 div.sk-label label {\n",
       "  /* The background is the default theme color */\n",
       "  color: var(--sklearn-color-text-on-default-background);\n",
       "}\n",
       "\n",
       "/* On hover, darken the color of the background */\n",
       "#sk-container-id-1 div.sk-label:hover label.sk-toggleable__label {\n",
       "  color: var(--sklearn-color-text);\n",
       "  background-color: var(--sklearn-color-unfitted-level-2);\n",
       "}\n",
       "\n",
       "/* Label box, darken color on hover, fitted */\n",
       "#sk-container-id-1 div.sk-label.fitted:hover label.sk-toggleable__label.fitted {\n",
       "  color: var(--sklearn-color-text);\n",
       "  background-color: var(--sklearn-color-fitted-level-2);\n",
       "}\n",
       "\n",
       "/* Estimator label */\n",
       "\n",
       "#sk-container-id-1 div.sk-label label {\n",
       "  font-family: monospace;\n",
       "  font-weight: bold;\n",
       "  display: inline-block;\n",
       "  line-height: 1.2em;\n",
       "}\n",
       "\n",
       "#sk-container-id-1 div.sk-label-container {\n",
       "  text-align: center;\n",
       "}\n",
       "\n",
       "/* Estimator-specific */\n",
       "#sk-container-id-1 div.sk-estimator {\n",
       "  font-family: monospace;\n",
       "  border: 1px dotted var(--sklearn-color-border-box);\n",
       "  border-radius: 0.25em;\n",
       "  box-sizing: border-box;\n",
       "  margin-bottom: 0.5em;\n",
       "  /* unfitted */\n",
       "  background-color: var(--sklearn-color-unfitted-level-0);\n",
       "}\n",
       "\n",
       "#sk-container-id-1 div.sk-estimator.fitted {\n",
       "  /* fitted */\n",
       "  background-color: var(--sklearn-color-fitted-level-0);\n",
       "}\n",
       "\n",
       "/* on hover */\n",
       "#sk-container-id-1 div.sk-estimator:hover {\n",
       "  /* unfitted */\n",
       "  background-color: var(--sklearn-color-unfitted-level-2);\n",
       "}\n",
       "\n",
       "#sk-container-id-1 div.sk-estimator.fitted:hover {\n",
       "  /* fitted */\n",
       "  background-color: var(--sklearn-color-fitted-level-2);\n",
       "}\n",
       "\n",
       "/* Specification for estimator info (e.g. \"i\" and \"?\") */\n",
       "\n",
       "/* Common style for \"i\" and \"?\" */\n",
       "\n",
       ".sk-estimator-doc-link,\n",
       "a:link.sk-estimator-doc-link,\n",
       "a:visited.sk-estimator-doc-link {\n",
       "  float: right;\n",
       "  font-size: smaller;\n",
       "  line-height: 1em;\n",
       "  font-family: monospace;\n",
       "  background-color: var(--sklearn-color-background);\n",
       "  border-radius: 1em;\n",
       "  height: 1em;\n",
       "  width: 1em;\n",
       "  text-decoration: none !important;\n",
       "  margin-left: 0.5em;\n",
       "  text-align: center;\n",
       "  /* unfitted */\n",
       "  border: var(--sklearn-color-unfitted-level-1) 1pt solid;\n",
       "  color: var(--sklearn-color-unfitted-level-1);\n",
       "}\n",
       "\n",
       ".sk-estimator-doc-link.fitted,\n",
       "a:link.sk-estimator-doc-link.fitted,\n",
       "a:visited.sk-estimator-doc-link.fitted {\n",
       "  /* fitted */\n",
       "  border: var(--sklearn-color-fitted-level-1) 1pt solid;\n",
       "  color: var(--sklearn-color-fitted-level-1);\n",
       "}\n",
       "\n",
       "/* On hover */\n",
       "div.sk-estimator:hover .sk-estimator-doc-link:hover,\n",
       ".sk-estimator-doc-link:hover,\n",
       "div.sk-label-container:hover .sk-estimator-doc-link:hover,\n",
       ".sk-estimator-doc-link:hover {\n",
       "  /* unfitted */\n",
       "  background-color: var(--sklearn-color-unfitted-level-3);\n",
       "  color: var(--sklearn-color-background);\n",
       "  text-decoration: none;\n",
       "}\n",
       "\n",
       "div.sk-estimator.fitted:hover .sk-estimator-doc-link.fitted:hover,\n",
       ".sk-estimator-doc-link.fitted:hover,\n",
       "div.sk-label-container:hover .sk-estimator-doc-link.fitted:hover,\n",
       ".sk-estimator-doc-link.fitted:hover {\n",
       "  /* fitted */\n",
       "  background-color: var(--sklearn-color-fitted-level-3);\n",
       "  color: var(--sklearn-color-background);\n",
       "  text-decoration: none;\n",
       "}\n",
       "\n",
       "/* Span, style for the box shown on hovering the info icon */\n",
       ".sk-estimator-doc-link span {\n",
       "  display: none;\n",
       "  z-index: 9999;\n",
       "  position: relative;\n",
       "  font-weight: normal;\n",
       "  right: .2ex;\n",
       "  padding: .5ex;\n",
       "  margin: .5ex;\n",
       "  width: min-content;\n",
       "  min-width: 20ex;\n",
       "  max-width: 50ex;\n",
       "  color: var(--sklearn-color-text);\n",
       "  box-shadow: 2pt 2pt 4pt #999;\n",
       "  /* unfitted */\n",
       "  background: var(--sklearn-color-unfitted-level-0);\n",
       "  border: .5pt solid var(--sklearn-color-unfitted-level-3);\n",
       "}\n",
       "\n",
       ".sk-estimator-doc-link.fitted span {\n",
       "  /* fitted */\n",
       "  background: var(--sklearn-color-fitted-level-0);\n",
       "  border: var(--sklearn-color-fitted-level-3);\n",
       "}\n",
       "\n",
       ".sk-estimator-doc-link:hover span {\n",
       "  display: block;\n",
       "}\n",
       "\n",
       "/* \"?\"-specific style due to the `<a>` HTML tag */\n",
       "\n",
       "#sk-container-id-1 a.estimator_doc_link {\n",
       "  float: right;\n",
       "  font-size: 1rem;\n",
       "  line-height: 1em;\n",
       "  font-family: monospace;\n",
       "  background-color: var(--sklearn-color-background);\n",
       "  border-radius: 1rem;\n",
       "  height: 1rem;\n",
       "  width: 1rem;\n",
       "  text-decoration: none;\n",
       "  /* unfitted */\n",
       "  color: var(--sklearn-color-unfitted-level-1);\n",
       "  border: var(--sklearn-color-unfitted-level-1) 1pt solid;\n",
       "}\n",
       "\n",
       "#sk-container-id-1 a.estimator_doc_link.fitted {\n",
       "  /* fitted */\n",
       "  border: var(--sklearn-color-fitted-level-1) 1pt solid;\n",
       "  color: var(--sklearn-color-fitted-level-1);\n",
       "}\n",
       "\n",
       "/* On hover */\n",
       "#sk-container-id-1 a.estimator_doc_link:hover {\n",
       "  /* unfitted */\n",
       "  background-color: var(--sklearn-color-unfitted-level-3);\n",
       "  color: var(--sklearn-color-background);\n",
       "  text-decoration: none;\n",
       "}\n",
       "\n",
       "#sk-container-id-1 a.estimator_doc_link.fitted:hover {\n",
       "  /* fitted */\n",
       "  background-color: var(--sklearn-color-fitted-level-3);\n",
       "}\n",
       "</style><div id=\"sk-container-id-1\" class=\"sk-top-container\"><div class=\"sk-text-repr-fallback\"><pre>DictVectorizer(dtype=&lt;class &#x27;numpy.float32&#x27;&gt;, sparse=False)</pre><b>In a Jupyter environment, please rerun this cell to show the HTML representation or trust the notebook. <br />On GitHub, the HTML representation is unable to render, please try loading this page with nbviewer.org.</b></div><div class=\"sk-container\" hidden><div class=\"sk-item\"><div class=\"sk-estimator fitted sk-toggleable\"><input class=\"sk-toggleable__control sk-hidden--visually\" id=\"sk-estimator-id-1\" type=\"checkbox\" checked><label for=\"sk-estimator-id-1\" class=\"sk-toggleable__label fitted sk-toggleable__label-arrow\"><div><div>DictVectorizer</div></div><div><a class=\"sk-estimator-doc-link fitted\" rel=\"noreferrer\" target=\"_blank\" href=\"https://scikit-learn.org/1.6/modules/generated/sklearn.feature_extraction.DictVectorizer.html\">?<span>Documentation for DictVectorizer</span></a><span class=\"sk-estimator-doc-link fitted\">i<span>Fitted</span></span></div></label><div class=\"sk-toggleable__content fitted\"><pre>DictVectorizer(dtype=&lt;class &#x27;numpy.float32&#x27;&gt;, sparse=False)</pre></div> </div></div></div></div>"
      ]
     },
     "execution_count": 22,
     "metadata": {},
     "output_type": "execute_result"
    }
   ],
   "execution_count": 22
  },
  {
   "cell_type": "markdown",
   "metadata": {
    "id": "cghlY98L2RqR"
   },
   "source": [
    "### DL Part (Хелло Д.В. Сош.)\n",
    "\n",
    "После того как мы научились токенизировать данные, давайте подкрадемся к машинному обучению.\n",
    "\n",
    "Для простоты - обычный train test split"
   ]
  },
  {
   "cell_type": "code",
   "metadata": {
    "colab": {
     "base_uri": "https://localhost:8080/"
    },
    "id": "fT4URTg42RqR",
    "outputId": "d9aa8fed-1c04-4d3f-a6b5-970cbf2cd290",
    "ExecuteTime": {
     "end_time": "2025-03-27T08:35:57.868807Z",
     "start_time": "2025-03-27T08:35:57.800270Z"
    }
   },
   "source": [
    "from sklearn.model_selection import train_test_split\n",
    "\n",
    "data_train, data_val = train_test_split(data, test_size=0.2, random_state=42)\n",
    "data_train.index = range(len(data_train))\n",
    "data_val.index = range(len(data_val))\n",
    "\n",
    "print(\"Train size = \", len(data_train))\n",
    "print(\"Validation size = \", len(data_val))"
   ],
   "outputs": [
    {
     "name": "stdout",
     "output_type": "stream",
     "text": [
      "Train size =  195814\n",
      "Validation size =  48954\n"
     ]
    }
   ],
   "execution_count": 23
  },
  {
   "cell_type": "markdown",
   "metadata": {
    "id": "bSoY2zxUaXhw"
   },
   "source": [
    "ЕСТЬ ВОПРОСИК!!!"
   ]
  },
  {
   "cell_type": "code",
   "metadata": {
    "id": "3AWKFWlA2RqR",
    "ExecuteTime": {
     "end_time": "2025-03-27T08:36:03.675831Z",
     "start_time": "2025-03-27T08:36:02.261942Z"
    }
   },
   "source": [
    "import torch\n",
    "import torch.nn as nn\n",
    "\n",
    "device = 'cuda' if torch.cuda.is_available() else 'cpu'\n",
    "\n",
    "\n",
    "def to_tensors(batch, device):\n",
    "    batch_tensors = dict()\n",
    "    for key, arr in batch.items():\n",
    "        if key in [\"FullDescription\", \"Title\"]:\n",
    "            batch_tensors[key] = torch.tensor(arr, device=device, dtype=torch.int64)\n",
    "        else:\n",
    "            batch_tensors[key] = torch.tensor(arr, device=device)\n",
    "    return batch_tensors\n",
    "\n",
    "\n",
    "def make_batch(data, max_len=None, word_dropout=0, device=device):\n",
    "    \"\"\"\n",
    "    Creates a keras-friendly dict from the batch data.\n",
    "    :param word_dropout: replaces token index with UNK_IX with this probability\n",
    "    :returns: a dict with {'title' : int64[batch, title_max_len]\n",
    "    \"\"\"\n",
    "    batch = {}\n",
    "    batch[\"Title\"] = as_matrix(data[\"Title\"].values, max_len)\n",
    "    batch[\"FullDescription\"] = as_matrix(data[\"FullDescription\"].values, max_len)\n",
    "    batch['Categorical'] = categorical_vectorizer.transform(data[categorical_columns].apply(dict, axis=1))\n",
    "\n",
    "    if word_dropout != 0:\n",
    "        batch[\"FullDescription\"] = apply_word_dropout(batch[\"FullDescription\"], 1. - word_dropout)\n",
    "\n",
    "    if TARGET_COLUMN in data.columns:\n",
    "        batch[TARGET_COLUMN] = data[TARGET_COLUMN].values\n",
    "\n",
    "    return to_tensors(batch, device)\n",
    "\n",
    "def apply_word_dropout(matrix, keep_prop, replace_with=UNK_IX, pad_ix=PAD_IX,):\n",
    "    dropout_mask = np.random.choice(2, np.shape(matrix), p=[keep_prop, 1 - keep_prop])\n",
    "    dropout_mask &= matrix != pad_ix\n",
    "    return np.choose(dropout_mask, [matrix, np.full_like(matrix, replace_with)])"
   ],
   "outputs": [],
   "execution_count": 24
  },
  {
   "cell_type": "code",
   "metadata": {
    "id": "TwJnMUwP2RqR",
    "scrolled": true,
    "ExecuteTime": {
     "end_time": "2025-03-27T08:36:07.520372Z",
     "start_time": "2025-03-27T08:36:07.266253Z"
    }
   },
   "source": [
    "make_batch(data_train[:3], max_len=10)"
   ],
   "outputs": [
    {
     "data": {
      "text/plain": [
       "{'Title': tensor([[27645, 29893, 33674,     1,     1,     1,     1],\n",
       "         [29239,   197, 19175, 20042, 15554, 23162,  4051],\n",
       "         [10609, 30412, 17746,    33,  8705, 29157,    65]], device='cuda:0'),\n",
       " 'FullDescription': tensor([[27645, 29893, 33674, 32939,   982, 27645, 29893, 33674, 16451, 32939],\n",
       "         [29239,   197, 19175, 20042, 15554, 23162,  4051, 25511,   907,    82],\n",
       "         [30746, 21956, 20601,  6409, 16451,  8165, 27493,   982, 30412, 17746]],\n",
       "        device='cuda:0'),\n",
       " 'Categorical': tensor([[0., 0., 0.,  ..., 0., 0., 0.],\n",
       "         [0., 0., 0.,  ..., 0., 0., 0.],\n",
       "         [0., 0., 0.,  ..., 0., 0., 0.]], device='cuda:0'),\n",
       " 'Log1pSalary': tensor([ 9.7115, 10.4631, 10.7144], device='cuda:0')}"
      ]
     },
     "execution_count": 25,
     "metadata": {},
     "output_type": "execute_result"
    }
   ],
   "execution_count": 25
  },
  {
   "cell_type": "markdown",
   "metadata": {
    "id": "i79kWoxY2RqS"
   },
   "source": [
    "#### Архитектура\n",
    "\n",
    "Наша базовая модель состоит из трех частей:\n",
    "* Title Encoder\n",
    "* Description encoder\n",
    "* Categorical features encoder\n",
    "\n",
    "Затем мы объединим все 3 реза в одну сетку, которая предсказывает зарплату.\n"
   ]
  },
  {
   "cell_type": "markdown",
   "metadata": {
    "id": "r6OEYNRPcnYu"
   },
   "source": [
    "\n",
    "<img src=\"https://i.imgur.com/yP8CgVK.png\" alt=\"Image\" width=\"400\"/>"
   ]
  },
  {
   "metadata": {
    "ExecuteTime": {
     "end_time": "2025-03-27T08:36:15.484592Z",
     "start_time": "2025-03-27T08:36:15.478071Z"
    }
   },
   "cell_type": "code",
   "source": [
    "class SalaryPredictor(nn.Module):\n",
    "    def __init__(self, n_tokens=len(tokens), n_cat_features=len(categorical_vectorizer.vocabulary_), hid_size=64):\n",
    "        super().__init__()\n",
    "        self.emb = nn.Embedding(n_tokens, hid_size)\n",
    "\n",
    "        self.conv_title = nn.Conv1d(hid_size, hid_size * 2, kernel_size=3)\n",
    "        self.conv_desc = nn.Conv1d(hid_size, hid_size * 2, kernel_size=3)\n",
    "        self.lstm_title = nn.LSTM(hid_size * 2, hid_size * 2, num_layers=1, bidirectional=True)\n",
    "        self.lstm_desc = nn.LSTM(hid_size * 2, hid_size * 2, num_layers=1, bidirectional=True)\n",
    "\n",
    "        self.cat = nn.Linear(n_cat_features, hid_size * 2)\n",
    "        self.final_layer = nn.Linear(hid_size * 10, 1)\n",
    "        self.relu = nn.ReLU()\n",
    "\n",
    "    def forward(self, batch):\n",
    "        embedding_title = self.emb(batch['Title']).transpose(2, 1)\n",
    "        title_encoder = self.conv_title(embedding_title)\n",
    "        title_encoder = self.relu(title_encoder)\n",
    "        title_encoder = title_encoder.transpose(1, 2)\n",
    "        title_encoder, _ = self.lstm_title(title_encoder)\n",
    "        title_encoder = title_encoder.max(dim=1).values\n",
    "\n",
    "        embedding_desc = self.emb(batch['FullDescription']).transpose(2, 1)\n",
    "        desc_encoder = self.conv_desc(embedding_desc)\n",
    "        desc_encoder = self.relu(desc_encoder)\n",
    "        desc_encoder = desc_encoder.transpose(1, 2)\n",
    "        desc_encoder, _ = self.lstm_desc(desc_encoder)\n",
    "        desc_encoder = desc_encoder.max(dim=1).values\n",
    "\n",
    "        cat_encoder = self.cat(batch['Categorical'])\n",
    "\n",
    "        result = torch.cat([title_encoder, desc_encoder, cat_encoder], dim=1)\n",
    "        result = self.final_layer(result)\n",
    "        return result.squeeze(dim=1)\n"
   ],
   "outputs": [],
   "execution_count": 26
  },
  {
   "cell_type": "code",
   "metadata": {
    "id": "F40tb5ZA2RqS",
    "ExecuteTime": {
     "end_time": "2025-03-27T08:36:19.019125Z",
     "start_time": "2025-03-27T08:36:18.730658Z"
    }
   },
   "source": [
    "model = SalaryPredictor().to(device)\n",
    "batch = make_batch(data_train[:100], device=device)\n",
    "criterion = nn.MSELoss()\n",
    "\n",
    "dummy_pred = model(batch)\n",
    "dummy_loss = criterion(dummy_pred, batch[TARGET_COLUMN])\n",
    "assert dummy_pred.shape == torch.Size([100])\n",
    "assert len(torch.unique(dummy_pred)) > 20, \"model returns suspiciously few unique outputs. Check your initialization\"\n",
    "assert dummy_loss.ndim == 0 and 0. <= dummy_loss <= 250., \"make sure you minimize MSE\""
   ],
   "outputs": [],
   "execution_count": 27
  },
  {
   "cell_type": "markdown",
   "metadata": {
    "id": "0nSdCOhL2RqS"
   },
   "source": [
    "#### Обучение и оценка\n",
    "\n",
    "Как обычно, мы будем кормить нашего монстра случайными минибатчами данных.\n",
    "\n",
    "В процессе обучения мы хотим отслеживать не только функцию потерь, которая вычисляется в логарифмическом пространстве, но и фактическую ошибку, измеряемую в долларах."
   ]
  },
  {
   "cell_type": "code",
   "metadata": {
    "id": "il-9m2Bx2RqS",
    "ExecuteTime": {
     "end_time": "2025-03-27T08:36:22.299680Z",
     "start_time": "2025-03-27T08:36:22.296365Z"
    }
   },
   "source": [
    "def iterate_minibatches(data, batch_size=256, shuffle=True, cycle=False, device=device, **kwargs):\n",
    "    \"\"\" iterates minibatches of data in random order \"\"\"\n",
    "    while True:\n",
    "        indices = np.arange(len(data))\n",
    "        if shuffle:\n",
    "            indices = np.random.permutation(indices)\n",
    "\n",
    "        for start in range(0, len(indices), batch_size):\n",
    "            batch = make_batch(data.iloc[indices[start : start + batch_size]], device=device, **kwargs)\n",
    "            yield batch\n",
    "\n",
    "        if not cycle: break"
   ],
   "outputs": [],
   "execution_count": 28
  },
  {
   "cell_type": "markdown",
   "metadata": {
    "id": "1l13mkO42RqT"
   },
   "source": [
    "## Обучение модели (И ОСНОВНЫЕ ИДЕИ)\n",
    "\n",
    "Теперь мы можем подогнать нашу модель под обычные минибатчи. Забавность в том, что мы обучаемся на бесконечном потоке минибатчей, создаваемых функцией `iterate_minibatches`. Экономия памяти, ю ноу?"
   ]
  },
  {
   "cell_type": "markdown",
   "metadata": {
    "id": "RNAiy7ReaKzz"
   },
   "source": [
    "\n",
    "Главная задача - использовать некоторые трюки, которым мы научились и проанализировать, можете ли вы улучшить __validation MAE__. Попробуйте __как минимум 3 варианта__, напишите репорт и добейтесь MAE < 0.11. Больше идей (и реализаций) = больше бонусных баллов.\n",
    "\n",
    "__Только все делаем нормально:__ постройте кривые обучения в MAE/epoch, сравните результаты обучения / метрик моделей друг с другом\n",
    "\n",
    "Вы можете использовать как __pytorch__ или __tensorflow__, так и любой другой фреймворк (например, чистый __keras__). Не стесняйтесь адаптировать код семинара под свои нужды."
   ]
  },
  {
   "cell_type": "markdown",
   "metadata": {
    "id": "bXcj6PtsaKzz"
   },
   "source": [
    "## Рекомендуемые варианты\n",
    "\n",
    "#### A) Архитектура CNN\n",
    "\n",
    "Все известные трюки, связанные с полносвязными и сверточными нейронными сетями, применимы и здесь:\n",
    "* Dropout. Без комментариев.\n",
    "* Batch Norm. В этот раз используем `nn.BatchNorm*`/`L.BatchNormalization`.\n",
    "* Параллельные сверточные слои. Идея заключается в том, чтобы применить несколько `nn.Conv1d` к одним и тем же эмбеддингам и объединить выходные каналы.\n",
    "* Больше слоев, больше нейронов, как обычно...\n",
    "\n",
    "#### B) Эксперименты с пулингом\n",
    "\n",
    "Существует несколько способов пулинга:\n",
    "* Max pooling\n",
    "* Mean pooling\n",
    "* Softmax pooling:\n",
    "$$ out_{i, t} = \\sum_t {h_{i,t} \\cdot {{e ^ {h_{i, t}}} \\over \\sum_\\tau e ^ {h_{j, \\tau}} } } $$\n",
    "\n",
    "* Attentive pooling:\n",
    "$$ out_{i, t} = \\sum_t {h_{i,t} \\cdot Attn(h_t)}$$\n",
    "\n",
    "где $$ Attn(h_t) = {{e ^ {NN_{attn}(h_t)}} \\over \\sum_\\tau e ^ {NN_{attn}(h_\\tau)}}  $$,\n",
    "а $NN_{attn}$ — это полносвязный слой.\n",
    "\n",
    "Оптимальные результаты обычно достигаются путем объединения нескольких различных видов пулинга, включая несколько Attentive pooling с разными $NN_{attn}$.\n",
    "\n",
    "\n",
    "#### C) Работа со словами\n",
    "\n",
    "Не всегда разумно обучать эмбеддинги с нуля. Вот несколько приемов:\n",
    "\n",
    "* Используйте предобученные эмбеддинги из `gensim.downloader.load`. См. последнюю лекцию.\n",
    "* Начните с предобученных эмбеддингов, а затем дообучайте их с помощью градиентного спуска. Вы можете загрузить предобученные эмбеддинги, например, [отсюда](http://nlp.stanford.edu/data/glove.6B.zip)\n",
    "* Используйте одну и ту же матрицу эмбеддингов для векторизаторов заголовков и описаний.\n",
    "\n",
    "#### D) Использование рекуррентных сетей\n",
    "\n",
    "Мы уже узнали, что рекуррентные сети могут быть полезны в моделировании последовательностей. Оказывается, они могут быть полезны и для классификации, с некоторыми хитростями...\n",
    "\n",
    "* Как и в случае со сверточными слоями, выход LSTM следует свести к вектору фиксированного размера с помощью одного из пулингов.\n",
    "* Поскольку вы заранее знаете весь текст, используйте двунаправленную RNN:\n",
    "  * Запустите одну LSTM слева направо.\n",
    "  * Запустите другую параллельно справа налево.\n",
    "  * Объедините их выходные последовательности по оси единиц (dim=-1).\n",
    "\n",
    "* Возможно, хорошей идеей будет смешать сверточные и рекуррентные слои для заголовков и описаний.\n",
    "\n",
    "#### E) Серьезная оптимизация\n",
    "\n",
    "* Не обязательно тренировать модель 100 эпох. Используйте раннюю остановку (early stopping). Если вы никогда этого не делали, взгляните на [callback ранней остановки в Keras](https://keras.io/callbacks/#earlystopping) или в [pytorch(lightning)](https://pytorch-lightning.readthedocs.io/en/latest/common/early_stopping.html).\n",
    "  * В двух словах, тренируйте модель до тех пор, пока валидация не начнет ухудшаться.\n",
    "  * Сохраняйте лучший по валидации снимок модели через `model.save(file_name)`.\n",
    "\n",
    "Удачи! И да пребудет с вами сила!"
   ]
  },
  {
   "cell_type": "code",
   "metadata": {
    "id": "tgmz6eIe2RqT",
    "ExecuteTime": {
     "end_time": "2025-03-27T08:36:27.247960Z",
     "start_time": "2025-03-27T08:36:27.244451Z"
    }
   },
   "source": [
    "BATCH_SIZE = 16\n",
    "EPOCHS = 30"
   ],
   "outputs": [],
   "execution_count": 29
  },
  {
   "cell_type": "code",
   "metadata": {
    "id": "wR25vC1Z2RqT",
    "ExecuteTime": {
     "end_time": "2025-03-27T08:36:32.294460Z",
     "start_time": "2025-03-27T08:36:32.290125Z"
    }
   },
   "source": [
    "def print_metrics(model, data, batch_size=BATCH_SIZE, name=\"\", device=torch.device('cpu'), **kw):\n",
    "    squared_error = abs_error = num_samples = 0.0\n",
    "    model.eval()\n",
    "    with torch.no_grad():\n",
    "        for batch in iterate_minibatches(data, batch_size=batch_size, shuffle=False, device=device, **kw):\n",
    "            batch_pred = model(batch)\n",
    "            batch_target = batch[TARGET_COLUMN]\n",
    "            squared_error += torch.sum(torch.square(batch_pred - batch_target))\n",
    "            abs_error += torch.sum(torch.abs(batch_pred - batch_target))\n",
    "            num_samples += len(batch_pred)\n",
    "    mse = squared_error.detach().cpu().numpy() / num_samples\n",
    "    mae = abs_error.detach().cpu().numpy() / num_samples\n",
    "    print(\"%s results:\" % (name or \"\"))\n",
    "    print(\"Mean square error: %.5f\" % mse)\n",
    "    print(\"Mean absolute error: %.5f\" % mae)\n",
    "    return mse, mae"
   ],
   "outputs": [],
   "execution_count": 30
  },
  {
   "metadata": {
    "ExecuteTime": {
     "end_time": "2025-03-27T08:36:42.823233Z",
     "start_time": "2025-03-27T08:36:41.720256Z"
    }
   },
   "cell_type": "code",
   "source": [
    "model = SalaryPredictor().to(device)\n",
    "criterion = nn.MSELoss(reduction='sum')\n",
    "optimizer = torch.optim.Adam(model.parameters(), lr=1e-4)\n",
    "lr_scheduler = torch.optim.lr_scheduler.ReduceLROnPlateau(optimizer,\n",
    "                                                          mode='min',\n",
    "                                                          factor=0.1,\n",
    "                                                          patience=2,\n",
    "                                                          threshold=0.005,\n",
    "                                                          threshold_mode='rel',\n",
    "                                                          cooldown=0, min_lr=0, eps=1e-8)"
   ],
   "outputs": [],
   "execution_count": 31
  },
  {
   "metadata": {
    "ExecuteTime": {
     "end_time": "2025-03-27T08:37:47.979777Z",
     "start_time": "2025-03-27T08:37:47.976023Z"
    }
   },
   "cell_type": "code",
   "source": "df_results = pd.DataFrame(columns=['mse', 'mae', 'lr'])",
   "outputs": [],
   "execution_count": 33
  },
  {
   "metadata": {
    "ExecuteTime": {
     "end_time": "2025-03-27T09:48:38.427243Z",
     "start_time": "2025-03-27T08:38:23.237803Z"
    }
   },
   "cell_type": "code",
   "source": [
    "from tqdm.auto import tqdm\n",
    "\n",
    "for epoch in range(EPOCHS):\n",
    "    print(f\"epoch: {epoch}\")\n",
    "    model.train()\n",
    "    for i, batch in tqdm(enumerate(iterate_minibatches(data_train, batch_size=BATCH_SIZE, device=device)),\n",
    "                         total=len(data_train) // BATCH_SIZE):\n",
    "        pred = model(batch)\n",
    "        loss = criterion(pred, batch[TARGET_COLUMN])\n",
    "        loss.backward()\n",
    "        optimizer.step()\n",
    "        optimizer.zero_grad()\n",
    "\n",
    "    mse, mae = print_metrics(model, data_val, device=device)\n",
    "    lr_scheduler.step(mae)\n",
    "    lr = lr_scheduler._last_lr[0]\n",
    "    df_results.loc[epoch] = {'mse': mse, 'mae': mae, 'lr': lr}\n",
    "    if mae <= 0.11: break"
   ],
   "outputs": [
    {
     "name": "stdout",
     "output_type": "stream",
     "text": [
      "epoch: 0\n"
     ]
    },
    {
     "data": {
      "text/plain": [
       "  0%|          | 0/12238 [00:00<?, ?it/s]"
      ],
      "application/vnd.jupyter.widget-view+json": {
       "version_major": 2,
       "version_minor": 0,
       "model_id": "219cfa44770c4974b187c5db5fd6cbef"
      }
     },
     "metadata": {},
     "output_type": "display_data"
    },
    {
     "name": "stdout",
     "output_type": "stream",
     "text": [
      " results:\n",
      "Mean square error: 0.10374\n",
      "Mean absolute error: 0.24493\n",
      "epoch: 1\n"
     ]
    },
    {
     "data": {
      "text/plain": [
       "  0%|          | 0/12238 [00:00<?, ?it/s]"
      ],
      "application/vnd.jupyter.widget-view+json": {
       "version_major": 2,
       "version_minor": 0,
       "model_id": "69821776b2c44cdeb91091f27c7a2df7"
      }
     },
     "metadata": {},
     "output_type": "display_data"
    },
    {
     "name": "stdout",
     "output_type": "stream",
     "text": [
      " results:\n",
      "Mean square error: 0.08452\n",
      "Mean absolute error: 0.21837\n",
      "epoch: 2\n"
     ]
    },
    {
     "data": {
      "text/plain": [
       "  0%|          | 0/12238 [00:00<?, ?it/s]"
      ],
      "application/vnd.jupyter.widget-view+json": {
       "version_major": 2,
       "version_minor": 0,
       "model_id": "af9a6e49ae9944d3af257c2c433be68a"
      }
     },
     "metadata": {},
     "output_type": "display_data"
    },
    {
     "name": "stdout",
     "output_type": "stream",
     "text": [
      " results:\n",
      "Mean square error: 0.07749\n",
      "Mean absolute error: 0.20831\n",
      "epoch: 3\n"
     ]
    },
    {
     "data": {
      "text/plain": [
       "  0%|          | 0/12238 [00:00<?, ?it/s]"
      ],
      "application/vnd.jupyter.widget-view+json": {
       "version_major": 2,
       "version_minor": 0,
       "model_id": "3a5234ed557049368f417db70c68c180"
      }
     },
     "metadata": {},
     "output_type": "display_data"
    },
    {
     "name": "stdout",
     "output_type": "stream",
     "text": [
      " results:\n",
      "Mean square error: 0.07340\n",
      "Mean absolute error: 0.20114\n",
      "epoch: 4\n"
     ]
    },
    {
     "data": {
      "text/plain": [
       "  0%|          | 0/12238 [00:00<?, ?it/s]"
      ],
      "application/vnd.jupyter.widget-view+json": {
       "version_major": 2,
       "version_minor": 0,
       "model_id": "2969526a25d949f68ffe53d9d4a92f9f"
      }
     },
     "metadata": {},
     "output_type": "display_data"
    },
    {
     "name": "stdout",
     "output_type": "stream",
     "text": [
      " results:\n",
      "Mean square error: 0.06857\n",
      "Mean absolute error: 0.19329\n",
      "epoch: 5\n"
     ]
    },
    {
     "data": {
      "text/plain": [
       "  0%|          | 0/12238 [00:00<?, ?it/s]"
      ],
      "application/vnd.jupyter.widget-view+json": {
       "version_major": 2,
       "version_minor": 0,
       "model_id": "752ca5cb8a1f45ca98269255e3e2fd3e"
      }
     },
     "metadata": {},
     "output_type": "display_data"
    },
    {
     "name": "stdout",
     "output_type": "stream",
     "text": [
      " results:\n",
      "Mean square error: 0.06563\n",
      "Mean absolute error: 0.18903\n",
      "epoch: 6\n"
     ]
    },
    {
     "data": {
      "text/plain": [
       "  0%|          | 0/12238 [00:00<?, ?it/s]"
      ],
      "application/vnd.jupyter.widget-view+json": {
       "version_major": 2,
       "version_minor": 0,
       "model_id": "2d287d3005a04d0da68be0d473fd5c1e"
      }
     },
     "metadata": {},
     "output_type": "display_data"
    },
    {
     "name": "stdout",
     "output_type": "stream",
     "text": [
      " results:\n",
      "Mean square error: 0.06775\n",
      "Mean absolute error: 0.19288\n",
      "epoch: 7\n"
     ]
    },
    {
     "data": {
      "text/plain": [
       "  0%|          | 0/12238 [00:00<?, ?it/s]"
      ],
      "application/vnd.jupyter.widget-view+json": {
       "version_major": 2,
       "version_minor": 0,
       "model_id": "f80a91e4af514101b0895a6ed2671a90"
      }
     },
     "metadata": {},
     "output_type": "display_data"
    },
    {
     "name": "stdout",
     "output_type": "stream",
     "text": [
      " results:\n",
      "Mean square error: 0.06280\n",
      "Mean absolute error: 0.18420\n",
      "epoch: 8\n"
     ]
    },
    {
     "data": {
      "text/plain": [
       "  0%|          | 0/12238 [00:00<?, ?it/s]"
      ],
      "application/vnd.jupyter.widget-view+json": {
       "version_major": 2,
       "version_minor": 0,
       "model_id": "6edd0eeb320441449d91649f10e463f6"
      }
     },
     "metadata": {},
     "output_type": "display_data"
    },
    {
     "name": "stdout",
     "output_type": "stream",
     "text": [
      " results:\n",
      "Mean square error: 0.06170\n",
      "Mean absolute error: 0.18235\n",
      "epoch: 9\n"
     ]
    },
    {
     "data": {
      "text/plain": [
       "  0%|          | 0/12238 [00:00<?, ?it/s]"
      ],
      "application/vnd.jupyter.widget-view+json": {
       "version_major": 2,
       "version_minor": 0,
       "model_id": "b7f5aa32bb4d4f018acd68a92f55007b"
      }
     },
     "metadata": {},
     "output_type": "display_data"
    },
    {
     "name": "stdout",
     "output_type": "stream",
     "text": [
      " results:\n",
      "Mean square error: 0.06278\n",
      "Mean absolute error: 0.18433\n",
      "epoch: 10\n"
     ]
    },
    {
     "data": {
      "text/plain": [
       "  0%|          | 0/12238 [00:00<?, ?it/s]"
      ],
      "application/vnd.jupyter.widget-view+json": {
       "version_major": 2,
       "version_minor": 0,
       "model_id": "3a84f2e913be4b36b6bda985e6c09150"
      }
     },
     "metadata": {},
     "output_type": "display_data"
    },
    {
     "name": "stdout",
     "output_type": "stream",
     "text": [
      " results:\n",
      "Mean square error: 0.06030\n",
      "Mean absolute error: 0.18044\n",
      "epoch: 11\n"
     ]
    },
    {
     "data": {
      "text/plain": [
       "  0%|          | 0/12238 [00:00<?, ?it/s]"
      ],
      "application/vnd.jupyter.widget-view+json": {
       "version_major": 2,
       "version_minor": 0,
       "model_id": "edade2524416419aa44a18ff8633dd45"
      }
     },
     "metadata": {},
     "output_type": "display_data"
    },
    {
     "name": "stdout",
     "output_type": "stream",
     "text": [
      " results:\n",
      "Mean square error: 0.05970\n",
      "Mean absolute error: 0.17939\n",
      "epoch: 12\n"
     ]
    },
    {
     "data": {
      "text/plain": [
       "  0%|          | 0/12238 [00:00<?, ?it/s]"
      ],
      "application/vnd.jupyter.widget-view+json": {
       "version_major": 2,
       "version_minor": 0,
       "model_id": "5c675e6a5ccc4b3ea518a21641e98887"
      }
     },
     "metadata": {},
     "output_type": "display_data"
    },
    {
     "name": "stdout",
     "output_type": "stream",
     "text": [
      " results:\n",
      "Mean square error: 0.05910\n",
      "Mean absolute error: 0.17826\n",
      "epoch: 13\n"
     ]
    },
    {
     "data": {
      "text/plain": [
       "  0%|          | 0/12238 [00:00<?, ?it/s]"
      ],
      "application/vnd.jupyter.widget-view+json": {
       "version_major": 2,
       "version_minor": 0,
       "model_id": "c31b4be98b184bc895e9bc8174394641"
      }
     },
     "metadata": {},
     "output_type": "display_data"
    },
    {
     "name": "stdout",
     "output_type": "stream",
     "text": [
      " results:\n",
      "Mean square error: 0.05960\n",
      "Mean absolute error: 0.17881\n",
      "epoch: 14\n"
     ]
    },
    {
     "data": {
      "text/plain": [
       "  0%|          | 0/12238 [00:00<?, ?it/s]"
      ],
      "application/vnd.jupyter.widget-view+json": {
       "version_major": 2,
       "version_minor": 0,
       "model_id": "9b72521db79b4d6ea3f0cc7e056ed68c"
      }
     },
     "metadata": {},
     "output_type": "display_data"
    },
    {
     "name": "stdout",
     "output_type": "stream",
     "text": [
      " results:\n",
      "Mean square error: 0.06069\n",
      "Mean absolute error: 0.18147\n",
      "epoch: 15\n"
     ]
    },
    {
     "data": {
      "text/plain": [
       "  0%|          | 0/12238 [00:00<?, ?it/s]"
      ],
      "application/vnd.jupyter.widget-view+json": {
       "version_major": 2,
       "version_minor": 0,
       "model_id": "835103f9057a4407a65e30817861e19c"
      }
     },
     "metadata": {},
     "output_type": "display_data"
    },
    {
     "name": "stdout",
     "output_type": "stream",
     "text": [
      " results:\n",
      "Mean square error: 0.05873\n",
      "Mean absolute error: 0.17734\n",
      "epoch: 16\n"
     ]
    },
    {
     "data": {
      "text/plain": [
       "  0%|          | 0/12238 [00:00<?, ?it/s]"
      ],
      "application/vnd.jupyter.widget-view+json": {
       "version_major": 2,
       "version_minor": 0,
       "model_id": "9623bcadbdb14d5bb12fb704138a9a85"
      }
     },
     "metadata": {},
     "output_type": "display_data"
    },
    {
     "name": "stdout",
     "output_type": "stream",
     "text": [
      " results:\n",
      "Mean square error: 0.06163\n",
      "Mean absolute error: 0.18284\n",
      "epoch: 17\n"
     ]
    },
    {
     "data": {
      "text/plain": [
       "  0%|          | 0/12238 [00:00<?, ?it/s]"
      ],
      "application/vnd.jupyter.widget-view+json": {
       "version_major": 2,
       "version_minor": 0,
       "model_id": "04651d1dc7e14af583367d6710d6a3d6"
      }
     },
     "metadata": {},
     "output_type": "display_data"
    },
    {
     "name": "stdout",
     "output_type": "stream",
     "text": [
      " results:\n",
      "Mean square error: 0.06256\n",
      "Mean absolute error: 0.18438\n",
      "epoch: 18\n"
     ]
    },
    {
     "data": {
      "text/plain": [
       "  0%|          | 0/12238 [00:00<?, ?it/s]"
      ],
      "application/vnd.jupyter.widget-view+json": {
       "version_major": 2,
       "version_minor": 0,
       "model_id": "f955fb958e724f91a2575487bc7f1e71"
      }
     },
     "metadata": {},
     "output_type": "display_data"
    },
    {
     "name": "stdout",
     "output_type": "stream",
     "text": [
      " results:\n",
      "Mean square error: 0.05873\n",
      "Mean absolute error: 0.17691\n",
      "epoch: 19\n"
     ]
    },
    {
     "data": {
      "text/plain": [
       "  0%|          | 0/12238 [00:00<?, ?it/s]"
      ],
      "application/vnd.jupyter.widget-view+json": {
       "version_major": 2,
       "version_minor": 0,
       "model_id": "13b60286dd7149d4a2920d793146701c"
      }
     },
     "metadata": {},
     "output_type": "display_data"
    },
    {
     "name": "stdout",
     "output_type": "stream",
     "text": [
      " results:\n",
      "Mean square error: 0.05722\n",
      "Mean absolute error: 0.17332\n",
      "epoch: 20\n"
     ]
    },
    {
     "data": {
      "text/plain": [
       "  0%|          | 0/12238 [00:00<?, ?it/s]"
      ],
      "application/vnd.jupyter.widget-view+json": {
       "version_major": 2,
       "version_minor": 0,
       "model_id": "1c967793facf404e8b6198b6051ff2d0"
      }
     },
     "metadata": {},
     "output_type": "display_data"
    },
    {
     "name": "stdout",
     "output_type": "stream",
     "text": [
      " results:\n",
      "Mean square error: 0.05727\n",
      "Mean absolute error: 0.17322\n",
      "epoch: 21\n"
     ]
    },
    {
     "data": {
      "text/plain": [
       "  0%|          | 0/12238 [00:00<?, ?it/s]"
      ],
      "application/vnd.jupyter.widget-view+json": {
       "version_major": 2,
       "version_minor": 0,
       "model_id": "b03e3f3eb7b548dfa8c7bed00d618ecf"
      }
     },
     "metadata": {},
     "output_type": "display_data"
    },
    {
     "name": "stdout",
     "output_type": "stream",
     "text": [
      " results:\n",
      "Mean square error: 0.05755\n",
      "Mean absolute error: 0.17376\n",
      "epoch: 22\n"
     ]
    },
    {
     "data": {
      "text/plain": [
       "  0%|          | 0/12238 [00:00<?, ?it/s]"
      ],
      "application/vnd.jupyter.widget-view+json": {
       "version_major": 2,
       "version_minor": 0,
       "model_id": "a7a2413f06374d3e9f9474277adcb3da"
      }
     },
     "metadata": {},
     "output_type": "display_data"
    },
    {
     "name": "stdout",
     "output_type": "stream",
     "text": [
      " results:\n",
      "Mean square error: 0.05763\n",
      "Mean absolute error: 0.17374\n",
      "epoch: 23\n"
     ]
    },
    {
     "data": {
      "text/plain": [
       "  0%|          | 0/12238 [00:00<?, ?it/s]"
      ],
      "application/vnd.jupyter.widget-view+json": {
       "version_major": 2,
       "version_minor": 0,
       "model_id": "8e7cd238ce89440297f9f6f5ddc9facb"
      }
     },
     "metadata": {},
     "output_type": "display_data"
    },
    {
     "name": "stdout",
     "output_type": "stream",
     "text": [
      " results:\n",
      "Mean square error: 0.05751\n",
      "Mean absolute error: 0.17345\n",
      "epoch: 24\n"
     ]
    },
    {
     "data": {
      "text/plain": [
       "  0%|          | 0/12238 [00:00<?, ?it/s]"
      ],
      "application/vnd.jupyter.widget-view+json": {
       "version_major": 2,
       "version_minor": 0,
       "model_id": "39025142135b42819b6a138fa2e145ea"
      }
     },
     "metadata": {},
     "output_type": "display_data"
    },
    {
     "name": "stdout",
     "output_type": "stream",
     "text": [
      " results:\n",
      "Mean square error: 0.05747\n",
      "Mean absolute error: 0.17336\n",
      "epoch: 25\n"
     ]
    },
    {
     "data": {
      "text/plain": [
       "  0%|          | 0/12238 [00:00<?, ?it/s]"
      ],
      "application/vnd.jupyter.widget-view+json": {
       "version_major": 2,
       "version_minor": 0,
       "model_id": "a06a9e5d982948b59ad9a8ad87499828"
      }
     },
     "metadata": {},
     "output_type": "display_data"
    },
    {
     "name": "stdout",
     "output_type": "stream",
     "text": [
      " results:\n",
      "Mean square error: 0.05750\n",
      "Mean absolute error: 0.17346\n",
      "epoch: 26\n"
     ]
    },
    {
     "data": {
      "text/plain": [
       "  0%|          | 0/12238 [00:00<?, ?it/s]"
      ],
      "application/vnd.jupyter.widget-view+json": {
       "version_major": 2,
       "version_minor": 0,
       "model_id": "493ec2486e0940f7b0fdf89cc9352af6"
      }
     },
     "metadata": {},
     "output_type": "display_data"
    },
    {
     "name": "stdout",
     "output_type": "stream",
     "text": [
      " results:\n",
      "Mean square error: 0.05748\n",
      "Mean absolute error: 0.17338\n",
      "epoch: 27\n"
     ]
    },
    {
     "data": {
      "text/plain": [
       "  0%|          | 0/12238 [00:00<?, ?it/s]"
      ],
      "application/vnd.jupyter.widget-view+json": {
       "version_major": 2,
       "version_minor": 0,
       "model_id": "932dee1deffb44a9996cdee82667dacc"
      }
     },
     "metadata": {},
     "output_type": "display_data"
    },
    {
     "name": "stdout",
     "output_type": "stream",
     "text": [
      " results:\n",
      "Mean square error: 0.05749\n",
      "Mean absolute error: 0.17341\n",
      "epoch: 28\n"
     ]
    },
    {
     "data": {
      "text/plain": [
       "  0%|          | 0/12238 [00:00<?, ?it/s]"
      ],
      "application/vnd.jupyter.widget-view+json": {
       "version_major": 2,
       "version_minor": 0,
       "model_id": "7a71b0fcb26c4b6882d87f7b8a258f72"
      }
     },
     "metadata": {},
     "output_type": "display_data"
    },
    {
     "name": "stdout",
     "output_type": "stream",
     "text": [
      " results:\n",
      "Mean square error: 0.05749\n",
      "Mean absolute error: 0.17338\n",
      "epoch: 29\n"
     ]
    },
    {
     "data": {
      "text/plain": [
       "  0%|          | 0/12238 [00:00<?, ?it/s]"
      ],
      "application/vnd.jupyter.widget-view+json": {
       "version_major": 2,
       "version_minor": 0,
       "model_id": "4ab9e2c6bbdf474d98813f5aefa2d166"
      }
     },
     "metadata": {},
     "output_type": "display_data"
    },
    {
     "name": "stdout",
     "output_type": "stream",
     "text": [
      " results:\n",
      "Mean square error: 0.05749\n",
      "Mean absolute error: 0.17339\n"
     ]
    }
   ],
   "execution_count": 34
  },
  {
   "metadata": {
    "ExecuteTime": {
     "end_time": "2025-03-27T10:22:36.017593Z",
     "start_time": "2025-03-27T10:22:36.007568Z"
    }
   },
   "cell_type": "code",
   "source": "df_results.describe()",
   "outputs": [
    {
     "data": {
      "text/plain": [
       "             mse        mae            lr\n",
       "count  30.000000  30.000000  3.000000e+01\n",
       "mean    0.063384   0.184219  6.144400e-05\n",
       "std     0.010043   0.015967  4.811698e-05\n",
       "min     0.057224   0.173224  1.000000e-08\n",
       "25%     0.057505   0.173455  3.250000e-06\n",
       "50%     0.059646   0.179100  1.000000e-04\n",
       "75%     0.062798   0.184366  1.000000e-04\n",
       "max     0.103741   0.244932  1.000000e-04"
      ],
      "text/html": [
       "<div>\n",
       "<style scoped>\n",
       "    .dataframe tbody tr th:only-of-type {\n",
       "        vertical-align: middle;\n",
       "    }\n",
       "\n",
       "    .dataframe tbody tr th {\n",
       "        vertical-align: top;\n",
       "    }\n",
       "\n",
       "    .dataframe thead th {\n",
       "        text-align: right;\n",
       "    }\n",
       "</style>\n",
       "<table border=\"1\" class=\"dataframe\">\n",
       "  <thead>\n",
       "    <tr style=\"text-align: right;\">\n",
       "      <th></th>\n",
       "      <th>mse</th>\n",
       "      <th>mae</th>\n",
       "      <th>lr</th>\n",
       "    </tr>\n",
       "  </thead>\n",
       "  <tbody>\n",
       "    <tr>\n",
       "      <th>count</th>\n",
       "      <td>30.000000</td>\n",
       "      <td>30.000000</td>\n",
       "      <td>3.000000e+01</td>\n",
       "    </tr>\n",
       "    <tr>\n",
       "      <th>mean</th>\n",
       "      <td>0.063384</td>\n",
       "      <td>0.184219</td>\n",
       "      <td>6.144400e-05</td>\n",
       "    </tr>\n",
       "    <tr>\n",
       "      <th>std</th>\n",
       "      <td>0.010043</td>\n",
       "      <td>0.015967</td>\n",
       "      <td>4.811698e-05</td>\n",
       "    </tr>\n",
       "    <tr>\n",
       "      <th>min</th>\n",
       "      <td>0.057224</td>\n",
       "      <td>0.173224</td>\n",
       "      <td>1.000000e-08</td>\n",
       "    </tr>\n",
       "    <tr>\n",
       "      <th>25%</th>\n",
       "      <td>0.057505</td>\n",
       "      <td>0.173455</td>\n",
       "      <td>3.250000e-06</td>\n",
       "    </tr>\n",
       "    <tr>\n",
       "      <th>50%</th>\n",
       "      <td>0.059646</td>\n",
       "      <td>0.179100</td>\n",
       "      <td>1.000000e-04</td>\n",
       "    </tr>\n",
       "    <tr>\n",
       "      <th>75%</th>\n",
       "      <td>0.062798</td>\n",
       "      <td>0.184366</td>\n",
       "      <td>1.000000e-04</td>\n",
       "    </tr>\n",
       "    <tr>\n",
       "      <th>max</th>\n",
       "      <td>0.103741</td>\n",
       "      <td>0.244932</td>\n",
       "      <td>1.000000e-04</td>\n",
       "    </tr>\n",
       "  </tbody>\n",
       "</table>\n",
       "</div>"
      ]
     },
     "execution_count": 35,
     "metadata": {},
     "output_type": "execute_result"
    }
   ],
   "execution_count": 35
  },
  {
   "metadata": {},
   "cell_type": "markdown",
   "source": "Изменение скорости обучение не сильно повлияло на величину MAE.Минимальная полученная величина MAE - 0.1732"
  },
  {
   "metadata": {},
   "cell_type": "markdown",
   "source": "График изменения MAE & MSE по эпохам обучения:"
  },
  {
   "metadata": {
    "ExecuteTime": {
     "end_time": "2025-03-27T10:23:00.341916Z",
     "start_time": "2025-03-27T10:23:00.209271Z"
    }
   },
   "cell_type": "code",
   "source": [
    "plt.plot(df_results['mae'])\n",
    "plt.plot(df_results['mse'])\n",
    "plt.legend(['MAE', 'MSE'])\n",
    "plt.show()"
   ],
   "outputs": [
    {
     "data": {
      "text/plain": [
       "<Figure size 640x480 with 1 Axes>"
      ],
      "image/png": "[encoded data removed]"
     },
     "metadata": {},
     "output_type": "display_data"
    }
   ],
   "execution_count": 36
  },
  {
   "metadata": {},
   "cell_type": "markdown",
   "source": "Изменение скорости обучения по эпохам:"
  },
  {
   "metadata": {
    "ExecuteTime": {
     "end_time": "2025-03-27T10:25:22.718633Z",
     "start_time": "2025-03-27T10:25:22.629249Z"
    }
   },
   "cell_type": "code",
   "source": [
    "plt.plot(df_results['lr'])\n",
    "plt.legend(['lr'])\n",
    "plt.show()"
   ],
   "outputs": [
    {
     "data": {
      "text/plain": [
       "<Figure size 640x480 with 1 Axes>"
      ],
      "image/png": "[encoded data removed]"
     },
     "metadata": {},
     "output_type": "display_data"
    }
   ],
   "execution_count": 37
  },
  {
   "cell_type": "markdown",
   "metadata": {
    "id": "7Lj0p2_i2RqT"
   },
   "source": [
    "### Бонусная часть: объяснение предсказаний модели\n",
    "\n",
    "Обычно полезно понять, как работает модель, прежде чем позволить ей принимать решения в проде.\n",
    "\n",
    "Для линейных моделей это просто: достаточно посмотреть, какие слова приобрели положительные или отрицательные веса. Однако гораздо сложнее с нейронными сетями, которые учатся сложным нелинейным зависимостям.\n",
    "\n",
    "Однако есть несколько способов заглянуть внутрь «черного ящика»:\n",
    "* Seeing how model responds to input perturbations\n",
    "* Finding inputs that maximize/minimize activation of some chosen neurons (_read more [on distill.pub](https://distill.pub/2018/building-blocks/)_)\n",
    "* Building local linear approximations to your neural network: [article](https://arxiv.org/abs/1602.04938), [eli5 library](https://github.com/TeamHG-Memex/eli5/tree/master/eli5/formatters)\n",
    "\n",
    "Сегодня мы попробуем первый метод, просто потому что он самый простой."
   ]
  },
  {
   "cell_type": "code",
   "metadata": {
    "id": "DVeHe-V-2RqU",
    "ExecuteTime": {
     "end_time": "2025-03-27T10:25:30.956698Z",
     "start_time": "2025-03-27T10:25:30.952226Z"
    }
   },
   "source": [
    "def explain(model, sample, col_name='Title'):\n",
    "    \"\"\" Computes the effect each word had on model predictions \"\"\"\n",
    "    sample = dict(sample)\n",
    "    sample_col_tokens = [tokens[token_to_id.get(tok, 0)] for tok in sample[col_name].split()]\n",
    "    data_drop_one_token = pd.DataFrame([sample] * (len(sample_col_tokens) + 1))\n",
    "\n",
    "    for drop_i in range(len(sample_col_tokens)):\n",
    "        data_drop_one_token.loc[drop_i, col_name] = ' '.join(UNK if i == drop_i else tok\n",
    "                                                   for i, tok in enumerate(sample_col_tokens))\n",
    "\n",
    "    *predictions_drop_one_token, baseline_pred = model(make_batch(data_drop_one_token, device=device)).detach().cpu()\n",
    "    diffs = baseline_pred - torch.Tensor(predictions_drop_one_token)\n",
    "    return list(zip(sample_col_tokens, diffs))"
   ],
   "outputs": [],
   "execution_count": 38
  },
  {
   "cell_type": "code",
   "metadata": {
    "id": "hTNgC4g12RqU",
    "ExecuteTime": {
     "end_time": "2025-03-27T10:25:36.878026Z",
     "start_time": "2025-03-27T10:25:36.870983Z"
    }
   },
   "source": [
    "from IPython.display import HTML, display_html\n",
    "\n",
    "\n",
    "def draw_html(tokens_and_weights, cmap=plt.get_cmap(\"bwr\"), display=True,\n",
    "              token_template=\"\"\"<span style=\"background-color: {color_hex}\">{token}</span>\"\"\",\n",
    "              font_style=\"font-size:14px;\"\n",
    "             ):\n",
    "\n",
    "    def get_color_hex(weight):\n",
    "        rgba = cmap(1. / (1 + np.exp(float(weight))), bytes=True)\n",
    "        return '#%02X%02X%02X' % rgba[:3]\n",
    "\n",
    "    tokens_html = [\n",
    "        token_template.format(token=token, color_hex=get_color_hex(weight))\n",
    "        for token, weight in tokens_and_weights\n",
    "    ]\n",
    "\n",
    "\n",
    "    raw_html = \"\"\"<p style=\"{}\">{}</p>\"\"\".format(font_style, ' '.join(tokens_html))\n",
    "    if display:\n",
    "        display_html(HTML(raw_html))\n",
    "\n",
    "    return raw_html\n"
   ],
   "outputs": [],
   "execution_count": 39
  },
  {
   "cell_type": "code",
   "metadata": {
    "id": "MHy32Gr12RqU",
    "ExecuteTime": {
     "end_time": "2025-03-27T10:25:41.730539Z",
     "start_time": "2025-03-27T10:25:41.558074Z"
    }
   },
   "source": [
    "i = 36605\n",
    "tokens_and_weights = explain(model, data.loc[i], \"Title\")\n",
    "draw_html([(tok, weight * 5) for tok, weight in tokens_and_weights], font_style='font-size:20px;');\n",
    "\n",
    "tokens_and_weights = explain(model, data.loc[i], \"FullDescription\")\n",
    "draw_html([(tok, weight * 10) for tok, weight in tokens_and_weights]);"
   ],
   "outputs": [
    {
     "data": {
      "text/html": [
       "<p style=\"font-size:20px;\"><span style=\"background-color: #FFD2D2\">sales</span> <span style=\"background-color: #FFE8E8\">specialist</span> <span style=\"background-color: #FFCCCC\">iv</span> <span style=\"background-color: #FFC2C2\">access</span> <span style=\"background-color: #FFD3D3\">and</span> <span style=\"background-color: #8E8EFF\">infusion</span></p>"
      ]
     },
     "metadata": {},
     "output_type": "display_data"
    },
    {
     "data": {
      "text/html": [
       "<p style=\"font-size:14px;\"><span style=\"background-color: #FFC3C3\">sales</span> <span style=\"background-color: #E0E0FF\">representative</span> <span style=\"background-color: #FFF2F2\">medical</span> <span style=\"background-color: #FFF8F8\">sales</span> <span style=\"background-color: #FFC3C3\">iv</span> <span style=\"background-color: #FAFAFF\">access</span> <span style=\"background-color: #FEFEFF\">and</span> <span style=\"background-color: #FFFEFE\">infusion</span> <span style=\"background-color: #FAFAFF\">an</span> <span style=\"background-color: #FAFAFF\">opportunity</span> <span style=\"background-color: #F8F8FF\">to</span> <span style=\"background-color: #F8F8FF\">work</span> <span style=\"background-color: #FAFAFF\">for</span> <span style=\"background-color: #F6F6FF\">the</span> <span style=\"background-color: #FFDADA\">industry</span> <span style=\"background-color: #F3F3FF\">leading</span> <span style=\"background-color: #F2F2FF\">manufacturer</span> <span style=\"background-color: #F2F2FF\">of</span> <span style=\"background-color: #F6F6FF\">iv</span> <span style=\"background-color: #F0F0FF\">access</span> <span style=\"background-color: #F0F0FF\">and</span> <span style=\"background-color: #EEEEFF\">infusion</span> <span style=\"background-color: #F2F2FF\">solutions</span> <span style=\"background-color: #ECECFF\">.</span> <span style=\"background-color: #ECECFF\">formally</span> <span style=\"background-color: #E6E6FF\">recognised</span> <span style=\"background-color: #E0E0FF\">as</span> <span style=\"background-color: #E2E2FF\">the</span> <span style=\"background-color: #EAEAFF\">number</span> <span style=\"background-color: #E2E2FF\">****</span> <span style=\"background-color: #E6E6FF\">company</span> <span style=\"background-color: #DCDCFF\">in</span> <span style=\"background-color: #E3E3FF\">this</span> <span style=\"background-color: #D6D6FF\">market</span> <span style=\"background-color: #E2E2FF\">space</span> <span style=\"background-color: #F3F3FF\">,</span> <span style=\"background-color: #EAEAFF\">our</span> <span style=\"background-color: #ECECFF\">client</span> <span style=\"background-color: #ECECFF\">are</span> <span style=\"background-color: #E8E8FF\">an</span> <span style=\"background-color: #E6E6FF\">ethical</span> <span style=\"background-color: #E6E6FF\">and</span> <span style=\"background-color: #E8E8FF\">dynamic</span> <span style=\"background-color: #F0F0FF\">organisation</span> <span style=\"background-color: #FFF4F4\">absolutely</span> <span style=\"background-color: #FFFEFE\">committed</span> <span style=\"background-color: #FFFCFC\">to</span> <span style=\"background-color: #F2F2FF\">the</span> <span style=\"background-color: #E6E6FF\">advancement</span> <span style=\"background-color: #E6E6FF\">of</span> <span style=\"background-color: #E6E6FF\">innovative</span> <span style=\"background-color: #E8E8FF\">technologies</span> <span style=\"background-color: #E3E3FF\">.</span> <span style=\"background-color: #EAEAFF\">job</span> <span style=\"background-color: #ECECFF\">title</span> <span style=\"background-color: #ECECFF\">:</span> <span style=\"background-color: #EAEAFF\">sales</span> <span style=\"background-color: #E8E8FF\">specialist</span> <span style=\"background-color: #E8E8FF\">iv</span> <span style=\"background-color: #E3E3FF\">access</span> <span style=\"background-color: #E2E2FF\">and</span> <span style=\"background-color: #E2E2FF\">infusion</span> <span style=\"background-color: #E3E3FF\">selling</span> <span style=\"background-color: #E3E3FF\">:</span> <span style=\"background-color: #E3E3FF\">medication</span> <span style=\"background-color: #D8D8FF\">delivery</span> <span style=\"background-color: #E6E6FF\">solutions</span> <span style=\"background-color: #E6E6FF\">selling</span> <span style=\"background-color: #EAEAFF\">to</span> <span style=\"background-color: #E3E3FF\">:</span> <span style=\"background-color: #D2D2FF\">iv</span> <span style=\"background-color: #E2E2FF\">teams</span> <span style=\"background-color: #E3E3FF\">,</span> <span style=\"background-color: #ECECFF\">infection</span> <span style=\"background-color: #E3E3FF\">control</span> <span style=\"background-color: #DADAFF\">,</span> <span style=\"background-color: #FFFCFC\">lead</span> <span style=\"background-color: #D6D6FF\">intensive</span> <span style=\"background-color: #DCDCFF\">care</span> <span style=\"background-color: #DEDEFF\">nurse</span> <span style=\"background-color: #8080FF\">specialists</span> <span style=\"background-color: #DEDEFF\">,</span> <span style=\"background-color: #EAEAFF\">ward</span> <span style=\"background-color: #DADAFF\">managers</span> <span style=\"background-color: #E8E8FF\">territory</span> <span style=\"background-color: #DCDCFF\">:</span> <span style=\"background-color: #ECECFF\">east</span> <span style=\"background-color: #E0E0FF\">midlands</span> <span style=\"background-color: #E0E0FF\">location</span> <span style=\"background-color: #DADAFF\">:</span> <span style=\"background-color: #E6E6FF\">east</span> <span style=\"background-color: #E2E2FF\">midlands</span> <span style=\"background-color: #E6E6FF\">package</span> <span style=\"background-color: #E8E8FF\">:</span> <span style=\"background-color: #FFECEC\">basic</span> <span style=\"background-color: #C0C0FF\">:</span> <span style=\"background-color: #FCFCFF\">****</span> <span style=\"background-color: #D8D8FF\">k</span> <span style=\"background-color: #DADAFF\">****</span> <span style=\"background-color: #D6D6FF\">k</span> <span style=\"background-color: #F3F3FF\">,</span> <span style=\"background-color: #E2E2FF\">uncapped</span> <span style=\"background-color: #FCFCFF\">bonus</span> <span style=\"background-color: #E8E8FF\">in</span> <span style=\"background-color: #D2D2FF\">addition</span> <span style=\"background-color: #D2D2FF\">,</span> <span style=\"background-color: #D8D8FF\">full</span> <span style=\"background-color: #D6D6FF\">corporate</span> <span style=\"background-color: #F0F0FF\">benefits</span> <span style=\"background-color: #DEDEFF\">company</span> <span style=\"background-color: #C8C8FF\">information</span> <span style=\"background-color: #D8D8FF\">hugely</span> <span style=\"background-color: #DCDCFF\">ethical</span> <span style=\"background-color: #C0C0FF\">and</span> <span style=\"background-color: #DEDEFF\">professional</span> <span style=\"background-color: #CACAFF\">global</span> <span style=\"background-color: #B2B2FF\">organisation</span> <span style=\"background-color: #A6A6FF\">extremely</span> <span style=\"background-color: #FAFAFF\">well</span> <span style=\"background-color: #ECECFF\">established</span> <span style=\"background-color: #DCDCFF\">in</span> <span style=\"background-color: #E8E8FF\">the</span> <span style=\"background-color: #DEDEFF\">uk</span> <span style=\"background-color: #E0E0FF\">the</span> <span style=\"background-color: #DCDCFF\">market</span> <span style=\"background-color: #DCDCFF\">leader</span> <span style=\"background-color: #D2D2FF\">across</span> <span style=\"background-color: #DADAFF\">all</span> <span style=\"background-color: #C6C6FF\">of</span> <span style=\"background-color: #ECECFF\">their</span> <span style=\"background-color: #E3E3FF\">core</span> <span style=\"background-color: #E6E6FF\">business</span> <span style=\"background-color: #E8E8FF\">areas</span> <span style=\"background-color: #FFECEC\">focus</span> <span style=\"background-color: #8282FF\">on</span> <span style=\"background-color: #FFE8E8\">providing</span> <span style=\"background-color: #AAAAFF\">cutting</span> <span style=\"background-color: #5E5EFF\">edge</span> <span style=\"background-color: #8A8AFF\">solutions</span> <span style=\"background-color: #DCDCFF\">along</span> <span style=\"background-color: #DEDEFF\">with</span> <span style=\"background-color: #9E9EFF\">outstanding</span> <span style=\"background-color: #D3D3FF\">service</span> <span style=\"background-color: #E3E3FF\">and</span> <span style=\"background-color: #E2E2FF\">support</span> <span style=\"background-color: #E0E0FF\">a</span> <span style=\"background-color: #D3D3FF\">business</span> <span style=\"background-color: #D3D3FF\">that</span> <span style=\"background-color: #FFFAFA\">retain</span> <span style=\"background-color: #E0E0FF\">talented</span> <span style=\"background-color: #F3F3FF\">personnel</span> <span style=\"background-color: #D3D3FF\">by</span> <span style=\"background-color: #CACAFF\">offering</span> <span style=\"background-color: #DEDEFF\">a</span> <span style=\"background-color: #E0E0FF\">strong</span> <span style=\"background-color: #E0E0FF\">platform</span> <span style=\"background-color: #DCDCFF\">for</span> <span style=\"background-color: #ECECFF\">career</span> <span style=\"background-color: #ECECFF\">development</span> <span style=\"background-color: #E6E6FF\">sales</span> <span style=\"background-color: #DADAFF\">specialist</span> <span style=\"background-color: #DCDCFF\">iv</span> <span style=\"background-color: #DADAFF\">access</span> <span style=\"background-color: #DADAFF\">and</span> <span style=\"background-color: #DADAFF\">infusion</span> <span style=\"background-color: #D0D0FF\">you</span> <span style=\"background-color: #D0D0FF\">must</span> <span style=\"background-color: #BEBEFF\">have</span> <span style=\"background-color: #D8D8FF\">/</span> <span style=\"background-color: #DADAFF\">be</span> <span style=\"background-color: #D8D8FF\">the</span> <span style=\"background-color: #E3E3FF\">following</span> <span style=\"background-color: #D8D8FF\">at</span> <span style=\"background-color: #D8D8FF\">least</span> <span style=\"background-color: #CECEFF\">2</span> <span style=\"background-color: #8A8AFF\">years</span> <span style=\"background-color: #8282FF\">medical</span> <span style=\"background-color: #DCDCFF\">device</span> <span style=\"background-color: #C6C6FF\">sales</span> <span style=\"background-color: #E0E0FF\">experience</span> <span style=\"background-color: #DEDEFF\">.</span> <span style=\"background-color: #E2E2FF\">candidates</span> <span style=\"background-color: #D8D8FF\">who</span> <span style=\"background-color: #D2D2FF\">have</span> <span style=\"background-color: #D3D3FF\">sold</span> <span style=\"background-color: #DCDCFF\">disposables</span> <span style=\"background-color: #CECEFF\">/</span> <span style=\"background-color: #F3F3FF\">consumables</span> <span style=\"background-color: #E0E0FF\">or</span> <span style=\"background-color: #B3B3FF\">similar</span> <span style=\"background-color: #C2C2FF\">into</span> <span style=\"background-color: #B6B6FF\">hospitals</span> <span style=\"background-color: #E2E2FF\">would</span> <span style=\"background-color: #E0E0FF\">be</span> <span style=\"background-color: #D8D8FF\">of</span> <span style=\"background-color: #D8D8FF\">particular</span> <span style=\"background-color: #D8D8FF\">interest</span> <span style=\"background-color: #D8D8FF\">.</span> <span style=\"background-color: #D8D8FF\">candidates</span> <span style=\"background-color: #D8D8FF\">must</span> <span style=\"background-color: #D3D3FF\">have</span> <span style=\"background-color: #CECEFF\">sold</span> <span style=\"background-color: #BABAFF\">into</span> <span style=\"background-color: #AEAEFF\">hospitals</span> <span style=\"background-color: #AAAAFF\">demonstrable</span> <span style=\"background-color: #C3C3FF\">performance</span> <span style=\"background-color: #C3C3FF\">and</span> <span style=\"background-color: #C8C8FF\">achievements</span> <span style=\"background-color: #CECEFF\">so</span> <span style=\"background-color: #DADAFF\">far</span> <span style=\"background-color: #D6D6FF\">personable</span> <span style=\"background-color: #DADAFF\">,</span> <span style=\"background-color: #D8D8FF\">adaptable</span> <span style=\"background-color: #D6D6FF\">and</span> <span style=\"background-color: #F3F3FF\">willing</span> <span style=\"background-color: #E0E0FF\">to</span> <span style=\"background-color: #FFE4E4\">learn</span> <span style=\"background-color: #E2E2FF\">keen</span> <span style=\"background-color: #DADAFF\">and</span> <span style=\"background-color: #D6D6FF\">eager</span> <span style=\"background-color: #D3D3FF\">to</span> <span style=\"background-color: #D6D6FF\">be</span> <span style=\"background-color: #CCCCFF\">a</span> <span style=\"background-color: #F0F0FF\">success</span> <span style=\"background-color: #D6D6FF\">candidates</span> <span style=\"background-color: #D8D8FF\">must</span> <span style=\"background-color: #D3D3FF\">have</span> <span style=\"background-color: #D6D6FF\">a</span> <span style=\"background-color: #D8D8FF\">degree</span> <span style=\"background-color: #D6D6FF\">or</span> <span style=\"background-color: #CECEFF\">at</span> <span style=\"background-color: #D8D8FF\">least</span> <span style=\"background-color: #B8B8FF\">be</span> <span style=\"background-color: #F3F3FF\">able</span> <span style=\"background-color: #F6F6FF\">to</span> <span style=\"background-color: #F0F0FF\">show</span> <span style=\"background-color: #ACACFF\">a</span> <span style=\"background-color: #CECEFF\">strong</span> <span style=\"background-color: #D0D0FF\">ability</span> <span style=\"background-color: #D3D3FF\">to</span> <span style=\"background-color: #D8D8FF\">learn</span> <span style=\"background-color: #D0D0FF\">role</span> <span style=\"background-color: #E8E8FF\">information</span> <span style=\"background-color: #C8C8FF\">managing</span> <span style=\"background-color: #D6D6FF\">the</span> <span style=\"background-color: #D3D3FF\">east</span> <span style=\"background-color: #CCCCFF\">midlands</span> <span style=\"background-color: #CCCCFF\">region</span> <span style=\"background-color: #E0E0FF\">selling</span> <span style=\"background-color: #E3E3FF\">across</span> <span style=\"background-color: #CECEFF\">the</span> <span style=\"background-color: #D3D3FF\">company</span> <span style=\"background-color: #D3D3FF\">'</span> <span style=\"background-color: #CACAFF\">s</span> <span style=\"background-color: #D6D6FF\">range</span> <span style=\"background-color: #DADAFF\">of</span> <span style=\"background-color: #D3D3FF\">iv</span> <span style=\"background-color: #D2D2FF\">and</span> <span style=\"background-color: #D2D2FF\">infusion</span> <span style=\"background-color: #CCCCFF\">solutions</span> <span style=\"background-color: #D3D3FF\">portfolio</span> <span style=\"background-color: #D3D3FF\">selling</span> <span style=\"background-color: #D6D6FF\">into</span> <span style=\"background-color: #FCFCFF\">lead</span> <span style=\"background-color: #CCCCFF\">intensive</span> <span style=\"background-color: #D3D3FF\">care</span> <span style=\"background-color: #D3D3FF\">nurse</span> <span style=\"background-color: #7979FF\">specialists</span> <span style=\"background-color: #D6D6FF\">,</span> <span style=\"background-color: #D8D8FF\">ward</span> <span style=\"background-color: #D6D6FF\">managers</span> <span style=\"background-color: #DADAFF\">,</span> <span style=\"background-color: #D6D6FF\">iv</span> <span style=\"background-color: #D0D0FF\">teams</span> <span style=\"background-color: #D2D2FF\">,</span> <span style=\"background-color: #AEAEFF\">infection</span> <span style=\"background-color: #D2D2FF\">control</span> <span style=\"background-color: #D3D3FF\">teams</span> <span style=\"background-color: #D0D0FF\">,</span> <span style=\"background-color: #DADAFF\">procurement</span> <span style=\"background-color: #CCCCFF\">sales</span> <span style=\"background-color: #D2D2FF\">specialist</span> <span style=\"background-color: #D3D3FF\">iv</span> <span style=\"background-color: #D0D0FF\">access</span> <span style=\"background-color: #D0D0FF\">and</span> <span style=\"background-color: #D0D0FF\">infusion</span> <span style=\"background-color: #D2D2FF\">candidates</span> <span style=\"background-color: #D0D0FF\">must</span> <span style=\"background-color: #D0D0FF\">be</span> <span style=\"background-color: #D0D0FF\">eligible</span> <span style=\"background-color: #D0D0FF\">to</span> <span style=\"background-color: #C3C3FF\">work</span> <span style=\"background-color: #C8C8FF\">and</span> <span style=\"background-color: #C3C3FF\">live</span> <span style=\"background-color: #B0B0FF\">in</span> <span style=\"background-color: #CECEFF\">the</span> <span style=\"background-color: #C8C8FF\">uk</span> <span style=\"background-color: #E8E8FF\">.</span> <span style=\"background-color: #C8C8FF\">please</span> <span style=\"background-color: #D8D8FF\">contact</span> <span style=\"background-color: #D0D0FF\">allan</span> <span style=\"background-color: #C2C2FF\">waller</span> <span style=\"background-color: #C3C3FF\">on</span> <span style=\"background-color: #BEBEFF\">****</span> <span style=\"background-color: #C3C3FF\">****</span> <span style=\"background-color: #BCBCFF\">****</span> <span style=\"background-color: #CACAFF\">or</span> <span style=\"background-color: #CCCCFF\">please</span> <span style=\"background-color: #CCCCFF\">hit</span> <span style=\"background-color: #B3B3FF\">the</span> <span style=\"background-color: #CCCCFF\">apply</span> <span style=\"background-color: #CCCCFF\">button</span> <span style=\"background-color: #DADAFF\">.</span> <span style=\"background-color: #CCCCFF\">this</span> <span style=\"background-color: #CACAFF\">job</span> <span style=\"background-color: #CACAFF\">was</span> <span style=\"background-color: #CACAFF\">originally</span> <span style=\"background-color: #C2C2FF\">posted</span> <span style=\"background-color: #C8C8FF\">as</span> <span style=\"background-color: #D2D2FF\">www</span> <span style=\"background-color: #C8C8FF\">.</span> <span style=\"background-color: #FEFEFF\">salestarget</span> <span style=\"background-color: #FFFCFC\">.</span> <span style=\"background-color: #FEFEFF\">co</span> <span style=\"background-color: #CACAFF\">.</span> <span style=\"background-color: #C8C8FF\">uk</span> <span style=\"background-color: #C0C0FF\">/</span> <span style=\"background-color: #C3C3FF\">jobseeking</span> <span style=\"background-color: #BABAFF\">/</span> <span style=\"background-color: #AEAEFF\">UNK</span> <span style=\"background-color: #BCBCFF\">****</span></p>"
      ]
     },
     "metadata": {},
     "output_type": "display_data"
    }
   ],
   "execution_count": 40
  },
  {
   "cell_type": "code",
   "metadata": {
    "id": "bhnrf_uG2RqU",
    "ExecuteTime": {
     "end_time": "2025-03-27T10:26:18.184205Z",
     "start_time": "2025-03-27T10:26:18.105983Z"
    }
   },
   "source": [
    "i = np.random.randint(len(data))\n",
    "print(\"Index:\", i)\n",
    "print(\"Salary (gbp):\", np.expm1(model(make_batch(data.iloc[i: i+1], device=device)).detach().cpu()))\n",
    "\n",
    "tokens_and_weights = explain(model, data.loc[i], \"Title\")\n",
    "draw_html([(tok, weight * 5) for tok, weight in tokens_and_weights], font_style='font-size:20px;');\n",
    "\n",
    "tokens_and_weights = explain(model, data.loc[i], \"FullDescription\")\n",
    "draw_html([(tok, weight * 10) for tok, weight in tokens_and_weights]);"
   ],
   "outputs": [
    {
     "name": "stdout",
     "output_type": "stream",
     "text": [
      "Index: 95848\n",
      "Salary (gbp): tensor([29838.0332])\n"
     ]
    },
    {
     "data": {
      "text/html": [
       "<p style=\"font-size:20px;\"><span style=\"background-color: #B3B3FF\">aca</span> <span style=\"background-color: #FF7E7E\">qualified</span> <span style=\"background-color: #CECEFF\">analyst</span></p>"
      ]
     },
     "metadata": {},
     "output_type": "display_data"
    },
    {
     "data": {
      "text/html": [
       "<p style=\"font-size:14px;\"><span style=\"background-color: #FFA0A0\">a</span> <span style=\"background-color: #FF8E8E\">market</span> <span style=\"background-color: #FFBCBC\">leading</span> <span style=\"background-color: #FFFCFC\">financial</span> <span style=\"background-color: #FFC8C8\">services</span> <span style=\"background-color: #FFCCCC\">company</span> <span style=\"background-color: #FFF2F2\">is</span> <span style=\"background-color: #FFCACA\">looking</span> <span style=\"background-color: #FFFCFC\">for</span> <span style=\"background-color: #FFF0F0\">an</span> <span style=\"background-color: #FFFEFE\">aca</span> <span style=\"background-color: #FFCECE\">qualified</span> <span style=\"background-color: #FFECEC\">or</span> <span style=\"background-color: #FFCECE\">recent</span> <span style=\"background-color: #FFEAEA\">finalist</span> <span style=\"background-color: #FFD0D0\">to</span> <span style=\"background-color: #EAEAFF\">start</span> <span style=\"background-color: #FFF8F8\">their</span> <span style=\"background-color: #FFDADA\">career</span> <span style=\"background-color: #FFCACA\">as</span> <span style=\"background-color: #FFC3C3\">an</span> <span style=\"background-color: #FFCECE\">analyst</span> <span style=\"background-color: #FFD2D2\">.</span> <span style=\"background-color: #FFD0D0\">this</span> <span style=\"background-color: #FFD6D6\">involved</span> <span style=\"background-color: #FFD2D2\">and</span> <span style=\"background-color: #FFE6E6\">highly</span> <span style=\"background-color: #EEEEFF\">rewarding</span> <span style=\"background-color: #FFCECE\">training</span> <span style=\"background-color: #C8C8FF\">position</span> <span style=\"background-color: #B0B0FF\">gives</span> <span style=\"background-color: #FFBEBE\">you</span> <span style=\"background-color: #FFBABA\">all</span> <span style=\"background-color: #FFE0E0\">the</span> <span style=\"background-color: #FFD8D8\">benefits</span> <span style=\"background-color: #F6F6FF\">and</span> <span style=\"background-color: #FFD8D8\">career</span> <span style=\"background-color: #FFE4E4\">prospects</span> <span style=\"background-color: #FFDADA\">of</span> <span style=\"background-color: #FFC8C8\">a</span> <span style=\"background-color: #FFD6D6\">city</span> <span style=\"background-color: #FFE0E0\">of</span> <span style=\"background-color: #FFD6D6\">london</span> <span style=\"background-color: #FFD3D3\">job</span> <span style=\"background-color: #FFF0F0\">but</span> <span style=\"background-color: #FFE6E6\">right</span> <span style=\"background-color: #FAFAFF\">here</span> <span style=\"background-color: #FFFEFE\">in</span> <span style=\"background-color: #FFD6D6\">liverpool</span> <span style=\"background-color: #FFDCDC\">.</span> <span style=\"background-color: #FFFEFE\">there</span> <span style=\"background-color: #FFFCFC\">are</span> <span style=\"background-color: #FFFEFE\">few</span> <span style=\"background-color: #FCFCFF\">opportunities</span> <span style=\"background-color: #FFE6E6\">i</span> <span style=\"background-color: #FFCCCC\">have</span> <span style=\"background-color: #FFEAEA\">come</span> <span style=\"background-color: #FFDCDC\">across</span> <span style=\"background-color: #FFECEC\">this</span> <span style=\"background-color: #F0F0FF\">year</span> <span style=\"background-color: #FFBCBC\">that</span> <span style=\"background-color: #FFCCCC\">offer</span> <span style=\"background-color: #FFCACA\">ambitious</span> <span style=\"background-color: #FFDEDE\">candidates</span> <span style=\"background-color: #FFECEC\">a</span> <span style=\"background-color: #FFB6B6\">better</span> <span style=\"background-color: #FFDEDE\">chance</span> <span style=\"background-color: #FFC0C0\">to</span> <span style=\"background-color: #FEFEFF\">take</span> <span style=\"background-color: #FFCACA\">their</span> <span style=\"background-color: #FFEAEA\">career</span> <span style=\"background-color: #FFE4E4\">to</span> <span style=\"background-color: #FFD3D3\">the</span> <span style=\"background-color: #FFE2E2\">next</span> <span style=\"background-color: #FFDADA\">level</span> <span style=\"background-color: #FFE4E4\">following</span> <span style=\"background-color: #FFCACA\">qualification</span> <span style=\"background-color: #FFDEDE\">.</span> <span style=\"background-color: #FFF4F4\">responsibilities</span> <span style=\"background-color: #FFDADA\">include</span> <span style=\"background-color: #FFF6F6\">:</span> <span style=\"background-color: #FFDEDE\">?</span> <span style=\"background-color: #FFDADA\">analysis</span> <span style=\"background-color: #FFDCDC\">and</span> <span style=\"background-color: #FFF8F8\">summary</span> <span style=\"background-color: #FCFCFF\">of</span> <span style=\"background-color: #FFFCFC\">investment</span> <span style=\"background-color: #FEFEFF\">performance</span> <span style=\"background-color: #FFF8F8\">and</span> <span style=\"background-color: #FFE8E8\">identification</span> <span style=\"background-color: #FFF2F2\">of</span> <span style=\"background-color: #FFE0E0\">trends</span> <span style=\"background-color: #FFCECE\">?</span> <span style=\"background-color: #FFBABA\">modelling</span> <span style=\"background-color: #FFF2F2\">expectations</span> <span style=\"background-color: #F3F3FF\">and</span> <span style=\"background-color: #EEEEFF\">forecasting</span> <span style=\"background-color: #FFECEC\">outcomes</span> <span style=\"background-color: #FAFAFF\">?</span> <span style=\"background-color: #FFF4F4\">making</span> <span style=\"background-color: #FFF6F6\">recommendations</span> <span style=\"background-color: #FFF4F4\">on</span> <span style=\"background-color: #A0A0FF\">positions</span> <span style=\"background-color: #1010FF\">,</span> <span style=\"background-color: #D0D0FF\">presenting</span> <span style=\"background-color: #EEEEFF\">to</span> <span style=\"background-color: #F3F3FF\">clients</span> <span style=\"background-color: #ECECFF\">and</span> <span style=\"background-color: #E6E6FF\">internal</span> <span style=\"background-color: #D3D3FF\">teams</span> <span style=\"background-color: #E3E3FF\">ideally</span> <span style=\"background-color: #FCFCFF\">you</span> <span style=\"background-color: #FFE0E0\">will</span> <span style=\"background-color: #FFCCCC\">have</span> <span style=\"background-color: #FFD6D6\">/</span> <span style=\"background-color: #FFDEDE\">be</span> <span style=\"background-color: #FFF4F4\">:</span> <span style=\"background-color: #EAEAFF\">?</span> <span style=\"background-color: #FFF6F6\">aca</span> <span style=\"background-color: #FFF0F0\">qualified</span> <span style=\"background-color: #ECECFF\">or</span> <span style=\"background-color: #FFEAEA\">recent</span> <span style=\"background-color: #FFF0F0\">finalist</span> <span style=\"background-color: #FFD0D0\">?</span> <span style=\"background-color: #FFECEC\">self</span> <span style=\"background-color: #FFFAFA\">driven</span> <span style=\"background-color: #FAFAFF\">and</span> <span style=\"background-color: #FFE4E4\">motivated</span> <span style=\"background-color: #FFCECE\">?</span> <span style=\"background-color: #BCBCFF\">strong</span> <span style=\"background-color: #C3C3FF\">written</span> <span style=\"background-color: #FFE8E8\">and</span> <span style=\"background-color: #FFD6D6\">verbal</span> <span style=\"background-color: #FCFCFF\">communication</span> <span style=\"background-color: #FFB6B6\">skills</span> <span style=\"background-color: #FFDEDE\">?</span> <span style=\"background-color: #FFD3D3\">advanced</span> <span style=\"background-color: #FFDEDE\">excel</span> <span style=\"background-color: #FFD3D3\">skills</span> <span style=\"background-color: #FCFCFF\">and</span> <span style=\"background-color: #FFDEDE\">report</span> <span style=\"background-color: #FFF4F4\">writing</span> <span style=\"background-color: #FFFEFE\">experience</span></p>"
      ]
     },
     "metadata": {},
     "output_type": "display_data"
    }
   ],
   "execution_count": 42
  },
  {
   "cell_type": "code",
   "metadata": {},
   "source": [],
   "outputs": [],
   "execution_count": null
  }
 ],
 "metadata": {
  "accelerator": "GPU",
  "colab": {
   "collapsed_sections": [
    "4_1ac18pZYlZ"
   ],
   "gpuType": "T4",
   "provenance": [],
   "toc_visible": true
  },
  "kernelspec": {
   "display_name": "Python 3 (ipykernel)",
   "language": "python",
   "name": "python3"
  },
  "language_info": {
   "codemirror_mode": {
    "name": "ipython",
    "version": 3
   },
   "file_extension": ".py",
   "mimetype": "text/x-python",
   "name": "python",
   "nbconvert_exporter": "python",
   "pygments_lexer": "ipython3",
   "version": "3.12.9"
  }
 },
 "nbformat": 4,
 "nbformat_minor": 4
}
