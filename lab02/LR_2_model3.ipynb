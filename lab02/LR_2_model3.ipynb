{
 "cells": [
  {
   "cell_type": "markdown",
   "metadata": {
    "id": "wr9GLW3A2RqL"
   },
   "source": [
    "### ЛР. Часть II: Large scale text analysis with deep learning (4 points)\n"
   ]
  },
  {
   "cell_type": "markdown",
   "metadata": {
    "id": "V6pSQcFn2RqN"
   },
   "source": [
    "**Для успешной сдачи этой части ЛР - нужно получить MAE < 0.11**\n",
    "\n",
    "За датасет спасибо [Oleg Vasilev](https://github.com/Omrigan/)\n",
    "\n",
    "Мы будем предсказывать ЗП по резюме. Начнем с семинара, закончим ЛР.\n",
    "\n",
    "**Для успешной сдачи этой части ЛР - нужно получить MAE < 0.11**"
   ]
  },
  {
   "cell_type": "code",
   "metadata": {
    "id": "eUuse6vD2RqN",
    "ExecuteTime": {
     "end_time": "2025-03-27T10:28:05.448434Z",
     "start_time": "2025-03-27T10:28:05.443945Z"
    }
   },
   "source": [
    "import matplotlib.pyplot as plt\n",
    "import numpy as np\n",
    "import pandas as pd\n",
    "%matplotlib inline"
   ],
   "outputs": [],
   "execution_count": 4
  },
  {
   "cell_type": "markdown",
   "metadata": {
    "id": "uj7sqAP52RqO"
   },
   "source": [
    "### Начало\n",
    "\n",
    "Сначала разумеется нужно скачать датасет с яндекс диска.\n",
    "\n",
    "Данные сделаны на основе Kaggle соревнования - https://www.kaggle.com/c/job-salary-prediction/data\n"
   ]
  },
  {
   "cell_type": "code",
   "metadata": {
    "id": "O7uK6DLq2Zlm",
    "ExecuteTime": {
     "end_time": "2025-03-27T10:28:05.522096Z",
     "start_time": "2025-03-27T10:28:05.518823Z"
    }
   },
   "source": [
    "#import requests\n",
    "#from urllib.parse import urlencode\n",
    "\n",
    "#base_url = 'https://cloud-api.yandex.net/v1/disk/public/resources/download?'\n",
    "#public_key = 'https://disk.yandex.ru/d/DoFaLhNST81AgA'\n",
    "\n",
    "# Получаем загрузочную ссылку\n",
    "#final_url = base_url + urlencode(dict(public_key=public_key))\n",
    "#response = requests.get(final_url)\n",
    "#download_url = response.json()['href']\n",
    "\n",
    "# Загружаем файл и сохраняем его\n",
    "#download_response = requests.get(download_url)"
   ],
   "outputs": [],
   "execution_count": 5
  },
  {
   "cell_type": "code",
   "metadata": {
    "id": "MJ8yyGZH286H",
    "ExecuteTime": {
     "end_time": "2025-03-27T10:28:05.614021Z",
     "start_time": "2025-03-27T10:28:05.610925Z"
    }
   },
   "source": [
    "#with open('./Train_rev1.csv', 'wb') as f:\n",
    "#    f.write(download_response.content)"
   ],
   "outputs": [],
   "execution_count": 6
  },
  {
   "cell_type": "code",
   "metadata": {
    "colab": {
     "base_uri": "https://localhost:8080/"
    },
    "id": "mgO7R-ct2RqO",
    "outputId": "cfa516f7-f24a-412d-fdd8-e6045e7518ea",
    "ExecuteTime": {
     "end_time": "2025-03-27T10:28:08.780242Z",
     "start_time": "2025-03-27T10:28:05.664588Z"
    }
   },
   "source": [
    "data = pd.read_csv(\"./Train_rev1.csv\", index_col=None)\n",
    "data.shape"
   ],
   "outputs": [
    {
     "data": {
      "text/plain": [
       "(244768, 12)"
      ]
     },
     "execution_count": 7,
     "metadata": {},
     "output_type": "execute_result"
    }
   ],
   "execution_count": 7
  },
  {
   "cell_type": "code",
   "metadata": {
    "colab": {
     "base_uri": "https://localhost:8080/",
     "height": 486
    },
    "id": "GQd_KyEb2RqO",
    "outputId": "c5d9b6bd-bde4-4bc6-b862-9c294ac1bbef",
    "ExecuteTime": {
     "end_time": "2025-03-27T10:28:08.889973Z",
     "start_time": "2025-03-27T10:28:08.880603Z"
    }
   },
   "source": [
    "data.head()"
   ],
   "outputs": [
    {
     "data": {
      "text/plain": [
       "         Id                                              Title  \\\n",
       "0  12612628                        Engineering Systems Analyst   \n",
       "1  12612830                            Stress Engineer Glasgow   \n",
       "2  12612844                   Modelling and simulation analyst   \n",
       "3  12613049  Engineering Systems Analyst / Mathematical Mod...   \n",
       "4  12613647         Pioneer, Miser Engineering Systems Analyst   \n",
       "\n",
       "                                     FullDescription  \\\n",
       "0  Engineering Systems Analyst Dorking Surrey Sal...   \n",
       "1  Stress Engineer Glasgow Salary **** to **** We...   \n",
       "2  Mathematical Modeller / Simulation Analyst / O...   \n",
       "3  Engineering Systems Analyst / Mathematical Mod...   \n",
       "4  Pioneer, Miser  Engineering Systems Analyst Do...   \n",
       "\n",
       "                         LocationRaw LocationNormalized ContractType  \\\n",
       "0            Dorking, Surrey, Surrey            Dorking          NaN   \n",
       "1        Glasgow, Scotland, Scotland            Glasgow          NaN   \n",
       "2  Hampshire, South East, South East          Hampshire          NaN   \n",
       "3     Surrey, South East, South East             Surrey          NaN   \n",
       "4     Surrey, South East, South East             Surrey          NaN   \n",
       "\n",
       "  ContractTime                       Company          Category  \\\n",
       "0    permanent  Gregory Martin International  Engineering Jobs   \n",
       "1    permanent  Gregory Martin International  Engineering Jobs   \n",
       "2    permanent  Gregory Martin International  Engineering Jobs   \n",
       "3    permanent  Gregory Martin International  Engineering Jobs   \n",
       "4    permanent  Gregory Martin International  Engineering Jobs   \n",
       "\n",
       "                                SalaryRaw  SalaryNormalized        SourceName  \n",
       "0              20000 - 30000/annum 20-30K             25000  cv-library.co.uk  \n",
       "1              25000 - 35000/annum 25-35K             30000  cv-library.co.uk  \n",
       "2              20000 - 40000/annum 20-40K             30000  cv-library.co.uk  \n",
       "3  25000 - 30000/annum 25K-30K negotiable             27500  cv-library.co.uk  \n",
       "4              20000 - 30000/annum 20-30K             25000  cv-library.co.uk  "
      ],
      "text/html": [
       "<div>\n",
       "<style scoped>\n",
       "    .dataframe tbody tr th:only-of-type {\n",
       "        vertical-align: middle;\n",
       "    }\n",
       "\n",
       "    .dataframe tbody tr th {\n",
       "        vertical-align: top;\n",
       "    }\n",
       "\n",
       "    .dataframe thead th {\n",
       "        text-align: right;\n",
       "    }\n",
       "</style>\n",
       "<table border=\"1\" class=\"dataframe\">\n",
       "  <thead>\n",
       "    <tr style=\"text-align: right;\">\n",
       "      <th></th>\n",
       "      <th>Id</th>\n",
       "      <th>Title</th>\n",
       "      <th>FullDescription</th>\n",
       "      <th>LocationRaw</th>\n",
       "      <th>LocationNormalized</th>\n",
       "      <th>ContractType</th>\n",
       "      <th>ContractTime</th>\n",
       "      <th>Company</th>\n",
       "      <th>Category</th>\n",
       "      <th>SalaryRaw</th>\n",
       "      <th>SalaryNormalized</th>\n",
       "      <th>SourceName</th>\n",
       "    </tr>\n",
       "  </thead>\n",
       "  <tbody>\n",
       "    <tr>\n",
       "      <th>0</th>\n",
       "      <td>12612628</td>\n",
       "      <td>Engineering Systems Analyst</td>\n",
       "      <td>Engineering Systems Analyst Dorking Surrey Sal...</td>\n",
       "      <td>Dorking, Surrey, Surrey</td>\n",
       "      <td>Dorking</td>\n",
       "      <td>NaN</td>\n",
       "      <td>permanent</td>\n",
       "      <td>Gregory Martin International</td>\n",
       "      <td>Engineering Jobs</td>\n",
       "      <td>20000 - 30000/annum 20-30K</td>\n",
       "      <td>25000</td>\n",
       "      <td>cv-library.co.uk</td>\n",
       "    </tr>\n",
       "    <tr>\n",
       "      <th>1</th>\n",
       "      <td>12612830</td>\n",
       "      <td>Stress Engineer Glasgow</td>\n",
       "      <td>Stress Engineer Glasgow Salary **** to **** We...</td>\n",
       "      <td>Glasgow, Scotland, Scotland</td>\n",
       "      <td>Glasgow</td>\n",
       "      <td>NaN</td>\n",
       "      <td>permanent</td>\n",
       "      <td>Gregory Martin International</td>\n",
       "      <td>Engineering Jobs</td>\n",
       "      <td>25000 - 35000/annum 25-35K</td>\n",
       "      <td>30000</td>\n",
       "      <td>cv-library.co.uk</td>\n",
       "    </tr>\n",
       "    <tr>\n",
       "      <th>2</th>\n",
       "      <td>12612844</td>\n",
       "      <td>Modelling and simulation analyst</td>\n",
       "      <td>Mathematical Modeller / Simulation Analyst / O...</td>\n",
       "      <td>Hampshire, South East, South East</td>\n",
       "      <td>Hampshire</td>\n",
       "      <td>NaN</td>\n",
       "      <td>permanent</td>\n",
       "      <td>Gregory Martin International</td>\n",
       "      <td>Engineering Jobs</td>\n",
       "      <td>20000 - 40000/annum 20-40K</td>\n",
       "      <td>30000</td>\n",
       "      <td>cv-library.co.uk</td>\n",
       "    </tr>\n",
       "    <tr>\n",
       "      <th>3</th>\n",
       "      <td>12613049</td>\n",
       "      <td>Engineering Systems Analyst / Mathematical Mod...</td>\n",
       "      <td>Engineering Systems Analyst / Mathematical Mod...</td>\n",
       "      <td>Surrey, South East, South East</td>\n",
       "      <td>Surrey</td>\n",
       "      <td>NaN</td>\n",
       "      <td>permanent</td>\n",
       "      <td>Gregory Martin International</td>\n",
       "      <td>Engineering Jobs</td>\n",
       "      <td>25000 - 30000/annum 25K-30K negotiable</td>\n",
       "      <td>27500</td>\n",
       "      <td>cv-library.co.uk</td>\n",
       "    </tr>\n",
       "    <tr>\n",
       "      <th>4</th>\n",
       "      <td>12613647</td>\n",
       "      <td>Pioneer, Miser Engineering Systems Analyst</td>\n",
       "      <td>Pioneer, Miser  Engineering Systems Analyst Do...</td>\n",
       "      <td>Surrey, South East, South East</td>\n",
       "      <td>Surrey</td>\n",
       "      <td>NaN</td>\n",
       "      <td>permanent</td>\n",
       "      <td>Gregory Martin International</td>\n",
       "      <td>Engineering Jobs</td>\n",
       "      <td>20000 - 30000/annum 20-30K</td>\n",
       "      <td>25000</td>\n",
       "      <td>cv-library.co.uk</td>\n",
       "    </tr>\n",
       "  </tbody>\n",
       "</table>\n",
       "</div>"
      ]
     },
     "execution_count": 8,
     "metadata": {},
     "output_type": "execute_result"
    }
   ],
   "execution_count": 8
  },
  {
   "cell_type": "markdown",
   "metadata": {
    "id": "DqxnSwlp2RqO"
   },
   "source": [
    "Одна из проблем с предсказанием зарплат заключается в том, что они распределены необычным образом (хотя кто слушал лекции по классик мл было все идеально): существует много людей, которые получают стандартные зарплаты, и немного тех, кто зарабатывает огромные суммы. Распределение имеет \"жирный хвост\" на правой стороне, что неудобно для минимизации MSE.\n",
    "\n",
    "Существует несколько методов для решения этой проблемы: использование другой функции потерь (MSLE), предсказание логарифма целевой переменной вместо исходного значения (LOG1P), или даже замена целевых значений их процентилями среди всех зарплат в обучающем наборе (ДИСКРЕТИЗАЦИЯ????).\n",
    "\n",
    "Для простоты и вашего интереса буду юзать log1p\n",
    "\n",
    "_Подробнее можно прочитать [в официальном описании](https://www.kaggle.com/c/job-salary-prediction#description)._"
   ]
  },
  {
   "cell_type": "code",
   "metadata": {
    "id": "RvC3_LF72RqO",
    "ExecuteTime": {
     "end_time": "2025-03-27T10:28:09.219233Z",
     "start_time": "2025-03-27T10:28:09.002964Z"
    }
   },
   "source": [
    "data['Log1pSalary'] = np.log1p(data['SalaryNormalized']).astype('float32')\n",
    "\n",
    "plt.figure(figsize=[8, 4])\n",
    "plt.subplot(1, 2, 1)\n",
    "plt.hist(data[\"SalaryNormalized\"], bins=20);\n",
    "\n",
    "plt.subplot(1, 2, 2)\n",
    "plt.hist(data['Log1pSalary'], bins=20);"
   ],
   "outputs": [
    {
     "data": {
      "text/plain": [
       "<Figure size 800x400 with 2 Axes>"
      ],
      "image/png": "[encoded data removed]"
     },
     "metadata": {},
     "output_type": "display_data"
    }
   ],
   "execution_count": 9
  },
  {
   "cell_type": "markdown",
   "metadata": {
    "id": "PIhd1Owf2RqO"
   },
   "source": [
    "Наша задача — предсказать одно число, __Log1pSalary__.\n",
    "\n",
    "Для этого наша модель может использовать несколько признаков:\n",
    "* Текстовые данные: __`Title`__ и  __`FullDescription`__\n",
    "* Категориальные данные: __`Category`__, __`Company`__, __`LocationNormalized`__, __`ContractType`__ и __`ContractTime`__."
   ]
  },
  {
   "cell_type": "code",
   "metadata": {
    "colab": {
     "base_uri": "https://localhost:8080/",
     "height": 309
    },
    "id": "WqelS_j32RqO",
    "outputId": "792e2554-daf4-4904-91f8-0cce81e7943a",
    "ExecuteTime": {
     "end_time": "2025-03-27T10:28:09.408313Z",
     "start_time": "2025-03-27T10:28:09.327843Z"
    }
   },
   "source": [
    "text_columns = [\"Title\", \"FullDescription\"]\n",
    "categorical_columns = [\"Category\", \"Company\", \"LocationNormalized\", \"ContractType\", \"ContractTime\"]\n",
    "TARGET_COLUMN = \"Log1pSalary\"\n",
    "\n",
    "data[categorical_columns] = data[categorical_columns].fillna('NaN') # cast missing values to string \"NaN\"\n",
    "\n",
    "data.sample(3)"
   ],
   "outputs": [
    {
     "data": {
      "text/plain": [
       "              Id                                              Title  \\\n",
       "30880   68067787          Sales Negotiator Excellent OTE  Start Now   \n",
       "197012  71830411             Front Office Risk Analyst  Derivatives   \n",
       "73067   68983015  LOCUM ADVANCE NURSE PRACTITIONERS REQUIRED, ON...   \n",
       "\n",
       "                                          FullDescription        LocationRaw  \\\n",
       "30880   A leading London Estate agent is currently rec...  London South East   \n",
       "197012  Overview This is a fantastic opportunity for a...             London   \n",
       "73067   Type: Locum Location: Grimsby Hours: Flexible ...       Lincolnshire   \n",
       "\n",
       "       LocationNormalized ContractType ContractTime             Company  \\\n",
       "30880   South East London          NaN    permanent    Bond Recruitment   \n",
       "197012             London          NaN          NaN  Rees Draper Wright   \n",
       "73067        Lincolnshire    full_time     contract               Merco   \n",
       "\n",
       "                         Category  \\\n",
       "30880   Trade & Construction Jobs   \n",
       "197012  Accounting & Finance Jobs   \n",
       "73067   Healthcare & Nursing Jobs   \n",
       "\n",
       "                                                SalaryRaw  SalaryNormalized  \\\n",
       "30880   18000-32000 Per Annum Uncapped OTE, Company Ca...             25000   \n",
       "197012                                   50,000 to 70,000             60000   \n",
       "73067                            37.00 - 40.00 GBP Hourly             73920   \n",
       "\n",
       "                   SourceName  Log1pSalary  \n",
       "30880           totaljobs.com    10.126671  \n",
       "197012      eFinancialCareers    11.002116  \n",
       "73067   jobs.newstatesman.com    11.210752  "
      ],
      "text/html": [
       "<div>\n",
       "<style scoped>\n",
       "    .dataframe tbody tr th:only-of-type {\n",
       "        vertical-align: middle;\n",
       "    }\n",
       "\n",
       "    .dataframe tbody tr th {\n",
       "        vertical-align: top;\n",
       "    }\n",
       "\n",
       "    .dataframe thead th {\n",
       "        text-align: right;\n",
       "    }\n",
       "</style>\n",
       "<table border=\"1\" class=\"dataframe\">\n",
       "  <thead>\n",
       "    <tr style=\"text-align: right;\">\n",
       "      <th></th>\n",
       "      <th>Id</th>\n",
       "      <th>Title</th>\n",
       "      <th>FullDescription</th>\n",
       "      <th>LocationRaw</th>\n",
       "      <th>LocationNormalized</th>\n",
       "      <th>ContractType</th>\n",
       "      <th>ContractTime</th>\n",
       "      <th>Company</th>\n",
       "      <th>Category</th>\n",
       "      <th>SalaryRaw</th>\n",
       "      <th>SalaryNormalized</th>\n",
       "      <th>SourceName</th>\n",
       "      <th>Log1pSalary</th>\n",
       "    </tr>\n",
       "  </thead>\n",
       "  <tbody>\n",
       "    <tr>\n",
       "      <th>30880</th>\n",
       "      <td>68067787</td>\n",
       "      <td>Sales Negotiator Excellent OTE  Start Now</td>\n",
       "      <td>A leading London Estate agent is currently rec...</td>\n",
       "      <td>London South East</td>\n",
       "      <td>South East London</td>\n",
       "      <td>NaN</td>\n",
       "      <td>permanent</td>\n",
       "      <td>Bond Recruitment</td>\n",
       "      <td>Trade &amp; Construction Jobs</td>\n",
       "      <td>18000-32000 Per Annum Uncapped OTE, Company Ca...</td>\n",
       "      <td>25000</td>\n",
       "      <td>totaljobs.com</td>\n",
       "      <td>10.126671</td>\n",
       "    </tr>\n",
       "    <tr>\n",
       "      <th>197012</th>\n",
       "      <td>71830411</td>\n",
       "      <td>Front Office Risk Analyst  Derivatives</td>\n",
       "      <td>Overview This is a fantastic opportunity for a...</td>\n",
       "      <td>London</td>\n",
       "      <td>London</td>\n",
       "      <td>NaN</td>\n",
       "      <td>NaN</td>\n",
       "      <td>Rees Draper Wright</td>\n",
       "      <td>Accounting &amp; Finance Jobs</td>\n",
       "      <td>50,000 to 70,000</td>\n",
       "      <td>60000</td>\n",
       "      <td>eFinancialCareers</td>\n",
       "      <td>11.002116</td>\n",
       "    </tr>\n",
       "    <tr>\n",
       "      <th>73067</th>\n",
       "      <td>68983015</td>\n",
       "      <td>LOCUM ADVANCE NURSE PRACTITIONERS REQUIRED, ON...</td>\n",
       "      <td>Type: Locum Location: Grimsby Hours: Flexible ...</td>\n",
       "      <td>Lincolnshire</td>\n",
       "      <td>Lincolnshire</td>\n",
       "      <td>full_time</td>\n",
       "      <td>contract</td>\n",
       "      <td>Merco</td>\n",
       "      <td>Healthcare &amp; Nursing Jobs</td>\n",
       "      <td>37.00 - 40.00 GBP Hourly</td>\n",
       "      <td>73920</td>\n",
       "      <td>jobs.newstatesman.com</td>\n",
       "      <td>11.210752</td>\n",
       "    </tr>\n",
       "  </tbody>\n",
       "</table>\n",
       "</div>"
      ]
     },
     "execution_count": 10,
     "metadata": {},
     "output_type": "execute_result"
    }
   ],
   "execution_count": 10
  },
  {
   "cell_type": "markdown",
   "metadata": {
    "id": "fm6RK0wV2RqP"
   },
   "source": [
    "### Препроцессинг\n",
    "\n",
    "Как и на прошлой неделе, NLP начинается с токенизации: разбиения исходного текста на последовательности токенов (слов, знаков пунктуации и т.д.).\n",
    "\n",
    "__Ваша задача__ — привести к нижнему регистру и токенизировать все тексты в столбцах `Title` и `FullDescription`. Сохраните токенизированные данные в виде строки с токенами, разделенными __пробелами__, для повышения производительности.\n"
   ]
  },
  {
   "cell_type": "code",
   "metadata": {
    "id": "zSXdXkxEYW9o",
    "scrolled": true,
    "ExecuteTime": {
     "end_time": "2025-03-27T10:28:09.447215Z",
     "start_time": "2025-03-27T10:28:09.444075Z"
    }
   },
   "source": [
    "print(\"Raw text:\")\n",
    "print(data[\"FullDescription\"][2::100000])"
   ],
   "outputs": [
    {
     "name": "stdout",
     "output_type": "stream",
     "text": [
      "Raw text:\n",
      "2         Mathematical Modeller / Simulation Analyst / O...\n",
      "100002    A successful and high achieving specialist sch...\n",
      "200002    Web Designer  HTML, CSS, JavaScript, Photoshop...\n",
      "Name: FullDescription, dtype: object\n"
     ]
    }
   ],
   "execution_count": 11
  },
  {
   "cell_type": "code",
   "metadata": {
    "ExecuteTime": {
     "end_time": "2025-03-27T10:28:09.761971Z",
     "start_time": "2025-03-27T10:28:09.497173Z"
    }
   },
   "source": [
    "import nltk\n",
    "\n",
    "tokenizer = nltk.tokenize.WordPunctTokenizer()"
   ],
   "outputs": [],
   "execution_count": 12
  },
  {
   "cell_type": "code",
   "metadata": {
    "ExecuteTime": {
     "end_time": "2025-03-27T10:28:29.132655Z",
     "start_time": "2025-03-27T10:28:09.790434Z"
    }
   },
   "source": [
    "data['FullDescription'] = data['FullDescription'].apply(lambda x: ' '.join(tokenizer.tokenize(str(x))).lower())\n",
    "data['Title'] = data['Title'].apply(lambda x: ' '.join(tokenizer.tokenize(str(x))).lower())"
   ],
   "outputs": [],
   "execution_count": 13
  },
  {
   "cell_type": "markdown",
   "metadata": {
    "id": "Ry5YUK_XYW9o"
   },
   "source": [
    "Теперь мы можем предположить, что наш текст - это список лексем, разделенных пробелами:"
   ]
  },
  {
   "cell_type": "code",
   "metadata": {
    "id": "MNxaDGUUYW9o",
    "ExecuteTime": {
     "end_time": "2025-03-27T10:28:29.141671Z",
     "start_time": "2025-03-27T10:28:29.138262Z"
    }
   },
   "source": [
    "print(\"Tokenized:\")\n",
    "print(data[\"FullDescription\"][2::100000])\n",
    "assert data[\"FullDescription\"][2][:50] == 'mathematical modeller / simulation analyst / opera'\n",
    "assert data[\"Title\"][54321] == 'international digital account manager ( german )'"
   ],
   "outputs": [
    {
     "name": "stdout",
     "output_type": "stream",
     "text": [
      "Tokenized:\n",
      "2         mathematical modeller / simulation analyst / o...\n",
      "100002    a successful and high achieving specialist sch...\n",
      "200002    web designer html , css , javascript , photosh...\n",
      "Name: FullDescription, dtype: object\n"
     ]
    }
   ],
   "execution_count": 14
  },
  {
   "cell_type": "markdown",
   "metadata": {
    "id": "1qF1uDpi2RqP"
   },
   "source": [
    "Не все слова одинаково полезны. Некоторые из них - опечатки или редкие слова, которые встречаются всего несколько раз.\n",
    "\n",
    "Давайте подсчитаем, сколько раз каждое слово встречается в данных, чтобы составить «белый список» известных слов."
   ]
  },
  {
   "cell_type": "code",
   "metadata": {
    "id": "bbvHsss1YW9o",
    "ExecuteTime": {
     "end_time": "2025-03-27T10:28:55.104548Z",
     "start_time": "2025-03-27T10:28:29.227512Z"
    }
   },
   "source": [
    "from collections import Counter\n",
    "token_counts = Counter()\n",
    "\n",
    "# Count how many times does each token occur in both \"Title\" and \"FullDescription\" in total\n",
    "for text in data['FullDescription'].values:\n",
    "    for token in text.split():\n",
    "        token_counts[token] += 1\n",
    "\n",
    "for text in data['Title'].values:\n",
    "    for token in text.split():\n",
    "        token_counts[token] += 1"
   ],
   "outputs": [],
   "execution_count": 15
  },
  {
   "cell_type": "code",
   "metadata": {
    "id": "g12Ne0x92RqP",
    "ExecuteTime": {
     "end_time": "2025-03-27T10:28:55.358960Z",
     "start_time": "2025-03-27T10:28:55.262063Z"
    }
   },
   "source": [
    "print(\"Total unique tokens :\", len(token_counts))\n",
    "print('\\n'.join(map(str, token_counts.most_common(n=5))))\n",
    "print('...')\n",
    "print('\\n'.join(map(str, token_counts.most_common()[-3:])))\n",
    "\n",
    "assert token_counts.most_common(1)[0][1] in  range(2600000, 2700000)\n",
    "assert len(token_counts) in range(200000, 210000)\n",
    "print('Correct!')"
   ],
   "outputs": [
    {
     "name": "stdout",
     "output_type": "stream",
     "text": [
      "Total unique tokens : 202704\n",
      "('and', 2657388)\n",
      "('.', 2523216)\n",
      "(',', 2318606)\n",
      "('the', 2080994)\n",
      "('to', 2019884)\n",
      "...\n",
      "('improvemen', 1)\n",
      "('techniciancivil', 1)\n",
      "('mlnlycke', 1)\n",
      "Correct!\n"
     ]
    }
   ],
   "execution_count": 16
  },
  {
   "cell_type": "code",
   "metadata": {
    "id": "BjQjcxpR2RqQ",
    "ExecuteTime": {
     "end_time": "2025-03-27T10:28:56.480639Z",
     "start_time": "2025-03-27T10:28:55.515836Z"
    }
   },
   "source": [
    "# Let's see how many words are there for each count\n",
    "plt.hist(list(token_counts.values()), range=[0, 10**4], bins=50, log=True)\n",
    "plt.xlabel(\"Word counts\");"
   ],
   "outputs": [
    {
     "data": {
      "text/plain": [
       "<Figure size 640x480 with 1 Axes>"
      ],
      "image/png": "[encoded data removed]"
     },
     "metadata": {},
     "output_type": "display_data"
    }
   ],
   "execution_count": 17
  },
  {
   "cell_type": "markdown",
   "metadata": {
    "id": "HXjXS_oZ2RqQ"
   },
   "source": [
    "__Задание 1.1__ Получите список всех токенов, которые встречаются не менее 10 раз."
   ]
  },
  {
   "cell_type": "code",
   "metadata": {
    "id": "JayaT2Cl2RqQ",
    "ExecuteTime": {
     "end_time": "2025-03-27T10:28:56.659462Z",
     "start_time": "2025-03-27T10:28:56.638845Z"
    }
   },
   "source": [
    "min_count = 10\n",
    "\n",
    "# tokens from token_counts keys that had at least min_count occurrences throughout the dataset\n",
    "tokens = sorted(token for token, count in token_counts.items() if count >= min_count)\n",
    "\n",
    "# Add a special tokens for unknown and empty words\n",
    "UNK, PAD = \"UNK\", \"PAD\"\n",
    "tokens = [UNK, PAD] + tokens"
   ],
   "outputs": [],
   "execution_count": 18
  },
  {
   "cell_type": "code",
   "metadata": {
    "id": "cv4sKk_V2RqQ",
    "ExecuteTime": {
     "end_time": "2025-03-27T10:28:56.821583Z",
     "start_time": "2025-03-27T10:28:56.817262Z"
    }
   },
   "source": [
    "print(\"Vocabulary size:\", len(tokens))\n",
    "assert type(tokens) == list\n",
    "assert len(tokens) in range(32000, 35000)\n",
    "assert 'me' in tokens\n",
    "assert UNK in tokens\n",
    "print(\"Correct!\")"
   ],
   "outputs": [
    {
     "name": "stdout",
     "output_type": "stream",
     "text": [
      "Vocabulary size: 34158\n",
      "Correct!\n"
     ]
    }
   ],
   "execution_count": 19
  },
  {
   "cell_type": "markdown",
   "metadata": {
    "id": "5lDkb5w02RqQ"
   },
   "source": [
    "__Задача 1.2__ Постройте обратный индекс токена: словарь от токена(string) до его индекса в `tokens` (int)"
   ]
  },
  {
   "cell_type": "code",
   "metadata": {
    "id": "rb656LuY2RqQ",
    "ExecuteTime": {
     "end_time": "2025-03-27T10:28:56.989148Z",
     "start_time": "2025-03-27T10:28:56.982103Z"
    }
   },
   "source": [
    "token_to_id = {token: index for index, token in enumerate(tokens)}"
   ],
   "outputs": [],
   "execution_count": 20
  },
  {
   "cell_type": "code",
   "metadata": {
    "id": "BjOANmKH2RqQ",
    "ExecuteTime": {
     "end_time": "2025-03-27T10:28:57.154500Z",
     "start_time": "2025-03-27T10:28:57.147133Z"
    }
   },
   "source": [
    "assert isinstance(token_to_id, dict)\n",
    "assert len(token_to_id) == len(tokens)\n",
    "for tok in tokens:\n",
    "    assert tokens[token_to_id[tok]] == tok\n",
    "\n",
    "print(\"Correct!\")"
   ],
   "outputs": [
    {
     "name": "stdout",
     "output_type": "stream",
     "text": [
      "Correct!\n"
     ]
    }
   ],
   "execution_count": 21
  },
  {
   "cell_type": "markdown",
   "metadata": {
    "id": "4OXmoEAi2RqQ"
   },
   "source": [
    "And finally, let's use the vocabulary you've built to map text lines into neural network-digestible matrices."
   ]
  },
  {
   "cell_type": "code",
   "metadata": {
    "id": "nVXc6Cd62RqQ",
    "ExecuteTime": {
     "end_time": "2025-03-27T10:28:57.319408Z",
     "start_time": "2025-03-27T10:28:57.315806Z"
    }
   },
   "source": [
    "UNK_IX, PAD_IX = map(token_to_id.get, [UNK, PAD])\n",
    "\n",
    "def as_matrix(sequences, max_len=None):\n",
    "    \"\"\" Convert a list of tokens into a matrix with padding \"\"\"\n",
    "    if isinstance(sequences[0], str):\n",
    "        sequences = list(map(str.split, sequences))\n",
    "\n",
    "    max_len = min(max(map(len, sequences)), max_len or float('inf'))\n",
    "\n",
    "    matrix = np.full((len(sequences), max_len), np.int32(PAD_IX))\n",
    "    for i,seq in enumerate(sequences):\n",
    "        row_ix = [token_to_id.get(word, UNK_IX) for word in seq[:max_len]]\n",
    "        matrix[i, :len(row_ix)] = row_ix\n",
    "\n",
    "    return matrix"
   ],
   "outputs": [],
   "execution_count": 22
  },
  {
   "cell_type": "code",
   "metadata": {
    "id": "tU1TrTOV2RqR",
    "ExecuteTime": {
     "end_time": "2025-03-27T10:28:57.487567Z",
     "start_time": "2025-03-27T10:28:57.484131Z"
    }
   },
   "source": [
    "print(\"Lines:\")\n",
    "print('\\n'.join(data[\"Title\"][::100000].values), end='\\n\\n')\n",
    "print(\"Matrix:\")\n",
    "print(as_matrix(data[\"Title\"][::100000]))"
   ],
   "outputs": [
    {
     "name": "stdout",
     "output_type": "stream",
     "text": [
      "Lines:\n",
      "engineering systems analyst\n",
      "hr assistant\n",
      "senior ec & i engineer\n",
      "\n",
      "Matrix:\n",
      "[[10807 30161  2166     1     1]\n",
      " [15020  2844     1     1     1]\n",
      " [27645 10201    16 15215 10804]]\n"
     ]
    }
   ],
   "execution_count": 23
  },
  {
   "cell_type": "markdown",
   "metadata": {
    "id": "zMPGp3gB2RqR"
   },
   "source": [
    "Теперь давайте закодируем имеющиеся у нас категориальные данные.\n",
    "\n",
    "Для простоты мы будем использовать кодировку one-hot. Но естесна тот же tfidf даст качество выше"
   ]
  },
  {
   "cell_type": "code",
   "metadata": {
    "colab": {
     "base_uri": "https://localhost:8080/",
     "height": 93
    },
    "id": "7DFM83G52RqR",
    "outputId": "ec5f2fb0-7528-4903-e4e0-fad9e4329283",
    "ExecuteTime": {
     "end_time": "2025-03-27T10:29:01.951316Z",
     "start_time": "2025-03-27T10:28:57.662534Z"
    }
   },
   "source": [
    "from sklearn.feature_extraction import DictVectorizer\n",
    "\n",
    "# we only consider top-1k most frequent companies to minimize memory usage\n",
    "top_companies, top_counts = zip(*Counter(data['Company']).most_common(1000))\n",
    "recognized_companies = set(top_companies)\n",
    "data[\"Company\"] = data[\"Company\"].apply(lambda comp: comp if comp in recognized_companies else \"Other\")\n",
    "\n",
    "categorical_vectorizer = DictVectorizer(dtype=np.float32, sparse=False)\n",
    "categorical_vectorizer.fit(data[categorical_columns].apply(dict, axis=1))"
   ],
   "outputs": [
    {
     "data": {
      "text/plain": [
       "DictVectorizer(dtype=<class 'numpy.float32'>, sparse=False)"
      ],
      "text/html": [
       "<style>#sk-container-id-1 {\n",
       "  /* Definition of color scheme common for light and dark mode */\n",
       "  --sklearn-color-text: #000;\n",
       "  --sklearn-color-text-muted: #666;\n",
       "  --sklearn-color-line: gray;\n",
       "  /* Definition of color scheme for unfitted estimators */\n",
       "  --sklearn-color-unfitted-level-0: #fff5e6;\n",
       "  --sklearn-color-unfitted-level-1: #f6e4d2;\n",
       "  --sklearn-color-unfitted-level-2: #ffe0b3;\n",
       "  --sklearn-color-unfitted-level-3: chocolate;\n",
       "  /* Definition of color scheme for fitted estimators */\n",
       "  --sklearn-color-fitted-level-0: #f0f8ff;\n",
       "  --sklearn-color-fitted-level-1: #d4ebff;\n",
       "  --sklearn-color-fitted-level-2: #b3dbfd;\n",
       "  --sklearn-color-fitted-level-3: cornflowerblue;\n",
       "\n",
       "  /* Specific color for light theme */\n",
       "  --sklearn-color-text-on-default-background: var(--sg-text-color, var(--theme-code-foreground, var(--jp-content-font-color1, black)));\n",
       "  --sklearn-color-background: var(--sg-background-color, var(--theme-background, var(--jp-layout-color0, white)));\n",
       "  --sklearn-color-border-box: var(--sg-text-color, var(--theme-code-foreground, var(--jp-content-font-color1, black)));\n",
       "  --sklearn-color-icon: #696969;\n",
       "\n",
       "  @media (prefers-color-scheme: dark) {\n",
       "    /* Redefinition of color scheme for dark theme */\n",
       "    --sklearn-color-text-on-default-background: var(--sg-text-color, var(--theme-code-foreground, var(--jp-content-font-color1, white)));\n",
       "    --sklearn-color-background: var(--sg-background-color, var(--theme-background, var(--jp-layout-color0, #111)));\n",
       "    --sklearn-color-border-box: var(--sg-text-color, var(--theme-code-foreground, var(--jp-content-font-color1, white)));\n",
       "    --sklearn-color-icon: #878787;\n",
       "  }\n",
       "}\n",
       "\n",
       "#sk-container-id-1 {\n",
       "  color: var(--sklearn-color-text);\n",
       "}\n",
       "\n",
       "#sk-container-id-1 pre {\n",
       "  padding: 0;\n",
       "}\n",
       "\n",
       "#sk-container-id-1 input.sk-hidden--visually {\n",
       "  border: 0;\n",
       "  clip: rect(1px 1px 1px 1px);\n",
       "  clip: rect(1px, 1px, 1px, 1px);\n",
       "  height: 1px;\n",
       "  margin: -1px;\n",
       "  overflow: hidden;\n",
       "  padding: 0;\n",
       "  position: absolute;\n",
       "  width: 1px;\n",
       "}\n",
       "\n",
       "#sk-container-id-1 div.sk-dashed-wrapped {\n",
       "  border: 1px dashed var(--sklearn-color-line);\n",
       "  margin: 0 0.4em 0.5em 0.4em;\n",
       "  box-sizing: border-box;\n",
       "  padding-bottom: 0.4em;\n",
       "  background-color: var(--sklearn-color-background);\n",
       "}\n",
       "\n",
       "#sk-container-id-1 div.sk-container {\n",
       "  /* jupyter's `normalize.less` sets `[hidden] { display: none; }`\n",
       "     but bootstrap.min.css set `[hidden] { display: none !important; }`\n",
       "     so we also need the `!important` here to be able to override the\n",
       "     default hidden behavior on the sphinx rendered scikit-learn.org.\n",
       "     See: https://github.com/scikit-learn/scikit-learn/issues/21755 */\n",
       "  display: inline-block !important;\n",
       "  position: relative;\n",
       "}\n",
       "\n",
       "#sk-container-id-1 div.sk-text-repr-fallback {\n",
       "  display: none;\n",
       "}\n",
       "\n",
       "div.sk-parallel-item,\n",
       "div.sk-serial,\n",
       "div.sk-item {\n",
       "  /* draw centered vertical line to link estimators */\n",
       "  background-image: linear-gradient(var(--sklearn-color-text-on-default-background), var(--sklearn-color-text-on-default-background));\n",
       "  background-size: 2px 100%;\n",
       "  background-repeat: no-repeat;\n",
       "  background-position: center center;\n",
       "}\n",
       "\n",
       "/* Parallel-specific style estimator block */\n",
       "\n",
       "#sk-container-id-1 div.sk-parallel-item::after {\n",
       "  content: \"\";\n",
       "  width: 100%;\n",
       "  border-bottom: 2px solid var(--sklearn-color-text-on-default-background);\n",
       "  flex-grow: 1;\n",
       "}\n",
       "\n",
       "#sk-container-id-1 div.sk-parallel {\n",
       "  display: flex;\n",
       "  align-items: stretch;\n",
       "  justify-content: center;\n",
       "  background-color: var(--sklearn-color-background);\n",
       "  position: relative;\n",
       "}\n",
       "\n",
       "#sk-container-id-1 div.sk-parallel-item {\n",
       "  display: flex;\n",
       "  flex-direction: column;\n",
       "}\n",
       "\n",
       "#sk-container-id-1 div.sk-parallel-item:first-child::after {\n",
       "  align-self: flex-end;\n",
       "  width: 50%;\n",
       "}\n",
       "\n",
       "#sk-container-id-1 div.sk-parallel-item:last-child::after {\n",
       "  align-self: flex-start;\n",
       "  width: 50%;\n",
       "}\n",
       "\n",
       "#sk-container-id-1 div.sk-parallel-item:only-child::after {\n",
       "  width: 0;\n",
       "}\n",
       "\n",
       "/* Serial-specific style estimator block */\n",
       "\n",
       "#sk-container-id-1 div.sk-serial {\n",
       "  display: flex;\n",
       "  flex-direction: column;\n",
       "  align-items: center;\n",
       "  background-color: var(--sklearn-color-background);\n",
       "  padding-right: 1em;\n",
       "  padding-left: 1em;\n",
       "}\n",
       "\n",
       "\n",
       "/* Toggleable style: style used for estimator/Pipeline/ColumnTransformer box that is\n",
       "clickable and can be expanded/collapsed.\n",
       "- Pipeline and ColumnTransformer use this feature and define the default style\n",
       "- Estimators will overwrite some part of the style using the `sk-estimator` class\n",
       "*/\n",
       "\n",
       "/* Pipeline and ColumnTransformer style (default) */\n",
       "\n",
       "#sk-container-id-1 div.sk-toggleable {\n",
       "  /* Default theme specific background. It is overwritten whether we have a\n",
       "  specific estimator or a Pipeline/ColumnTransformer */\n",
       "  background-color: var(--sklearn-color-background);\n",
       "}\n",
       "\n",
       "/* Toggleable label */\n",
       "#sk-container-id-1 label.sk-toggleable__label {\n",
       "  cursor: pointer;\n",
       "  display: flex;\n",
       "  width: 100%;\n",
       "  margin-bottom: 0;\n",
       "  padding: 0.5em;\n",
       "  box-sizing: border-box;\n",
       "  text-align: center;\n",
       "  align-items: start;\n",
       "  justify-content: space-between;\n",
       "  gap: 0.5em;\n",
       "}\n",
       "\n",
       "#sk-container-id-1 label.sk-toggleable__label .caption {\n",
       "  font-size: 0.6rem;\n",
       "  font-weight: lighter;\n",
       "  color: var(--sklearn-color-text-muted);\n",
       "}\n",
       "\n",
       "#sk-container-id-1 label.sk-toggleable__label-arrow:before {\n",
       "  /* Arrow on the left of the label */\n",
       "  content: \"▸\";\n",
       "  float: left;\n",
       "  margin-right: 0.25em;\n",
       "  color: var(--sklearn-color-icon);\n",
       "}\n",
       "\n",
       "#sk-container-id-1 label.sk-toggleable__label-arrow:hover:before {\n",
       "  color: var(--sklearn-color-text);\n",
       "}\n",
       "\n",
       "/* Toggleable content - dropdown */\n",
       "\n",
       "#sk-container-id-1 div.sk-toggleable__content {\n",
       "  max-height: 0;\n",
       "  max-width: 0;\n",
       "  overflow: hidden;\n",
       "  text-align: left;\n",
       "  /* unfitted */\n",
       "  background-color: var(--sklearn-color-unfitted-level-0);\n",
       "}\n",
       "\n",
       "#sk-container-id-1 div.sk-toggleable__content.fitted {\n",
       "  /* fitted */\n",
       "  background-color: var(--sklearn-color-fitted-level-0);\n",
       "}\n",
       "\n",
       "#sk-container-id-1 div.sk-toggleable__content pre {\n",
       "  margin: 0.2em;\n",
       "  border-radius: 0.25em;\n",
       "  color: var(--sklearn-color-text);\n",
       "  /* unfitted */\n",
       "  background-color: var(--sklearn-color-unfitted-level-0);\n",
       "}\n",
       "\n",
       "#sk-container-id-1 div.sk-toggleable__content.fitted pre {\n",
       "  /* unfitted */\n",
       "  background-color: var(--sklearn-color-fitted-level-0);\n",
       "}\n",
       "\n",
       "#sk-container-id-1 input.sk-toggleable__control:checked~div.sk-toggleable__content {\n",
       "  /* Expand drop-down */\n",
       "  max-height: 200px;\n",
       "  max-width: 100%;\n",
       "  overflow: auto;\n",
       "}\n",
       "\n",
       "#sk-container-id-1 input.sk-toggleable__control:checked~label.sk-toggleable__label-arrow:before {\n",
       "  content: \"▾\";\n",
       "}\n",
       "\n",
       "/* Pipeline/ColumnTransformer-specific style */\n",
       "\n",
       "#sk-container-id-1 div.sk-label input.sk-toggleable__control:checked~label.sk-toggleable__label {\n",
       "  color: var(--sklearn-color-text);\n",
       "  background-color: var(--sklearn-color-unfitted-level-2);\n",
       "}\n",
       "\n",
       "#sk-container-id-1 div.sk-label.fitted input.sk-toggleable__control:checked~label.sk-toggleable__label {\n",
       "  background-color: var(--sklearn-color-fitted-level-2);\n",
       "}\n",
       "\n",
       "/* Estimator-specific style */\n",
       "\n",
       "/* Colorize estimator box */\n",
       "#sk-container-id-1 div.sk-estimator input.sk-toggleable__control:checked~label.sk-toggleable__label {\n",
       "  /* unfitted */\n",
       "  background-color: var(--sklearn-color-unfitted-level-2);\n",
       "}\n",
       "\n",
       "#sk-container-id-1 div.sk-estimator.fitted input.sk-toggleable__control:checked~label.sk-toggleable__label {\n",
       "  /* fitted */\n",
       "  background-color: var(--sklearn-color-fitted-level-2);\n",
       "}\n",
       "\n",
       "#sk-container-id-1 div.sk-label label.sk-toggleable__label,\n",
       "#sk-container-id-1 div.sk-label label {\n",
       "  /* The background is the default theme color */\n",
       "  color: var(--sklearn-color-text-on-default-background);\n",
       "}\n",
       "\n",
       "/* On hover, darken the color of the background */\n",
       "#sk-container-id-1 div.sk-label:hover label.sk-toggleable__label {\n",
       "  color: var(--sklearn-color-text);\n",
       "  background-color: var(--sklearn-color-unfitted-level-2);\n",
       "}\n",
       "\n",
       "/* Label box, darken color on hover, fitted */\n",
       "#sk-container-id-1 div.sk-label.fitted:hover label.sk-toggleable__label.fitted {\n",
       "  color: var(--sklearn-color-text);\n",
       "  background-color: var(--sklearn-color-fitted-level-2);\n",
       "}\n",
       "\n",
       "/* Estimator label */\n",
       "\n",
       "#sk-container-id-1 div.sk-label label {\n",
       "  font-family: monospace;\n",
       "  font-weight: bold;\n",
       "  display: inline-block;\n",
       "  line-height: 1.2em;\n",
       "}\n",
       "\n",
       "#sk-container-id-1 div.sk-label-container {\n",
       "  text-align: center;\n",
       "}\n",
       "\n",
       "/* Estimator-specific */\n",
       "#sk-container-id-1 div.sk-estimator {\n",
       "  font-family: monospace;\n",
       "  border: 1px dotted var(--sklearn-color-border-box);\n",
       "  border-radius: 0.25em;\n",
       "  box-sizing: border-box;\n",
       "  margin-bottom: 0.5em;\n",
       "  /* unfitted */\n",
       "  background-color: var(--sklearn-color-unfitted-level-0);\n",
       "}\n",
       "\n",
       "#sk-container-id-1 div.sk-estimator.fitted {\n",
       "  /* fitted */\n",
       "  background-color: var(--sklearn-color-fitted-level-0);\n",
       "}\n",
       "\n",
       "/* on hover */\n",
       "#sk-container-id-1 div.sk-estimator:hover {\n",
       "  /* unfitted */\n",
       "  background-color: var(--sklearn-color-unfitted-level-2);\n",
       "}\n",
       "\n",
       "#sk-container-id-1 div.sk-estimator.fitted:hover {\n",
       "  /* fitted */\n",
       "  background-color: var(--sklearn-color-fitted-level-2);\n",
       "}\n",
       "\n",
       "/* Specification for estimator info (e.g. \"i\" and \"?\") */\n",
       "\n",
       "/* Common style for \"i\" and \"?\" */\n",
       "\n",
       ".sk-estimator-doc-link,\n",
       "a:link.sk-estimator-doc-link,\n",
       "a:visited.sk-estimator-doc-link {\n",
       "  float: right;\n",
       "  font-size: smaller;\n",
       "  line-height: 1em;\n",
       "  font-family: monospace;\n",
       "  background-color: var(--sklearn-color-background);\n",
       "  border-radius: 1em;\n",
       "  height: 1em;\n",
       "  width: 1em;\n",
       "  text-decoration: none !important;\n",
       "  margin-left: 0.5em;\n",
       "  text-align: center;\n",
       "  /* unfitted */\n",
       "  border: var(--sklearn-color-unfitted-level-1) 1pt solid;\n",
       "  color: var(--sklearn-color-unfitted-level-1);\n",
       "}\n",
       "\n",
       ".sk-estimator-doc-link.fitted,\n",
       "a:link.sk-estimator-doc-link.fitted,\n",
       "a:visited.sk-estimator-doc-link.fitted {\n",
       "  /* fitted */\n",
       "  border: var(--sklearn-color-fitted-level-1) 1pt solid;\n",
       "  color: var(--sklearn-color-fitted-level-1);\n",
       "}\n",
       "\n",
       "/* On hover */\n",
       "div.sk-estimator:hover .sk-estimator-doc-link:hover,\n",
       ".sk-estimator-doc-link:hover,\n",
       "div.sk-label-container:hover .sk-estimator-doc-link:hover,\n",
       ".sk-estimator-doc-link:hover {\n",
       "  /* unfitted */\n",
       "  background-color: var(--sklearn-color-unfitted-level-3);\n",
       "  color: var(--sklearn-color-background);\n",
       "  text-decoration: none;\n",
       "}\n",
       "\n",
       "div.sk-estimator.fitted:hover .sk-estimator-doc-link.fitted:hover,\n",
       ".sk-estimator-doc-link.fitted:hover,\n",
       "div.sk-label-container:hover .sk-estimator-doc-link.fitted:hover,\n",
       ".sk-estimator-doc-link.fitted:hover {\n",
       "  /* fitted */\n",
       "  background-color: var(--sklearn-color-fitted-level-3);\n",
       "  color: var(--sklearn-color-background);\n",
       "  text-decoration: none;\n",
       "}\n",
       "\n",
       "/* Span, style for the box shown on hovering the info icon */\n",
       ".sk-estimator-doc-link span {\n",
       "  display: none;\n",
       "  z-index: 9999;\n",
       "  position: relative;\n",
       "  font-weight: normal;\n",
       "  right: .2ex;\n",
       "  padding: .5ex;\n",
       "  margin: .5ex;\n",
       "  width: min-content;\n",
       "  min-width: 20ex;\n",
       "  max-width: 50ex;\n",
       "  color: var(--sklearn-color-text);\n",
       "  box-shadow: 2pt 2pt 4pt #999;\n",
       "  /* unfitted */\n",
       "  background: var(--sklearn-color-unfitted-level-0);\n",
       "  border: .5pt solid var(--sklearn-color-unfitted-level-3);\n",
       "}\n",
       "\n",
       ".sk-estimator-doc-link.fitted span {\n",
       "  /* fitted */\n",
       "  background: var(--sklearn-color-fitted-level-0);\n",
       "  border: var(--sklearn-color-fitted-level-3);\n",
       "}\n",
       "\n",
       ".sk-estimator-doc-link:hover span {\n",
       "  display: block;\n",
       "}\n",
       "\n",
       "/* \"?\"-specific style due to the `<a>` HTML tag */\n",
       "\n",
       "#sk-container-id-1 a.estimator_doc_link {\n",
       "  float: right;\n",
       "  font-size: 1rem;\n",
       "  line-height: 1em;\n",
       "  font-family: monospace;\n",
       "  background-color: var(--sklearn-color-background);\n",
       "  border-radius: 1rem;\n",
       "  height: 1rem;\n",
       "  width: 1rem;\n",
       "  text-decoration: none;\n",
       "  /* unfitted */\n",
       "  color: var(--sklearn-color-unfitted-level-1);\n",
       "  border: var(--sklearn-color-unfitted-level-1) 1pt solid;\n",
       "}\n",
       "\n",
       "#sk-container-id-1 a.estimator_doc_link.fitted {\n",
       "  /* fitted */\n",
       "  border: var(--sklearn-color-fitted-level-1) 1pt solid;\n",
       "  color: var(--sklearn-color-fitted-level-1);\n",
       "}\n",
       "\n",
       "/* On hover */\n",
       "#sk-container-id-1 a.estimator_doc_link:hover {\n",
       "  /* unfitted */\n",
       "  background-color: var(--sklearn-color-unfitted-level-3);\n",
       "  color: var(--sklearn-color-background);\n",
       "  text-decoration: none;\n",
       "}\n",
       "\n",
       "#sk-container-id-1 a.estimator_doc_link.fitted:hover {\n",
       "  /* fitted */\n",
       "  background-color: var(--sklearn-color-fitted-level-3);\n",
       "}\n",
       "</style><div id=\"sk-container-id-1\" class=\"sk-top-container\"><div class=\"sk-text-repr-fallback\"><pre>DictVectorizer(dtype=&lt;class &#x27;numpy.float32&#x27;&gt;, sparse=False)</pre><b>In a Jupyter environment, please rerun this cell to show the HTML representation or trust the notebook. <br />On GitHub, the HTML representation is unable to render, please try loading this page with nbviewer.org.</b></div><div class=\"sk-container\" hidden><div class=\"sk-item\"><div class=\"sk-estimator fitted sk-toggleable\"><input class=\"sk-toggleable__control sk-hidden--visually\" id=\"sk-estimator-id-1\" type=\"checkbox\" checked><label for=\"sk-estimator-id-1\" class=\"sk-toggleable__label fitted sk-toggleable__label-arrow\"><div><div>DictVectorizer</div></div><div><a class=\"sk-estimator-doc-link fitted\" rel=\"noreferrer\" target=\"_blank\" href=\"https://scikit-learn.org/1.6/modules/generated/sklearn.feature_extraction.DictVectorizer.html\">?<span>Documentation for DictVectorizer</span></a><span class=\"sk-estimator-doc-link fitted\">i<span>Fitted</span></span></div></label><div class=\"sk-toggleable__content fitted\"><pre>DictVectorizer(dtype=&lt;class &#x27;numpy.float32&#x27;&gt;, sparse=False)</pre></div> </div></div></div></div>"
      ]
     },
     "execution_count": 24,
     "metadata": {},
     "output_type": "execute_result"
    }
   ],
   "execution_count": 24
  },
  {
   "cell_type": "markdown",
   "metadata": {
    "id": "cghlY98L2RqR"
   },
   "source": [
    "### DL Part (Хелло Д.В. Сош.)\n",
    "\n",
    "После того как мы научились токенизировать данные, давайте подкрадемся к машинному обучению.\n",
    "\n",
    "Для простоты - обычный train test split"
   ]
  },
  {
   "cell_type": "code",
   "metadata": {
    "colab": {
     "base_uri": "https://localhost:8080/"
    },
    "id": "fT4URTg42RqR",
    "outputId": "d9aa8fed-1c04-4d3f-a6b5-970cbf2cd290",
    "ExecuteTime": {
     "end_time": "2025-03-27T10:29:02.184160Z",
     "start_time": "2025-03-27T10:29:02.112418Z"
    }
   },
   "source": [
    "from sklearn.model_selection import train_test_split\n",
    "\n",
    "data_train, data_val = train_test_split(data, test_size=0.2, random_state=42)\n",
    "data_train.index = range(len(data_train))\n",
    "data_val.index = range(len(data_val))\n",
    "\n",
    "print(\"Train size = \", len(data_train))\n",
    "print(\"Validation size = \", len(data_val))"
   ],
   "outputs": [
    {
     "name": "stdout",
     "output_type": "stream",
     "text": [
      "Train size =  195814\n",
      "Validation size =  48954\n"
     ]
    }
   ],
   "execution_count": 25
  },
  {
   "cell_type": "markdown",
   "metadata": {
    "id": "bSoY2zxUaXhw"
   },
   "source": [
    "ЕСТЬ ВОПРОСИК!!!"
   ]
  },
  {
   "cell_type": "code",
   "metadata": {
    "id": "3AWKFWlA2RqR",
    "ExecuteTime": {
     "end_time": "2025-03-27T10:29:03.804505Z",
     "start_time": "2025-03-27T10:29:02.354491Z"
    }
   },
   "source": [
    "import torch\n",
    "import torch.nn as nn\n",
    "\n",
    "device = 'cuda' if torch.cuda.is_available() else 'cpu'\n",
    "\n",
    "\n",
    "def to_tensors(batch, device):\n",
    "    batch_tensors = dict()\n",
    "    for key, arr in batch.items():\n",
    "        if key in [\"FullDescription\", \"Title\"]:\n",
    "            batch_tensors[key] = torch.tensor(arr, device=device, dtype=torch.int64)\n",
    "        else:\n",
    "            batch_tensors[key] = torch.tensor(arr, device=device)\n",
    "    return batch_tensors\n",
    "\n",
    "\n",
    "def make_batch(data, max_len=None, word_dropout=0, device=device):\n",
    "    \"\"\"\n",
    "    Creates a keras-friendly dict from the batch data.\n",
    "    :param word_dropout: replaces token index with UNK_IX with this probability\n",
    "    :returns: a dict with {'title' : int64[batch, title_max_len]\n",
    "    \"\"\"\n",
    "    batch = {}\n",
    "    batch[\"Title\"] = as_matrix(data[\"Title\"].values, max_len)\n",
    "    batch[\"FullDescription\"] = as_matrix(data[\"FullDescription\"].values, max_len)\n",
    "    batch['Categorical'] = categorical_vectorizer.transform(data[categorical_columns].apply(dict, axis=1))\n",
    "\n",
    "    if word_dropout != 0:\n",
    "        batch[\"FullDescription\"] = apply_word_dropout(batch[\"FullDescription\"], 1. - word_dropout)\n",
    "\n",
    "    if TARGET_COLUMN in data.columns:\n",
    "        batch[TARGET_COLUMN] = data[TARGET_COLUMN].values\n",
    "\n",
    "    return to_tensors(batch, device)\n",
    "\n",
    "def apply_word_dropout(matrix, keep_prop, replace_with=UNK_IX, pad_ix=PAD_IX,):\n",
    "    dropout_mask = np.random.choice(2, np.shape(matrix), p=[keep_prop, 1 - keep_prop])\n",
    "    dropout_mask &= matrix != pad_ix\n",
    "    return np.choose(dropout_mask, [matrix, np.full_like(matrix, replace_with)])"
   ],
   "outputs": [],
   "execution_count": 26
  },
  {
   "cell_type": "code",
   "metadata": {
    "id": "TwJnMUwP2RqR",
    "scrolled": true,
    "ExecuteTime": {
     "end_time": "2025-03-27T10:29:04.176722Z",
     "start_time": "2025-03-27T10:29:03.974837Z"
    }
   },
   "source": [
    "make_batch(data_train[:3], max_len=10)"
   ],
   "outputs": [
    {
     "data": {
      "text/plain": [
       "{'Title': tensor([[27645, 29893, 33674,     1,     1,     1,     1],\n",
       "         [29239,   197, 19175, 20042, 15554, 23162,  4051],\n",
       "         [10609, 30412, 17746,    33,  8705, 29157,    65]], device='cuda:0'),\n",
       " 'FullDescription': tensor([[27645, 29893, 33674, 32939,   982, 27645, 29893, 33674, 16451, 32939],\n",
       "         [29239,   197, 19175, 20042, 15554, 23162,  4051, 25511,   907,    82],\n",
       "         [30746, 21956, 20601,  6409, 16451,  8165, 27493,   982, 30412, 17746]],\n",
       "        device='cuda:0'),\n",
       " 'Categorical': tensor([[0., 0., 0.,  ..., 0., 0., 0.],\n",
       "         [0., 0., 0.,  ..., 0., 0., 0.],\n",
       "         [0., 0., 0.,  ..., 0., 0., 0.]], device='cuda:0'),\n",
       " 'Log1pSalary': tensor([ 9.7115, 10.4631, 10.7144], device='cuda:0')}"
      ]
     },
     "execution_count": 27,
     "metadata": {},
     "output_type": "execute_result"
    }
   ],
   "execution_count": 27
  },
  {
   "cell_type": "markdown",
   "metadata": {
    "id": "i79kWoxY2RqS"
   },
   "source": [
    "#### Архитектура\n",
    "\n",
    "Наша базовая модель состоит из трех частей:\n",
    "* Title Encoder\n",
    "* Description encoder\n",
    "* Categorical features encoder\n",
    "\n",
    "Затем мы объединим все 3 реза в одну сетку, которая предсказывает зарплату.\n"
   ]
  },
  {
   "cell_type": "markdown",
   "metadata": {
    "id": "r6OEYNRPcnYu"
   },
   "source": [
    "\n",
    "<img src=\"https://i.imgur.com/yP8CgVK.png\" alt=\"Image\" width=\"400\"/>"
   ]
  },
  {
   "metadata": {
    "ExecuteTime": {
     "end_time": "2025-03-27T10:30:46.518172Z",
     "start_time": "2025-03-27T10:30:46.513493Z"
    }
   },
   "cell_type": "code",
   "source": [
    "import torch\n",
    "from torch import nn\n",
    "\n",
    "\n",
    "class GlobalMaxPooling(nn.Module):\n",
    "    def __init__(self, dim=-1):\n",
    "        super(self.__class__, self).__init__()\n",
    "        self.dim = dim\n",
    "\n",
    "    def forward(self, x):\n",
    "        return x.max(dim=self.dim)[0]\n",
    "\n",
    "\n",
    "class TitleEncoder(nn.Module):\n",
    "    def __init__(self, n_tokens=len(tokens), embedding_dim=128, num_filters=128):\n",
    "        super(self.__class__, self).__init__()\n",
    "        self.emb = nn.Embedding(n_tokens, embedding_dim, padding_idx=PAD_IX)\n",
    "        self.conv1 = nn.Conv1d(in_channels=embedding_dim, out_channels=num_filters,\n",
    "                               kernel_size=3, padding=1)\n",
    "\n",
    "        self.pool = GlobalMaxPooling()\n",
    "        self.relu = nn.ReLU()\n",
    "        self.linear = nn.Linear(num_filters, num_filters)\n",
    "\n",
    "    def forward(self, batch):\n",
    "        title_ix = batch[\"Title\"].clone().detach()\n",
    "        x = self.emb(title_ix)\n",
    "        x = torch.transpose(x, 1, 2)\n",
    "        x = self.conv1(x)\n",
    "        x = self.pool(x)\n",
    "        x = self.relu(x)\n",
    "        x = self.linear(x)\n",
    "        return x"
   ],
   "outputs": [],
   "execution_count": 29
  },
  {
   "metadata": {
    "ExecuteTime": {
     "end_time": "2025-03-27T10:31:13.573100Z",
     "start_time": "2025-03-27T10:31:13.567311Z"
    }
   },
   "cell_type": "code",
   "source": [
    "class DescriptionEncoder(nn.Module):\n",
    "    def __init__(self, n_tokens=len(tokens), embedding_dim=128, num_filters=128):\n",
    "        super(self.__class__, self).__init__()\n",
    "        self.emb = nn.Embedding(n_tokens, embedding_dim, padding_idx=PAD_IX)\n",
    "        self.conv1 = nn.Conv1d(in_channels=embedding_dim, out_channels=num_filters,\n",
    "                               kernel_size=3, padding=1)\n",
    "        self.pool = GlobalMaxPooling()\n",
    "        self.relu = nn.ReLU()\n",
    "        self.linear = nn.Linear(num_filters, num_filters)\n",
    "\n",
    "    def forward(self, batch):\n",
    "        x = self.emb(batch['FullDescription'])\n",
    "        x = torch.transpose(x, 1, 2)\n",
    "        x = self.conv1(x)\n",
    "        x = self.pool(x)\n",
    "        x = self.relu(x)\n",
    "        x = self.linear(x)\n",
    "        return x"
   ],
   "outputs": [],
   "execution_count": 30
  },
  {
   "metadata": {
    "ExecuteTime": {
     "end_time": "2025-03-27T10:31:17.205880Z",
     "start_time": "2025-03-27T10:31:17.200434Z"
    }
   },
   "cell_type": "code",
   "source": [
    "class SalaryPredictor(nn.Module):\n",
    "    def __init__(self, n_tokens=len(tokens), n_cat_features=len(categorical_vectorizer.vocabulary_)):\n",
    "        super(self.__class__, self).__init__()\n",
    "\n",
    "        self.title_encoder = TitleEncoder(n_tokens=n_tokens, num_filters=64)\n",
    "        self.desc_encoder = DescriptionEncoder(n_tokens=n_tokens, num_filters=64)\n",
    "\n",
    "        self.layers = nn.Sequential(\n",
    "            nn.Linear(n_cat_features, 128),\n",
    "            nn.ReLU(),\n",
    "            nn.Linear(128, 32)\n",
    "        )\n",
    "\n",
    "        self.out = nn.Linear(160, 1)\n",
    "\n",
    "    def forward(self, batch):\n",
    "        title = self.title_encoder(batch)\n",
    "        desc = self.desc_encoder(batch)\n",
    "\n",
    "        tensor = batch['Categorical'].clone().detach().requires_grad_(True)\n",
    "        cat = self.layers(tensor)\n",
    "\n",
    "        join = torch.cat([title, desc, cat], dim=1)\n",
    "        out = self.out(join)\n",
    "        return out[:, 0]"
   ],
   "outputs": [],
   "execution_count": 31
  },
  {
   "cell_type": "code",
   "metadata": {
    "id": "F40tb5ZA2RqS",
    "ExecuteTime": {
     "end_time": "2025-03-27T10:31:25.897925Z",
     "start_time": "2025-03-27T10:31:25.598131Z"
    }
   },
   "source": [
    "model = SalaryPredictor().to(device)\n",
    "batch = make_batch(data_train[:100], device=device)\n",
    "criterion = nn.MSELoss()\n",
    "\n",
    "dummy_pred = model(batch)\n",
    "dummy_loss = criterion(dummy_pred, batch[TARGET_COLUMN])\n",
    "assert dummy_pred.shape == torch.Size([100])\n",
    "assert len(torch.unique(dummy_pred)) > 20, \"model returns suspiciously few unique outputs. Check your initialization\"\n",
    "assert dummy_loss.ndim == 0 and 0. <= dummy_loss <= 250., \"make sure you minimize MSE\""
   ],
   "outputs": [],
   "execution_count": 32
  },
  {
   "cell_type": "markdown",
   "metadata": {
    "id": "0nSdCOhL2RqS"
   },
   "source": [
    "#### Обучение и оценка\n",
    "\n",
    "Как обычно, мы будем кормить нашего монстра случайными минибатчами данных.\n",
    "\n",
    "В процессе обучения мы хотим отслеживать не только функцию потерь, которая вычисляется в логарифмическом пространстве, но и фактическую ошибку, измеряемую в долларах."
   ]
  },
  {
   "cell_type": "code",
   "metadata": {
    "id": "il-9m2Bx2RqS",
    "ExecuteTime": {
     "end_time": "2025-03-27T10:31:29.938854Z",
     "start_time": "2025-03-27T10:31:29.934472Z"
    }
   },
   "source": [
    "def iterate_minibatches(data, batch_size=256, shuffle=True, cycle=False, device=device, **kwargs):\n",
    "    \"\"\" iterates minibatches of data in random order \"\"\"\n",
    "    while True:\n",
    "        indices = np.arange(len(data))\n",
    "        if shuffle:\n",
    "            indices = np.random.permutation(indices)\n",
    "\n",
    "        for start in range(0, len(indices), batch_size):\n",
    "            batch = make_batch(data.iloc[indices[start : start + batch_size]], device=device, **kwargs)\n",
    "            yield batch\n",
    "\n",
    "        if not cycle: break"
   ],
   "outputs": [],
   "execution_count": 33
  },
  {
   "cell_type": "markdown",
   "metadata": {
    "id": "1l13mkO42RqT"
   },
   "source": [
    "## Обучение модели (И ОСНОВНЫЕ ИДЕИ)\n",
    "\n",
    "Теперь мы можем подогнать нашу модель под обычные минибатчи. Забавность в том, что мы обучаемся на бесконечном потоке минибатчей, создаваемых функцией `iterate_minibatches`. Экономия памяти, ю ноу?"
   ]
  },
  {
   "cell_type": "markdown",
   "metadata": {
    "id": "RNAiy7ReaKzz"
   },
   "source": [
    "\n",
    "Главная задача - использовать некоторые трюки, которым мы научились и проанализировать, можете ли вы улучшить __validation MAE__. Попробуйте __как минимум 3 варианта__, напишите репорт и добейтесь MAE < 0.11. Больше идей (и реализаций) = больше бонусных баллов.\n",
    "\n",
    "__Только все делаем нормально:__ постройте кривые обучения в MAE/epoch, сравните результаты обучения / метрик моделей друг с другом\n",
    "\n",
    "Вы можете использовать как __pytorch__ или __tensorflow__, так и любой другой фреймворк (например, чистый __keras__). Не стесняйтесь адаптировать код семинара под свои нужды."
   ]
  },
  {
   "cell_type": "markdown",
   "metadata": {
    "id": "bXcj6PtsaKzz"
   },
   "source": [
    "## Рекомендуемые варианты\n",
    "\n",
    "#### A) Архитектура CNN\n",
    "\n",
    "Все известные трюки, связанные с полносвязными и сверточными нейронными сетями, применимы и здесь:\n",
    "* Dropout. Без комментариев.\n",
    "* Batch Norm. В этот раз используем `nn.BatchNorm*`/`L.BatchNormalization`.\n",
    "* Параллельные сверточные слои. Идея заключается в том, чтобы применить несколько `nn.Conv1d` к одним и тем же эмбеддингам и объединить выходные каналы.\n",
    "* Больше слоев, больше нейронов, как обычно...\n",
    "\n",
    "#### B) Эксперименты с пулингом\n",
    "\n",
    "Существует несколько способов пулинга:\n",
    "* Max pooling\n",
    "* Mean pooling\n",
    "* Softmax pooling:\n",
    "$$ out_{i, t} = \\sum_t {h_{i,t} \\cdot {{e ^ {h_{i, t}}} \\over \\sum_\\tau e ^ {h_{j, \\tau}} } } $$\n",
    "\n",
    "* Attentive pooling:\n",
    "$$ out_{i, t} = \\sum_t {h_{i,t} \\cdot Attn(h_t)}$$\n",
    "\n",
    "где $$ Attn(h_t) = {{e ^ {NN_{attn}(h_t)}} \\over \\sum_\\tau e ^ {NN_{attn}(h_\\tau)}}  $$,\n",
    "а $NN_{attn}$ — это полносвязный слой.\n",
    "\n",
    "Оптимальные результаты обычно достигаются путем объединения нескольких различных видов пулинга, включая несколько Attentive pooling с разными $NN_{attn}$.\n",
    "\n",
    "\n",
    "#### C) Работа со словами\n",
    "\n",
    "Не всегда разумно обучать эмбеддинги с нуля. Вот несколько приемов:\n",
    "\n",
    "* Используйте предобученные эмбеддинги из `gensim.downloader.load`. См. последнюю лекцию.\n",
    "* Начните с предобученных эмбеддингов, а затем дообучайте их с помощью градиентного спуска. Вы можете загрузить предобученные эмбеддинги, например, [отсюда](http://nlp.stanford.edu/data/glove.6B.zip)\n",
    "* Используйте одну и ту же матрицу эмбеддингов для векторизаторов заголовков и описаний.\n",
    "\n",
    "#### D) Использование рекуррентных сетей\n",
    "\n",
    "Мы уже узнали, что рекуррентные сети могут быть полезны в моделировании последовательностей. Оказывается, они могут быть полезны и для классификации, с некоторыми хитростями...\n",
    "\n",
    "* Как и в случае со сверточными слоями, выход LSTM следует свести к вектору фиксированного размера с помощью одного из пулингов.\n",
    "* Поскольку вы заранее знаете весь текст, используйте двунаправленную RNN:\n",
    "  * Запустите одну LSTM слева направо.\n",
    "  * Запустите другую параллельно справа налево.\n",
    "  * Объедините их выходные последовательности по оси единиц (dim=-1).\n",
    "\n",
    "* Возможно, хорошей идеей будет смешать сверточные и рекуррентные слои для заголовков и описаний.\n",
    "\n",
    "#### E) Серьезная оптимизация\n",
    "\n",
    "* Не обязательно тренировать модель 100 эпох. Используйте раннюю остановку (early stopping). Если вы никогда этого не делали, взгляните на [callback ранней остановки в Keras](https://keras.io/callbacks/#earlystopping) или в [pytorch(lightning)](https://pytorch-lightning.readthedocs.io/en/latest/common/early_stopping.html).\n",
    "  * В двух словах, тренируйте модель до тех пор, пока валидация не начнет ухудшаться.\n",
    "  * Сохраняйте лучший по валидации снимок модели через `model.save(file_name)`.\n",
    "\n",
    "Удачи! И да пребудет с вами сила!"
   ]
  },
  {
   "cell_type": "code",
   "metadata": {
    "id": "tgmz6eIe2RqT",
    "ExecuteTime": {
     "end_time": "2025-03-27T10:31:34.350715Z",
     "start_time": "2025-03-27T10:31:34.348123Z"
    }
   },
   "source": [
    "BATCH_SIZE = 128\n",
    "EPOCHS = 50"
   ],
   "outputs": [],
   "execution_count": 34
  },
  {
   "cell_type": "code",
   "metadata": {
    "id": "wR25vC1Z2RqT",
    "ExecuteTime": {
     "end_time": "2025-03-27T10:31:37.326868Z",
     "start_time": "2025-03-27T10:31:37.322672Z"
    }
   },
   "source": [
    "def print_metrics(model, data, batch_size=BATCH_SIZE, name=\"\", device=torch.device('cpu'), **kw):\n",
    "    squared_error = abs_error = num_samples = 0.0\n",
    "    model.eval()\n",
    "    with torch.no_grad():\n",
    "        for batch in iterate_minibatches(data, batch_size=batch_size, shuffle=False, device=device, **kw):\n",
    "            batch_pred = model(batch)\n",
    "            batch_target = batch[TARGET_COLUMN]\n",
    "            squared_error += torch.sum(torch.square(batch_pred - batch_target))\n",
    "            abs_error += torch.sum(torch.abs(batch_pred - batch_target))\n",
    "            num_samples += len(batch_pred)\n",
    "    mse = squared_error.detach().cpu().numpy() / num_samples\n",
    "    mae = abs_error.detach().cpu().numpy() / num_samples\n",
    "    print(\"%s results:\" % (name or \"\"))\n",
    "    print(\"Mean square error: %.5f\" % mse)\n",
    "    print(\"Mean absolute error: %.5f\" % mae)\n",
    "    return mse, mae"
   ],
   "outputs": [],
   "execution_count": 35
  },
  {
   "metadata": {
    "ExecuteTime": {
     "end_time": "2025-03-27T10:31:47.195698Z",
     "start_time": "2025-03-27T10:31:46.063392Z"
    }
   },
   "cell_type": "code",
   "source": [
    "model = SalaryPredictor().to(device)\n",
    "criterion = nn.MSELoss(reduction='sum')\n",
    "optimizer = torch.optim.Adam(model.parameters(), lr=1e-4)\n",
    "lr_scheduler = torch.optim.lr_scheduler.ReduceLROnPlateau(optimizer,\n",
    "                                                          mode='min',\n",
    "                                                          factor=0.1,\n",
    "                                                          patience=2,\n",
    "                                                          threshold=0.005,\n",
    "                                                          threshold_mode='rel',\n",
    "                                                          cooldown=0, min_lr=0, eps=1e-8)"
   ],
   "outputs": [],
   "execution_count": 36
  },
  {
   "metadata": {
    "ExecuteTime": {
     "end_time": "2025-03-27T10:31:49.172925Z",
     "start_time": "2025-03-27T10:31:49.168650Z"
    }
   },
   "cell_type": "code",
   "source": "df_results = pd.DataFrame(columns=['mse', 'mae', 'lr'])",
   "outputs": [],
   "execution_count": 37
  },
  {
   "metadata": {
    "ExecuteTime": {
     "end_time": "2025-03-27T10:55:23.706786Z",
     "start_time": "2025-03-27T10:31:57.430627Z"
    }
   },
   "cell_type": "code",
   "source": [
    "from tqdm.auto import tqdm\n",
    "\n",
    "for epoch in range(EPOCHS):\n",
    "    print(f\"epoch: {epoch}\")\n",
    "    model.train()\n",
    "    for i, batch in tqdm(enumerate(iterate_minibatches(data_train, batch_size=BATCH_SIZE, device=device)),\n",
    "                         total=len(data_train) // BATCH_SIZE):\n",
    "        pred = model(batch)\n",
    "        loss = criterion(pred, batch[TARGET_COLUMN])\n",
    "        loss.backward()\n",
    "        optimizer.step()\n",
    "        optimizer.zero_grad()\n",
    "\n",
    "    mse, mae = print_metrics(model, data_val, device=device)\n",
    "    lr_scheduler.step(mae)\n",
    "    lr = lr_scheduler._last_lr[0]\n",
    "    df_results.loc[epoch] = {'mse': mse, 'mae': mae, 'lr': lr}\n",
    "    if mae <= 0.11: break"
   ],
   "outputs": [
    {
     "name": "stdout",
     "output_type": "stream",
     "text": [
      "epoch: 0\n"
     ]
    },
    {
     "data": {
      "text/plain": [
       "  0%|          | 0/1529 [00:00<?, ?it/s]"
      ],
      "application/vnd.jupyter.widget-view+json": {
       "version_major": 2,
       "version_minor": 0,
       "model_id": "1e9fd3af480a4be0825a4062c58ff984"
      }
     },
     "metadata": {},
     "output_type": "display_data"
    },
    {
     "name": "stdout",
     "output_type": "stream",
     "text": [
      " results:\n",
      "Mean square error: 0.30298\n",
      "Mean absolute error: 0.41649\n",
      "epoch: 1\n"
     ]
    },
    {
     "data": {
      "text/plain": [
       "  0%|          | 0/1529 [00:00<?, ?it/s]"
      ],
      "application/vnd.jupyter.widget-view+json": {
       "version_major": 2,
       "version_minor": 0,
       "model_id": "74fa4ba67c3849bd92f851e60a34b6e4"
      }
     },
     "metadata": {},
     "output_type": "display_data"
    },
    {
     "name": "stdout",
     "output_type": "stream",
     "text": [
      " results:\n",
      "Mean square error: 0.15748\n",
      "Mean absolute error: 0.29951\n",
      "epoch: 2\n"
     ]
    },
    {
     "data": {
      "text/plain": [
       "  0%|          | 0/1529 [00:00<?, ?it/s]"
      ],
      "application/vnd.jupyter.widget-view+json": {
       "version_major": 2,
       "version_minor": 0,
       "model_id": "75fc9c715b4946fbb63ca089065ea4b8"
      }
     },
     "metadata": {},
     "output_type": "display_data"
    },
    {
     "name": "stdout",
     "output_type": "stream",
     "text": [
      " results:\n",
      "Mean square error: 0.10832\n",
      "Mean absolute error: 0.24757\n",
      "epoch: 3\n"
     ]
    },
    {
     "data": {
      "text/plain": [
       "  0%|          | 0/1529 [00:00<?, ?it/s]"
      ],
      "application/vnd.jupyter.widget-view+json": {
       "version_major": 2,
       "version_minor": 0,
       "model_id": "ffc94a4a3f244c22af9ed30032e30ad4"
      }
     },
     "metadata": {},
     "output_type": "display_data"
    },
    {
     "name": "stdout",
     "output_type": "stream",
     "text": [
      " results:\n",
      "Mean square error: 0.08799\n",
      "Mean absolute error: 0.22157\n",
      "epoch: 4\n"
     ]
    },
    {
     "data": {
      "text/plain": [
       "  0%|          | 0/1529 [00:00<?, ?it/s]"
      ],
      "application/vnd.jupyter.widget-view+json": {
       "version_major": 2,
       "version_minor": 0,
       "model_id": "55e82536b5bc456e9b2026c4e584da43"
      }
     },
     "metadata": {},
     "output_type": "display_data"
    },
    {
     "name": "stdout",
     "output_type": "stream",
     "text": [
      " results:\n",
      "Mean square error: 0.07830\n",
      "Mean absolute error: 0.20850\n",
      "epoch: 5\n"
     ]
    },
    {
     "data": {
      "text/plain": [
       "  0%|          | 0/1529 [00:00<?, ?it/s]"
      ],
      "application/vnd.jupyter.widget-view+json": {
       "version_major": 2,
       "version_minor": 0,
       "model_id": "185ac8de2d7242b7b2537f9e2ff5a86d"
      }
     },
     "metadata": {},
     "output_type": "display_data"
    },
    {
     "name": "stdout",
     "output_type": "stream",
     "text": [
      " results:\n",
      "Mean square error: 0.07312\n",
      "Mean absolute error: 0.20094\n",
      "epoch: 6\n"
     ]
    },
    {
     "data": {
      "text/plain": [
       "  0%|          | 0/1529 [00:00<?, ?it/s]"
      ],
      "application/vnd.jupyter.widget-view+json": {
       "version_major": 2,
       "version_minor": 0,
       "model_id": "d71f3404d37547ed94ebe010a91c18ac"
      }
     },
     "metadata": {},
     "output_type": "display_data"
    },
    {
     "name": "stdout",
     "output_type": "stream",
     "text": [
      " results:\n",
      "Mean square error: 0.07188\n",
      "Mean absolute error: 0.19865\n",
      "epoch: 7\n"
     ]
    },
    {
     "data": {
      "text/plain": [
       "  0%|          | 0/1529 [00:00<?, ?it/s]"
      ],
      "application/vnd.jupyter.widget-view+json": {
       "version_major": 2,
       "version_minor": 0,
       "model_id": "a080a17a0338413cb0a46de5ccaf2191"
      }
     },
     "metadata": {},
     "output_type": "display_data"
    },
    {
     "name": "stdout",
     "output_type": "stream",
     "text": [
      " results:\n",
      "Mean square error: 0.06795\n",
      "Mean absolute error: 0.19362\n",
      "epoch: 8\n"
     ]
    },
    {
     "data": {
      "text/plain": [
       "  0%|          | 0/1529 [00:00<?, ?it/s]"
      ],
      "application/vnd.jupyter.widget-view+json": {
       "version_major": 2,
       "version_minor": 0,
       "model_id": "f3848af210864ed9a8eba4cfa7acfc68"
      }
     },
     "metadata": {},
     "output_type": "display_data"
    },
    {
     "name": "stdout",
     "output_type": "stream",
     "text": [
      " results:\n",
      "Mean square error: 0.06702\n",
      "Mean absolute error: 0.19252\n",
      "epoch: 9\n"
     ]
    },
    {
     "data": {
      "text/plain": [
       "  0%|          | 0/1529 [00:00<?, ?it/s]"
      ],
      "application/vnd.jupyter.widget-view+json": {
       "version_major": 2,
       "version_minor": 0,
       "model_id": "cc493fe405c140e69d0db8becf2f5369"
      }
     },
     "metadata": {},
     "output_type": "display_data"
    },
    {
     "name": "stdout",
     "output_type": "stream",
     "text": [
      " results:\n",
      "Mean square error: 0.06555\n",
      "Mean absolute error: 0.18978\n",
      "epoch: 10\n"
     ]
    },
    {
     "data": {
      "text/plain": [
       "  0%|          | 0/1529 [00:00<?, ?it/s]"
      ],
      "application/vnd.jupyter.widget-view+json": {
       "version_major": 2,
       "version_minor": 0,
       "model_id": "57ce7b05b75147b388861858f5ff34ed"
      }
     },
     "metadata": {},
     "output_type": "display_data"
    },
    {
     "name": "stdout",
     "output_type": "stream",
     "text": [
      " results:\n",
      "Mean square error: 0.06491\n",
      "Mean absolute error: 0.18861\n",
      "epoch: 11\n"
     ]
    },
    {
     "data": {
      "text/plain": [
       "  0%|          | 0/1529 [00:00<?, ?it/s]"
      ],
      "application/vnd.jupyter.widget-view+json": {
       "version_major": 2,
       "version_minor": 0,
       "model_id": "9d7188d4218c492ca326022ceda158dd"
      }
     },
     "metadata": {},
     "output_type": "display_data"
    },
    {
     "name": "stdout",
     "output_type": "stream",
     "text": [
      " results:\n",
      "Mean square error: 0.06628\n",
      "Mean absolute error: 0.19196\n",
      "epoch: 12\n"
     ]
    },
    {
     "data": {
      "text/plain": [
       "  0%|          | 0/1529 [00:00<?, ?it/s]"
      ],
      "application/vnd.jupyter.widget-view+json": {
       "version_major": 2,
       "version_minor": 0,
       "model_id": "32a8f95d64d54c408103b5351c7edb67"
      }
     },
     "metadata": {},
     "output_type": "display_data"
    },
    {
     "name": "stdout",
     "output_type": "stream",
     "text": [
      " results:\n",
      "Mean square error: 0.06337\n",
      "Mean absolute error: 0.18618\n",
      "epoch: 13\n"
     ]
    },
    {
     "data": {
      "text/plain": [
       "  0%|          | 0/1529 [00:00<?, ?it/s]"
      ],
      "application/vnd.jupyter.widget-view+json": {
       "version_major": 2,
       "version_minor": 0,
       "model_id": "b58e2f4b141f4c61a97da42206864815"
      }
     },
     "metadata": {},
     "output_type": "display_data"
    },
    {
     "name": "stdout",
     "output_type": "stream",
     "text": [
      " results:\n",
      "Mean square error: 0.06345\n",
      "Mean absolute error: 0.18627\n",
      "epoch: 14\n"
     ]
    },
    {
     "data": {
      "text/plain": [
       "  0%|          | 0/1529 [00:00<?, ?it/s]"
      ],
      "application/vnd.jupyter.widget-view+json": {
       "version_major": 2,
       "version_minor": 0,
       "model_id": "40f730afe4014f3d83ad4c545a89f976"
      }
     },
     "metadata": {},
     "output_type": "display_data"
    },
    {
     "name": "stdout",
     "output_type": "stream",
     "text": [
      " results:\n",
      "Mean square error: 0.06318\n",
      "Mean absolute error: 0.18569\n",
      "epoch: 15\n"
     ]
    },
    {
     "data": {
      "text/plain": [
       "  0%|          | 0/1529 [00:00<?, ?it/s]"
      ],
      "application/vnd.jupyter.widget-view+json": {
       "version_major": 2,
       "version_minor": 0,
       "model_id": "e071df97bc16439c8d0e70f5ed3bcc95"
      }
     },
     "metadata": {},
     "output_type": "display_data"
    },
    {
     "name": "stdout",
     "output_type": "stream",
     "text": [
      " results:\n",
      "Mean square error: 0.06314\n",
      "Mean absolute error: 0.18607\n",
      "epoch: 16\n"
     ]
    },
    {
     "data": {
      "text/plain": [
       "  0%|          | 0/1529 [00:00<?, ?it/s]"
      ],
      "application/vnd.jupyter.widget-view+json": {
       "version_major": 2,
       "version_minor": 0,
       "model_id": "124e08a9f65f478b8993a02d49f8930a"
      }
     },
     "metadata": {},
     "output_type": "display_data"
    },
    {
     "name": "stdout",
     "output_type": "stream",
     "text": [
      " results:\n",
      "Mean square error: 0.06193\n",
      "Mean absolute error: 0.18360\n",
      "epoch: 17\n"
     ]
    },
    {
     "data": {
      "text/plain": [
       "  0%|          | 0/1529 [00:00<?, ?it/s]"
      ],
      "application/vnd.jupyter.widget-view+json": {
       "version_major": 2,
       "version_minor": 0,
       "model_id": "d375d963e288463da9c9c632ae4d242f"
      }
     },
     "metadata": {},
     "output_type": "display_data"
    },
    {
     "name": "stdout",
     "output_type": "stream",
     "text": [
      " results:\n",
      "Mean square error: 0.06176\n",
      "Mean absolute error: 0.18314\n",
      "epoch: 18\n"
     ]
    },
    {
     "data": {
      "text/plain": [
       "  0%|          | 0/1529 [00:00<?, ?it/s]"
      ],
      "application/vnd.jupyter.widget-view+json": {
       "version_major": 2,
       "version_minor": 0,
       "model_id": "527768f412fb4f928fa137885c4034ef"
      }
     },
     "metadata": {},
     "output_type": "display_data"
    },
    {
     "name": "stdout",
     "output_type": "stream",
     "text": [
      " results:\n",
      "Mean square error: 0.06174\n",
      "Mean absolute error: 0.18311\n",
      "epoch: 19\n"
     ]
    },
    {
     "data": {
      "text/plain": [
       "  0%|          | 0/1529 [00:00<?, ?it/s]"
      ],
      "application/vnd.jupyter.widget-view+json": {
       "version_major": 2,
       "version_minor": 0,
       "model_id": "e3d16abb4f194db695d3da5973cc44c4"
      }
     },
     "metadata": {},
     "output_type": "display_data"
    },
    {
     "name": "stdout",
     "output_type": "stream",
     "text": [
      " results:\n",
      "Mean square error: 0.06183\n",
      "Mean absolute error: 0.18329\n",
      "epoch: 20\n"
     ]
    },
    {
     "data": {
      "text/plain": [
       "  0%|          | 0/1529 [00:00<?, ?it/s]"
      ],
      "application/vnd.jupyter.widget-view+json": {
       "version_major": 2,
       "version_minor": 0,
       "model_id": "a4ddf51c42b34d75957f2f262e5c212c"
      }
     },
     "metadata": {},
     "output_type": "display_data"
    },
    {
     "name": "stdout",
     "output_type": "stream",
     "text": [
      " results:\n",
      "Mean square error: 0.06180\n",
      "Mean absolute error: 0.18318\n",
      "epoch: 21\n"
     ]
    },
    {
     "data": {
      "text/plain": [
       "  0%|          | 0/1529 [00:00<?, ?it/s]"
      ],
      "application/vnd.jupyter.widget-view+json": {
       "version_major": 2,
       "version_minor": 0,
       "model_id": "47c6bab11a834fe29e3ba651ffeebd34"
      }
     },
     "metadata": {},
     "output_type": "display_data"
    },
    {
     "name": "stdout",
     "output_type": "stream",
     "text": [
      " results:\n",
      "Mean square error: 0.06181\n",
      "Mean absolute error: 0.18323\n",
      "epoch: 22\n"
     ]
    },
    {
     "data": {
      "text/plain": [
       "  0%|          | 0/1529 [00:00<?, ?it/s]"
      ],
      "application/vnd.jupyter.widget-view+json": {
       "version_major": 2,
       "version_minor": 0,
       "model_id": "ce214532c9474dff8f585e18384a4050"
      }
     },
     "metadata": {},
     "output_type": "display_data"
    },
    {
     "name": "stdout",
     "output_type": "stream",
     "text": [
      " results:\n",
      "Mean square error: 0.06181\n",
      "Mean absolute error: 0.18321\n",
      "epoch: 23\n"
     ]
    },
    {
     "data": {
      "text/plain": [
       "  0%|          | 0/1529 [00:00<?, ?it/s]"
      ],
      "application/vnd.jupyter.widget-view+json": {
       "version_major": 2,
       "version_minor": 0,
       "model_id": "e09247f481b14350af2a9e8f02385ea0"
      }
     },
     "metadata": {},
     "output_type": "display_data"
    },
    {
     "name": "stdout",
     "output_type": "stream",
     "text": [
      " results:\n",
      "Mean square error: 0.06181\n",
      "Mean absolute error: 0.18322\n",
      "epoch: 24\n"
     ]
    },
    {
     "data": {
      "text/plain": [
       "  0%|          | 0/1529 [00:00<?, ?it/s]"
      ],
      "application/vnd.jupyter.widget-view+json": {
       "version_major": 2,
       "version_minor": 0,
       "model_id": "70c375a19646471090d0a7947c0f0cf3"
      }
     },
     "metadata": {},
     "output_type": "display_data"
    },
    {
     "name": "stdout",
     "output_type": "stream",
     "text": [
      " results:\n",
      "Mean square error: 0.06181\n",
      "Mean absolute error: 0.18321\n",
      "epoch: 25\n"
     ]
    },
    {
     "data": {
      "text/plain": [
       "  0%|          | 0/1529 [00:00<?, ?it/s]"
      ],
      "application/vnd.jupyter.widget-view+json": {
       "version_major": 2,
       "version_minor": 0,
       "model_id": "6cdb6bcc4b544e6ea2ed91f92b33a74c"
      }
     },
     "metadata": {},
     "output_type": "display_data"
    },
    {
     "name": "stdout",
     "output_type": "stream",
     "text": [
      " results:\n",
      "Mean square error: 0.06182\n",
      "Mean absolute error: 0.18321\n",
      "epoch: 26\n"
     ]
    },
    {
     "data": {
      "text/plain": [
       "  0%|          | 0/1529 [00:00<?, ?it/s]"
      ],
      "application/vnd.jupyter.widget-view+json": {
       "version_major": 2,
       "version_minor": 0,
       "model_id": "c58168e0719a4261a591038c01e1aa30"
      }
     },
     "metadata": {},
     "output_type": "display_data"
    },
    {
     "name": "stdout",
     "output_type": "stream",
     "text": [
      " results:\n",
      "Mean square error: 0.06181\n",
      "Mean absolute error: 0.18321\n",
      "epoch: 27\n"
     ]
    },
    {
     "data": {
      "text/plain": [
       "  0%|          | 0/1529 [00:00<?, ?it/s]"
      ],
      "application/vnd.jupyter.widget-view+json": {
       "version_major": 2,
       "version_minor": 0,
       "model_id": "61fe68f982f24399be83ec705aa7ef85"
      }
     },
     "metadata": {},
     "output_type": "display_data"
    },
    {
     "name": "stdout",
     "output_type": "stream",
     "text": [
      " results:\n",
      "Mean square error: 0.06181\n",
      "Mean absolute error: 0.18321\n",
      "epoch: 28\n"
     ]
    },
    {
     "data": {
      "text/plain": [
       "  0%|          | 0/1529 [00:00<?, ?it/s]"
      ],
      "application/vnd.jupyter.widget-view+json": {
       "version_major": 2,
       "version_minor": 0,
       "model_id": "0274cd638cda470baf3143a7ffcff534"
      }
     },
     "metadata": {},
     "output_type": "display_data"
    },
    {
     "name": "stdout",
     "output_type": "stream",
     "text": [
      " results:\n",
      "Mean square error: 0.06181\n",
      "Mean absolute error: 0.18322\n",
      "epoch: 29\n"
     ]
    },
    {
     "data": {
      "text/plain": [
       "  0%|          | 0/1529 [00:00<?, ?it/s]"
      ],
      "application/vnd.jupyter.widget-view+json": {
       "version_major": 2,
       "version_minor": 0,
       "model_id": "be95fc243d8d429b85b41445cf490200"
      }
     },
     "metadata": {},
     "output_type": "display_data"
    },
    {
     "name": "stdout",
     "output_type": "stream",
     "text": [
      " results:\n",
      "Mean square error: 0.06181\n",
      "Mean absolute error: 0.18322\n",
      "epoch: 30\n"
     ]
    },
    {
     "data": {
      "text/plain": [
       "  0%|          | 0/1529 [00:00<?, ?it/s]"
      ],
      "application/vnd.jupyter.widget-view+json": {
       "version_major": 2,
       "version_minor": 0,
       "model_id": "126ab9655ec345b9a3feeb0cc23fc57b"
      }
     },
     "metadata": {},
     "output_type": "display_data"
    },
    {
     "name": "stdout",
     "output_type": "stream",
     "text": [
      " results:\n",
      "Mean square error: 0.06181\n",
      "Mean absolute error: 0.18322\n",
      "epoch: 31\n"
     ]
    },
    {
     "data": {
      "text/plain": [
       "  0%|          | 0/1529 [00:00<?, ?it/s]"
      ],
      "application/vnd.jupyter.widget-view+json": {
       "version_major": 2,
       "version_minor": 0,
       "model_id": "b088f35cce3f490386cf73739502f610"
      }
     },
     "metadata": {},
     "output_type": "display_data"
    },
    {
     "name": "stdout",
     "output_type": "stream",
     "text": [
      " results:\n",
      "Mean square error: 0.06181\n",
      "Mean absolute error: 0.18322\n",
      "epoch: 32\n"
     ]
    },
    {
     "data": {
      "text/plain": [
       "  0%|          | 0/1529 [00:00<?, ?it/s]"
      ],
      "application/vnd.jupyter.widget-view+json": {
       "version_major": 2,
       "version_minor": 0,
       "model_id": "84b1e9f45e124efd838f72e5276ba091"
      }
     },
     "metadata": {},
     "output_type": "display_data"
    },
    {
     "name": "stdout",
     "output_type": "stream",
     "text": [
      " results:\n",
      "Mean square error: 0.06181\n",
      "Mean absolute error: 0.18322\n",
      "epoch: 33\n"
     ]
    },
    {
     "data": {
      "text/plain": [
       "  0%|          | 0/1529 [00:00<?, ?it/s]"
      ],
      "application/vnd.jupyter.widget-view+json": {
       "version_major": 2,
       "version_minor": 0,
       "model_id": "65563c86d77e4d83b5c573a58fc9e899"
      }
     },
     "metadata": {},
     "output_type": "display_data"
    },
    {
     "name": "stdout",
     "output_type": "stream",
     "text": [
      " results:\n",
      "Mean square error: 0.06181\n",
      "Mean absolute error: 0.18322\n",
      "epoch: 34\n"
     ]
    },
    {
     "data": {
      "text/plain": [
       "  0%|          | 0/1529 [00:00<?, ?it/s]"
      ],
      "application/vnd.jupyter.widget-view+json": {
       "version_major": 2,
       "version_minor": 0,
       "model_id": "bf9023a32f0e4d63b7c67d6bb51b09e1"
      }
     },
     "metadata": {},
     "output_type": "display_data"
    },
    {
     "name": "stdout",
     "output_type": "stream",
     "text": [
      " results:\n",
      "Mean square error: 0.06181\n",
      "Mean absolute error: 0.18322\n",
      "epoch: 35\n"
     ]
    },
    {
     "data": {
      "text/plain": [
       "  0%|          | 0/1529 [00:00<?, ?it/s]"
      ],
      "application/vnd.jupyter.widget-view+json": {
       "version_major": 2,
       "version_minor": 0,
       "model_id": "64b9b4b3faf24feb996a6ef924a7ab21"
      }
     },
     "metadata": {},
     "output_type": "display_data"
    },
    {
     "name": "stdout",
     "output_type": "stream",
     "text": [
      " results:\n",
      "Mean square error: 0.06181\n",
      "Mean absolute error: 0.18322\n",
      "epoch: 36\n"
     ]
    },
    {
     "data": {
      "text/plain": [
       "  0%|          | 0/1529 [00:00<?, ?it/s]"
      ],
      "application/vnd.jupyter.widget-view+json": {
       "version_major": 2,
       "version_minor": 0,
       "model_id": "621e5f49fc714b19866e5c33264bd149"
      }
     },
     "metadata": {},
     "output_type": "display_data"
    },
    {
     "name": "stdout",
     "output_type": "stream",
     "text": [
      " results:\n",
      "Mean square error: 0.06181\n",
      "Mean absolute error: 0.18322\n",
      "epoch: 37\n"
     ]
    },
    {
     "data": {
      "text/plain": [
       "  0%|          | 0/1529 [00:00<?, ?it/s]"
      ],
      "application/vnd.jupyter.widget-view+json": {
       "version_major": 2,
       "version_minor": 0,
       "model_id": "36bbfd79234e4b13830d89e019031637"
      }
     },
     "metadata": {},
     "output_type": "display_data"
    },
    {
     "name": "stdout",
     "output_type": "stream",
     "text": [
      " results:\n",
      "Mean square error: 0.06181\n",
      "Mean absolute error: 0.18322\n",
      "epoch: 38\n"
     ]
    },
    {
     "data": {
      "text/plain": [
       "  0%|          | 0/1529 [00:00<?, ?it/s]"
      ],
      "application/vnd.jupyter.widget-view+json": {
       "version_major": 2,
       "version_minor": 0,
       "model_id": "4731cffa28a04ab49a250af38df4b978"
      }
     },
     "metadata": {},
     "output_type": "display_data"
    },
    {
     "name": "stdout",
     "output_type": "stream",
     "text": [
      " results:\n",
      "Mean square error: 0.06181\n",
      "Mean absolute error: 0.18322\n",
      "epoch: 39\n"
     ]
    },
    {
     "data": {
      "text/plain": [
       "  0%|          | 0/1529 [00:00<?, ?it/s]"
      ],
      "application/vnd.jupyter.widget-view+json": {
       "version_major": 2,
       "version_minor": 0,
       "model_id": "cdf4e132eeef43dd9bd533d3494ac699"
      }
     },
     "metadata": {},
     "output_type": "display_data"
    },
    {
     "name": "stdout",
     "output_type": "stream",
     "text": [
      " results:\n",
      "Mean square error: 0.06181\n",
      "Mean absolute error: 0.18322\n",
      "epoch: 40\n"
     ]
    },
    {
     "data": {
      "text/plain": [
       "  0%|          | 0/1529 [00:00<?, ?it/s]"
      ],
      "application/vnd.jupyter.widget-view+json": {
       "version_major": 2,
       "version_minor": 0,
       "model_id": "aedf4c505f744cbc926e3ced9a859a4d"
      }
     },
     "metadata": {},
     "output_type": "display_data"
    },
    {
     "name": "stdout",
     "output_type": "stream",
     "text": [
      " results:\n",
      "Mean square error: 0.06181\n",
      "Mean absolute error: 0.18322\n",
      "epoch: 41\n"
     ]
    },
    {
     "data": {
      "text/plain": [
       "  0%|          | 0/1529 [00:00<?, ?it/s]"
      ],
      "application/vnd.jupyter.widget-view+json": {
       "version_major": 2,
       "version_minor": 0,
       "model_id": "53894f627e2d476fbb76f2e151619ee6"
      }
     },
     "metadata": {},
     "output_type": "display_data"
    },
    {
     "name": "stdout",
     "output_type": "stream",
     "text": [
      " results:\n",
      "Mean square error: 0.06181\n",
      "Mean absolute error: 0.18322\n",
      "epoch: 42\n"
     ]
    },
    {
     "data": {
      "text/plain": [
       "  0%|          | 0/1529 [00:00<?, ?it/s]"
      ],
      "application/vnd.jupyter.widget-view+json": {
       "version_major": 2,
       "version_minor": 0,
       "model_id": "6c263509d4d044da9d5b78809c2e3621"
      }
     },
     "metadata": {},
     "output_type": "display_data"
    },
    {
     "name": "stdout",
     "output_type": "stream",
     "text": [
      " results:\n",
      "Mean square error: 0.06181\n",
      "Mean absolute error: 0.18322\n",
      "epoch: 43\n"
     ]
    },
    {
     "data": {
      "text/plain": [
       "  0%|          | 0/1529 [00:00<?, ?it/s]"
      ],
      "application/vnd.jupyter.widget-view+json": {
       "version_major": 2,
       "version_minor": 0,
       "model_id": "e16568c119c6499c904c6105c8d42ee6"
      }
     },
     "metadata": {},
     "output_type": "display_data"
    },
    {
     "name": "stdout",
     "output_type": "stream",
     "text": [
      " results:\n",
      "Mean square error: 0.06181\n",
      "Mean absolute error: 0.18322\n",
      "epoch: 44\n"
     ]
    },
    {
     "data": {
      "text/plain": [
       "  0%|          | 0/1529 [00:00<?, ?it/s]"
      ],
      "application/vnd.jupyter.widget-view+json": {
       "version_major": 2,
       "version_minor": 0,
       "model_id": "bb295cbf0b704cfba3ab38530ba7b344"
      }
     },
     "metadata": {},
     "output_type": "display_data"
    },
    {
     "name": "stdout",
     "output_type": "stream",
     "text": [
      " results:\n",
      "Mean square error: 0.06181\n",
      "Mean absolute error: 0.18322\n",
      "epoch: 45\n"
     ]
    },
    {
     "data": {
      "text/plain": [
       "  0%|          | 0/1529 [00:00<?, ?it/s]"
      ],
      "application/vnd.jupyter.widget-view+json": {
       "version_major": 2,
       "version_minor": 0,
       "model_id": "1daddcb8db9c490484ecc2f7f98119a3"
      }
     },
     "metadata": {},
     "output_type": "display_data"
    },
    {
     "name": "stdout",
     "output_type": "stream",
     "text": [
      " results:\n",
      "Mean square error: 0.06181\n",
      "Mean absolute error: 0.18322\n",
      "epoch: 46\n"
     ]
    },
    {
     "data": {
      "text/plain": [
       "  0%|          | 0/1529 [00:00<?, ?it/s]"
      ],
      "application/vnd.jupyter.widget-view+json": {
       "version_major": 2,
       "version_minor": 0,
       "model_id": "57cee34ea7f54e438601f1a054658896"
      }
     },
     "metadata": {},
     "output_type": "display_data"
    },
    {
     "name": "stdout",
     "output_type": "stream",
     "text": [
      " results:\n",
      "Mean square error: 0.06181\n",
      "Mean absolute error: 0.18322\n",
      "epoch: 47\n"
     ]
    },
    {
     "data": {
      "text/plain": [
       "  0%|          | 0/1529 [00:00<?, ?it/s]"
      ],
      "application/vnd.jupyter.widget-view+json": {
       "version_major": 2,
       "version_minor": 0,
       "model_id": "d7470428df124ab6b3ab254644260ab7"
      }
     },
     "metadata": {},
     "output_type": "display_data"
    },
    {
     "name": "stdout",
     "output_type": "stream",
     "text": [
      " results:\n",
      "Mean square error: 0.06181\n",
      "Mean absolute error: 0.18322\n",
      "epoch: 48\n"
     ]
    },
    {
     "data": {
      "text/plain": [
       "  0%|          | 0/1529 [00:00<?, ?it/s]"
      ],
      "application/vnd.jupyter.widget-view+json": {
       "version_major": 2,
       "version_minor": 0,
       "model_id": "c70a3d18a7754bb0b7bf1a103581c000"
      }
     },
     "metadata": {},
     "output_type": "display_data"
    },
    {
     "name": "stdout",
     "output_type": "stream",
     "text": [
      " results:\n",
      "Mean square error: 0.06181\n",
      "Mean absolute error: 0.18322\n",
      "epoch: 49\n"
     ]
    },
    {
     "data": {
      "text/plain": [
       "  0%|          | 0/1529 [00:00<?, ?it/s]"
      ],
      "application/vnd.jupyter.widget-view+json": {
       "version_major": 2,
       "version_minor": 0,
       "model_id": "9a098337fa6148e29e77e8f196fe7ee8"
      }
     },
     "metadata": {},
     "output_type": "display_data"
    },
    {
     "name": "stdout",
     "output_type": "stream",
     "text": [
      " results:\n",
      "Mean square error: 0.06181\n",
      "Mean absolute error: 0.18322\n"
     ]
    }
   ],
   "execution_count": 38
  },
  {
   "metadata": {
    "ExecuteTime": {
     "end_time": "2025-03-27T11:09:11.434155Z",
     "start_time": "2025-03-27T11:09:11.417051Z"
    }
   },
   "cell_type": "code",
   "source": "df_results.describe()",
   "outputs": [
    {
     "data": {
      "text/plain": [
       "             mse        mae            lr\n",
       "count  50.000000  50.000000  5.000000e+01\n",
       "mean    0.071331   0.194471  3.087100e-05\n",
       "std     0.036770   0.037467  4.579281e-05\n",
       "min     0.061743   0.183114  1.000000e-08\n",
       "25%     0.061813   0.183217  1.000000e-08\n",
       "50%     0.061814   0.183219  5.500000e-08\n",
       "75%     0.063431   0.186246  1.000000e-04\n",
       "max     0.302977   0.416491  1.000000e-04"
      ],
      "text/html": [
       "<div>\n",
       "<style scoped>\n",
       "    .dataframe tbody tr th:only-of-type {\n",
       "        vertical-align: middle;\n",
       "    }\n",
       "\n",
       "    .dataframe tbody tr th {\n",
       "        vertical-align: top;\n",
       "    }\n",
       "\n",
       "    .dataframe thead th {\n",
       "        text-align: right;\n",
       "    }\n",
       "</style>\n",
       "<table border=\"1\" class=\"dataframe\">\n",
       "  <thead>\n",
       "    <tr style=\"text-align: right;\">\n",
       "      <th></th>\n",
       "      <th>mse</th>\n",
       "      <th>mae</th>\n",
       "      <th>lr</th>\n",
       "    </tr>\n",
       "  </thead>\n",
       "  <tbody>\n",
       "    <tr>\n",
       "      <th>count</th>\n",
       "      <td>50.000000</td>\n",
       "      <td>50.000000</td>\n",
       "      <td>5.000000e+01</td>\n",
       "    </tr>\n",
       "    <tr>\n",
       "      <th>mean</th>\n",
       "      <td>0.071331</td>\n",
       "      <td>0.194471</td>\n",
       "      <td>3.087100e-05</td>\n",
       "    </tr>\n",
       "    <tr>\n",
       "      <th>std</th>\n",
       "      <td>0.036770</td>\n",
       "      <td>0.037467</td>\n",
       "      <td>4.579281e-05</td>\n",
       "    </tr>\n",
       "    <tr>\n",
       "      <th>min</th>\n",
       "      <td>0.061743</td>\n",
       "      <td>0.183114</td>\n",
       "      <td>1.000000e-08</td>\n",
       "    </tr>\n",
       "    <tr>\n",
       "      <th>25%</th>\n",
       "      <td>0.061813</td>\n",
       "      <td>0.183217</td>\n",
       "      <td>1.000000e-08</td>\n",
       "    </tr>\n",
       "    <tr>\n",
       "      <th>50%</th>\n",
       "      <td>0.061814</td>\n",
       "      <td>0.183219</td>\n",
       "      <td>5.500000e-08</td>\n",
       "    </tr>\n",
       "    <tr>\n",
       "      <th>75%</th>\n",
       "      <td>0.063431</td>\n",
       "      <td>0.186246</td>\n",
       "      <td>1.000000e-04</td>\n",
       "    </tr>\n",
       "    <tr>\n",
       "      <th>max</th>\n",
       "      <td>0.302977</td>\n",
       "      <td>0.416491</td>\n",
       "      <td>1.000000e-04</td>\n",
       "    </tr>\n",
       "  </tbody>\n",
       "</table>\n",
       "</div>"
      ]
     },
     "execution_count": 39,
     "metadata": {},
     "output_type": "execute_result"
    }
   ],
   "execution_count": 39
  },
  {
   "metadata": {},
   "cell_type": "markdown",
   "source": "Минимальная полученная величина MAE - 0.1831"
  },
  {
   "metadata": {},
   "cell_type": "markdown",
   "source": "График изменения MAE & MSE по эпохам обучения:"
  },
  {
   "metadata": {
    "ExecuteTime": {
     "end_time": "2025-03-27T11:09:24.703114Z",
     "start_time": "2025-03-27T11:09:24.620637Z"
    }
   },
   "cell_type": "code",
   "source": [
    "plt.plot(df_results['mae'])\n",
    "plt.plot(df_results['mse'])\n",
    "plt.legend(['MAE', 'MSE'])\n",
    "plt.show()"
   ],
   "outputs": [
    {
     "data": {
      "text/plain": [
       "<Figure size 640x480 with 1 Axes>"
      ],
      "image/png": "[encoded data removed]"
     },
     "metadata": {},
     "output_type": "display_data"
    }
   ],
   "execution_count": 40
  },
  {
   "metadata": {},
   "cell_type": "markdown",
   "source": "Изменение скорости обучения по эпохам:"
  },
  {
   "metadata": {
    "ExecuteTime": {
     "end_time": "2025-03-27T11:12:31.419774Z",
     "start_time": "2025-03-27T11:12:31.343251Z"
    }
   },
   "cell_type": "code",
   "source": [
    "plt.plot(df_results['lr'])\n",
    "plt.legend(['lr'])\n",
    "plt.show()"
   ],
   "outputs": [
    {
     "data": {
      "text/plain": [
       "<Figure size 640x480 with 1 Axes>"
      ],
      "image/png": "[encoded data removed]"
     },
     "metadata": {},
     "output_type": "display_data"
    }
   ],
   "execution_count": 41
  },
  {
   "cell_type": "markdown",
   "metadata": {
    "id": "7Lj0p2_i2RqT"
   },
   "source": [
    "### Бонусная часть: объяснение предсказаний модели\n",
    "\n",
    "Обычно полезно понять, как работает модель, прежде чем позволить ей принимать решения в проде.\n",
    "\n",
    "Для линейных моделей это просто: достаточно посмотреть, какие слова приобрели положительные или отрицательные веса. Однако гораздо сложнее с нейронными сетями, которые учатся сложным нелинейным зависимостям.\n",
    "\n",
    "Однако есть несколько способов заглянуть внутрь «черного ящика»:\n",
    "* Seeing how model responds to input perturbations\n",
    "* Finding inputs that maximize/minimize activation of some chosen neurons (_read more [on distill.pub](https://distill.pub/2018/building-blocks/)_)\n",
    "* Building local linear approximations to your neural network: [article](https://arxiv.org/abs/1602.04938), [eli5 library](https://github.com/TeamHG-Memex/eli5/tree/master/eli5/formatters)\n",
    "\n",
    "Сегодня мы попробуем первый метод, просто потому что он самый простой."
   ]
  },
  {
   "cell_type": "code",
   "metadata": {
    "id": "DVeHe-V-2RqU",
    "ExecuteTime": {
     "end_time": "2025-03-27T11:13:32.325747Z",
     "start_time": "2025-03-27T11:13:32.321703Z"
    }
   },
   "source": [
    "def explain(model, sample, col_name='Title'):\n",
    "    \"\"\" Computes the effect each word had on model predictions \"\"\"\n",
    "    sample = dict(sample)\n",
    "    sample_col_tokens = [tokens[token_to_id.get(tok, 0)] for tok in sample[col_name].split()]\n",
    "    data_drop_one_token = pd.DataFrame([sample] * (len(sample_col_tokens) + 1))\n",
    "\n",
    "    for drop_i in range(len(sample_col_tokens)):\n",
    "        data_drop_one_token.loc[drop_i, col_name] = ' '.join(UNK if i == drop_i else tok\n",
    "                                                   for i, tok in enumerate(sample_col_tokens))\n",
    "\n",
    "    *predictions_drop_one_token, baseline_pred = model(make_batch(data_drop_one_token, device=device)).detach().cpu()\n",
    "    diffs = baseline_pred - torch.Tensor(predictions_drop_one_token)\n",
    "    return list(zip(sample_col_tokens, diffs))"
   ],
   "outputs": [],
   "execution_count": 42
  },
  {
   "cell_type": "code",
   "metadata": {
    "id": "hTNgC4g12RqU",
    "ExecuteTime": {
     "end_time": "2025-03-27T11:13:34.263456Z",
     "start_time": "2025-03-27T11:13:34.259664Z"
    }
   },
   "source": [
    "from IPython.display import HTML, display_html\n",
    "\n",
    "\n",
    "def draw_html(tokens_and_weights, cmap=plt.get_cmap(\"bwr\"), display=True,\n",
    "              token_template=\"\"\"<span style=\"background-color: {color_hex}\">{token}</span>\"\"\",\n",
    "              font_style=\"font-size:14px;\"\n",
    "             ):\n",
    "\n",
    "    def get_color_hex(weight):\n",
    "        rgba = cmap(1. / (1 + np.exp(float(weight))), bytes=True)\n",
    "        return '#%02X%02X%02X' % rgba[:3]\n",
    "\n",
    "    tokens_html = [\n",
    "        token_template.format(token=token, color_hex=get_color_hex(weight))\n",
    "        for token, weight in tokens_and_weights\n",
    "    ]\n",
    "\n",
    "\n",
    "    raw_html = \"\"\"<p style=\"{}\">{}</p>\"\"\".format(font_style, ' '.join(tokens_html))\n",
    "    if display:\n",
    "        display_html(HTML(raw_html))\n",
    "\n",
    "    return raw_html\n"
   ],
   "outputs": [],
   "execution_count": 43
  },
  {
   "cell_type": "code",
   "metadata": {
    "id": "MHy32Gr12RqU",
    "ExecuteTime": {
     "end_time": "2025-03-27T11:13:38.235553Z",
     "start_time": "2025-03-27T11:13:38.089576Z"
    }
   },
   "source": [
    "i = 36605\n",
    "tokens_and_weights = explain(model, data.loc[i], \"Title\")\n",
    "draw_html([(tok, weight * 5) for tok, weight in tokens_and_weights], font_style='font-size:20px;');\n",
    "\n",
    "tokens_and_weights = explain(model, data.loc[i], \"FullDescription\")\n",
    "draw_html([(tok, weight * 10) for tok, weight in tokens_and_weights]);"
   ],
   "outputs": [
    {
     "data": {
      "text/html": [
       "<p style=\"font-size:20px;\"><span style=\"background-color: #D8D8FF\">sales</span> <span style=\"background-color: #FFFAFA\">specialist</span> <span style=\"background-color: #FFEEEE\">iv</span> <span style=\"background-color: #FFF2F2\">access</span> <span style=\"background-color: #FFC6C6\">and</span> <span style=\"background-color: #FFCACA\">infusion</span></p>"
      ]
     },
     "metadata": {},
     "output_type": "display_data"
    },
    {
     "data": {
      "text/html": [
       "<p style=\"font-size:14px;\"><span style=\"background-color: #FFFEFE\">sales</span> <span style=\"background-color: #FFFEFE\">representative</span> <span style=\"background-color: #FFFEFE\">medical</span> <span style=\"background-color: #FFFEFE\">sales</span> <span style=\"background-color: #FFFEFE\">iv</span> <span style=\"background-color: #FFFCFC\">access</span> <span style=\"background-color: #FFFEFE\">and</span> <span style=\"background-color: #FFFEFE\">infusion</span> <span style=\"background-color: #FFE4E4\">an</span> <span style=\"background-color: #FFFCFC\">opportunity</span> <span style=\"background-color: #FFFEFE\">to</span> <span style=\"background-color: #FFFEFE\">work</span> <span style=\"background-color: #FEFEFF\">for</span> <span style=\"background-color: #E2E2FF\">the</span> <span style=\"background-color: #E2E2FF\">industry</span> <span style=\"background-color: #FFFEFE\">leading</span> <span style=\"background-color: #F8F8FF\">manufacturer</span> <span style=\"background-color: #FFF8F8\">of</span> <span style=\"background-color: #FFFEFE\">iv</span> <span style=\"background-color: #FFFCFC\">access</span> <span style=\"background-color: #FFFEFE\">and</span> <span style=\"background-color: #FFFEFE\">infusion</span> <span style=\"background-color: #F0F0FF\">solutions</span> <span style=\"background-color: #F0F0FF\">.</span> <span style=\"background-color: #FFF6F6\">formally</span> <span style=\"background-color: #FFFEFE\">recognised</span> <span style=\"background-color: #FFFEFE\">as</span> <span style=\"background-color: #FFFEFE\">the</span> <span style=\"background-color: #FFFEFE\">number</span> <span style=\"background-color: #FFFEFE\">****</span> <span style=\"background-color: #FFFEFE\">company</span> <span style=\"background-color: #FCFCFF\">in</span> <span style=\"background-color: #E6E6FF\">this</span> <span style=\"background-color: #DEDEFF\">market</span> <span style=\"background-color: #E8E8FF\">space</span> <span style=\"background-color: #F8F8FF\">,</span> <span style=\"background-color: #FFFCFC\">our</span> <span style=\"background-color: #E8E8FF\">client</span> <span style=\"background-color: #FFD3D3\">are</span> <span style=\"background-color: #FFC8C8\">an</span> <span style=\"background-color: #E6E6FF\">ethical</span> <span style=\"background-color: #FCFCFF\">and</span> <span style=\"background-color: #E3E3FF\">dynamic</span> <span style=\"background-color: #FFFEFE\">organisation</span> <span style=\"background-color: #FFFEFE\">absolutely</span> <span style=\"background-color: #FFF2F2\">committed</span> <span style=\"background-color: #FFFEFE\">to</span> <span style=\"background-color: #FFFEFE\">the</span> <span style=\"background-color: #FFFEFE\">advancement</span> <span style=\"background-color: #FFFEFE\">of</span> <span style=\"background-color: #FFFAFA\">innovative</span> <span style=\"background-color: #FFFEFE\">technologies</span> <span style=\"background-color: #FFFEFE\">.</span> <span style=\"background-color: #FFD6D6\">job</span> <span style=\"background-color: #ECECFF\">title</span> <span style=\"background-color: #FFDADA\">:</span> <span style=\"background-color: #FFFEFE\">sales</span> <span style=\"background-color: #FFFEFE\">specialist</span> <span style=\"background-color: #E2E2FF\">iv</span> <span style=\"background-color: #FFFEFE\">access</span> <span style=\"background-color: #FFF0F0\">and</span> <span style=\"background-color: #FFF0F0\">infusion</span> <span style=\"background-color: #FFECEC\">selling</span> <span style=\"background-color: #FFFEFE\">:</span> <span style=\"background-color: #FFFEFE\">medication</span> <span style=\"background-color: #FFFEFE\">delivery</span> <span style=\"background-color: #FFFEFE\">solutions</span> <span style=\"background-color: #F2F2FF\">selling</span> <span style=\"background-color: #FFFCFC\">to</span> <span style=\"background-color: #DEDEFF\">:</span> <span style=\"background-color: #EAEAFF\">iv</span> <span style=\"background-color: #F0F0FF\">teams</span> <span style=\"background-color: #FFFEFE\">,</span> <span style=\"background-color: #F6F6FF\">infection</span> <span style=\"background-color: #F6F6FF\">control</span> <span style=\"background-color: #F0F0FF\">,</span> <span style=\"background-color: #FEFEFF\">lead</span> <span style=\"background-color: #FFFAFA\">intensive</span> <span style=\"background-color: #FFF6F6\">care</span> <span style=\"background-color: #FFFEFE\">nurse</span> <span style=\"background-color: #FFFEFE\">specialists</span> <span style=\"background-color: #FFFEFE\">,</span> <span style=\"background-color: #FFE8E8\">ward</span> <span style=\"background-color: #FFE8E8\">managers</span> <span style=\"background-color: #F8F8FF\">territory</span> <span style=\"background-color: #FFFEFE\">:</span> <span style=\"background-color: #FFECEC\">east</span> <span style=\"background-color: #F6F6FF\">midlands</span> <span style=\"background-color: #FFFEFE\">location</span> <span style=\"background-color: #FFFEFE\">:</span> <span style=\"background-color: #FAFAFF\">east</span> <span style=\"background-color: #FFFAFA\">midlands</span> <span style=\"background-color: #FAFAFF\">package</span> <span style=\"background-color: #FFFEFE\">:</span> <span style=\"background-color: #FFFEFE\">basic</span> <span style=\"background-color: #FFFEFE\">:</span> <span style=\"background-color: #FFFEFE\">****</span> <span style=\"background-color: #FFFEFE\">k</span> <span style=\"background-color: #FFFEFE\">****</span> <span style=\"background-color: #FFFEFE\">k</span> <span style=\"background-color: #FCFCFF\">,</span> <span style=\"background-color: #FCFCFF\">uncapped</span> <span style=\"background-color: #FFE2E2\">bonus</span> <span style=\"background-color: #FFFEFE\">in</span> <span style=\"background-color: #FFF0F0\">addition</span> <span style=\"background-color: #FFFEFE\">,</span> <span style=\"background-color: #FFF0F0\">full</span> <span style=\"background-color: #FFFEFE\">corporate</span> <span style=\"background-color: #FFFEFE\">benefits</span> <span style=\"background-color: #FFFEFE\">company</span> <span style=\"background-color: #FFFEFE\">information</span> <span style=\"background-color: #FFFEFE\">hugely</span> <span style=\"background-color: #FFF4F4\">ethical</span> <span style=\"background-color: #FFFEFE\">and</span> <span style=\"background-color: #FFFCFC\">professional</span> <span style=\"background-color: #FFFEFE\">global</span> <span style=\"background-color: #FFFEFE\">organisation</span> <span style=\"background-color: #FFF8F8\">extremely</span> <span style=\"background-color: #FFFEFE\">well</span> <span style=\"background-color: #FFFEFE\">established</span> <span style=\"background-color: #FFFEFE\">in</span> <span style=\"background-color: #FFD6D6\">the</span> <span style=\"background-color: #FFFEFE\">uk</span> <span style=\"background-color: #FFE6E6\">the</span> <span style=\"background-color: #FFE6E6\">market</span> <span style=\"background-color: #FFE6E6\">leader</span> <span style=\"background-color: #F8F8FF\">across</span> <span style=\"background-color: #FEFEFF\">all</span> <span style=\"background-color: #FCFCFF\">of</span> <span style=\"background-color: #FFFEFE\">their</span> <span style=\"background-color: #FFFEFE\">core</span> <span style=\"background-color: #FFF8F8\">business</span> <span style=\"background-color: #FFFEFE\">areas</span> <span style=\"background-color: #FFFEFE\">focus</span> <span style=\"background-color: #FFFEFE\">on</span> <span style=\"background-color: #FFFEFE\">providing</span> <span style=\"background-color: #FAFAFF\">cutting</span> <span style=\"background-color: #F0F0FF\">edge</span> <span style=\"background-color: #F2F2FF\">solutions</span> <span style=\"background-color: #F0F0FF\">along</span> <span style=\"background-color: #FFDEDE\">with</span> <span style=\"background-color: #FFE0E0\">outstanding</span> <span style=\"background-color: #FFDADA\">service</span> <span style=\"background-color: #FEFEFF\">and</span> <span style=\"background-color: #FFF6F6\">support</span> <span style=\"background-color: #FFFEFE\">a</span> <span style=\"background-color: #FFFEFE\">business</span> <span style=\"background-color: #FFFEFE\">that</span> <span style=\"background-color: #FFAAAA\">retain</span> <span style=\"background-color: #FFBABA\">talented</span> <span style=\"background-color: #FFB2B2\">personnel</span> <span style=\"background-color: #FFFEFE\">by</span> <span style=\"background-color: #FFF8F8\">offering</span> <span style=\"background-color: #E0E0FF\">a</span> <span style=\"background-color: #E0E0FF\">strong</span> <span style=\"background-color: #D0D0FF\">platform</span> <span style=\"background-color: #FFFEFE\">for</span> <span style=\"background-color: #FFFEFE\">career</span> <span style=\"background-color: #FFFEFE\">development</span> <span style=\"background-color: #FFFEFE\">sales</span> <span style=\"background-color: #FFFEFE\">specialist</span> <span style=\"background-color: #E2E2FF\">iv</span> <span style=\"background-color: #FFFEFE\">access</span> <span style=\"background-color: #FFFEFE\">and</span> <span style=\"background-color: #FFEAEA\">infusion</span> <span style=\"background-color: #FFECEC\">you</span> <span style=\"background-color: #FFECEC\">must</span> <span style=\"background-color: #FCFCFF\">have</span> <span style=\"background-color: #FFE0E0\">/</span> <span style=\"background-color: #FFFEFE\">be</span> <span style=\"background-color: #FFFEFE\">the</span> <span style=\"background-color: #FFCCCC\">following</span> <span style=\"background-color: #FFFAFA\">at</span> <span style=\"background-color: #FFBABA\">least</span> <span style=\"background-color: #FFFEFE\">2</span> <span style=\"background-color: #FFEEEE\">years</span> <span style=\"background-color: #FFFEFE\">medical</span> <span style=\"background-color: #FFFAFA\">device</span> <span style=\"background-color: #FFE0E0\">sales</span> <span style=\"background-color: #FFFEFE\">experience</span> <span style=\"background-color: #FFF8F8\">.</span> <span style=\"background-color: #FEFEFF\">candidates</span> <span style=\"background-color: #FFFEFE\">who</span> <span style=\"background-color: #FFFEFE\">have</span> <span style=\"background-color: #FFFEFE\">sold</span> <span style=\"background-color: #FFFCFC\">disposables</span> <span style=\"background-color: #FFFEFE\">/</span> <span style=\"background-color: #FFFEFE\">consumables</span> <span style=\"background-color: #FFFEFE\">or</span> <span style=\"background-color: #FFFEFE\">similar</span> <span style=\"background-color: #FFFEFE\">into</span> <span style=\"background-color: #FFFEFE\">hospitals</span> <span style=\"background-color: #FFFEFE\">would</span> <span style=\"background-color: #FFFEFE\">be</span> <span style=\"background-color: #FFFEFE\">of</span> <span style=\"background-color: #FEFEFF\">particular</span> <span style=\"background-color: #FFFCFC\">interest</span> <span style=\"background-color: #FFE0E0\">.</span> <span style=\"background-color: #FFFCFC\">candidates</span> <span style=\"background-color: #FFFEFE\">must</span> <span style=\"background-color: #FFFCFC\">have</span> <span style=\"background-color: #FFE0E0\">sold</span> <span style=\"background-color: #FFFCFC\">into</span> <span style=\"background-color: #FFEAEA\">hospitals</span> <span style=\"background-color: #FFFEFE\">demonstrable</span> <span style=\"background-color: #FFFCFC\">performance</span> <span style=\"background-color: #FFFEFE\">and</span> <span style=\"background-color: #FFDEDE\">achievements</span> <span style=\"background-color: #FFDCDC\">so</span> <span style=\"background-color: #FFDEDE\">far</span> <span style=\"background-color: #FFF6F6\">personable</span> <span style=\"background-color: #FFFEFE\">,</span> <span style=\"background-color: #FCFCFF\">adaptable</span> <span style=\"background-color: #FCFCFF\">and</span> <span style=\"background-color: #D8D8FF\">willing</span> <span style=\"background-color: #FFFEFE\">to</span> <span style=\"background-color: #F6F6FF\">learn</span> <span style=\"background-color: #EEEEFF\">keen</span> <span style=\"background-color: #F8F8FF\">and</span> <span style=\"background-color: #F3F3FF\">eager</span> <span style=\"background-color: #FFE6E6\">to</span> <span style=\"background-color: #FEFEFF\">be</span> <span style=\"background-color: #FFFEFE\">a</span> <span style=\"background-color: #FFF2F2\">success</span> <span style=\"background-color: #FCFCFF\">candidates</span> <span style=\"background-color: #FFE8E8\">must</span> <span style=\"background-color: #FFFEFE\">have</span> <span style=\"background-color: #FFE0E0\">a</span> <span style=\"background-color: #FFFEFE\">degree</span> <span style=\"background-color: #FFFEFE\">or</span> <span style=\"background-color: #FFFEFE\">at</span> <span style=\"background-color: #FFFEFE\">least</span> <span style=\"background-color: #FFF4F4\">be</span> <span style=\"background-color: #DADAFF\">able</span> <span style=\"background-color: #FFFEFE\">to</span> <span style=\"background-color: #FFF8F8\">show</span> <span style=\"background-color: #FFFEFE\">a</span> <span style=\"background-color: #FEFEFF\">strong</span> <span style=\"background-color: #FEFEFF\">ability</span> <span style=\"background-color: #FFECEC\">to</span> <span style=\"background-color: #FFEEEE\">learn</span> <span style=\"background-color: #FFFEFE\">role</span> <span style=\"background-color: #FFFEFE\">information</span> <span style=\"background-color: #F2F2FF\">managing</span> <span style=\"background-color: #F0F0FF\">the</span> <span style=\"background-color: #F2F2FF\">east</span> <span style=\"background-color: #E2E2FF\">midlands</span> <span style=\"background-color: #EEEEFF\">region</span> <span style=\"background-color: #E2E2FF\">selling</span> <span style=\"background-color: #FFFEFE\">across</span> <span style=\"background-color: #FFFEFE\">the</span> <span style=\"background-color: #FFFEFE\">company</span> <span style=\"background-color: #FFFEFE\">'</span> <span style=\"background-color: #FFFEFE\">s</span> <span style=\"background-color: #FFFEFE\">range</span> <span style=\"background-color: #FFFEFE\">of</span> <span style=\"background-color: #FFF4F4\">iv</span> <span style=\"background-color: #FEFEFF\">and</span> <span style=\"background-color: #FEFEFF\">infusion</span> <span style=\"background-color: #FFF6F6\">solutions</span> <span style=\"background-color: #EEEEFF\">portfolio</span> <span style=\"background-color: #FFEAEA\">selling</span> <span style=\"background-color: #D2D2FF\">into</span> <span style=\"background-color: #FFF4F4\">lead</span> <span style=\"background-color: #D6D6FF\">intensive</span> <span style=\"background-color: #FFF6F6\">care</span> <span style=\"background-color: #FFFEFE\">nurse</span> <span style=\"background-color: #FFFEFE\">specialists</span> <span style=\"background-color: #FFFEFE\">,</span> <span style=\"background-color: #FFE8E8\">ward</span> <span style=\"background-color: #FFFCFC\">managers</span> <span style=\"background-color: #ECECFF\">,</span> <span style=\"background-color: #F8F8FF\">iv</span> <span style=\"background-color: #FFFEFE\">teams</span> <span style=\"background-color: #FFFEFE\">,</span> <span style=\"background-color: #FFFEFE\">infection</span> <span style=\"background-color: #FFFAFA\">control</span> <span style=\"background-color: #FFFEFE\">teams</span> <span style=\"background-color: #FFEEEE\">,</span> <span style=\"background-color: #FCFCFF\">procurement</span> <span style=\"background-color: #FCFCFF\">sales</span> <span style=\"background-color: #FFFEFE\">specialist</span> <span style=\"background-color: #E2E2FF\">iv</span> <span style=\"background-color: #FFFEFE\">access</span> <span style=\"background-color: #FFFEFE\">and</span> <span style=\"background-color: #FFF2F2\">infusion</span> <span style=\"background-color: #FFFEFE\">candidates</span> <span style=\"background-color: #FFFEFE\">must</span> <span style=\"background-color: #FFF6F6\">be</span> <span style=\"background-color: #DADAFF\">eligible</span> <span style=\"background-color: #FEFEFF\">to</span> <span style=\"background-color: #FFF8F8\">work</span> <span style=\"background-color: #FFFEFE\">and</span> <span style=\"background-color: #FAFAFF\">live</span> <span style=\"background-color: #FAFAFF\">in</span> <span style=\"background-color: #FAFAFF\">the</span> <span style=\"background-color: #FFFEFE\">uk</span> <span style=\"background-color: #F6F6FF\">.</span> <span style=\"background-color: #FAFAFF\">please</span> <span style=\"background-color: #EEEEFF\">contact</span> <span style=\"background-color: #FFF0F0\">allan</span> <span style=\"background-color: #FFFEFE\">waller</span> <span style=\"background-color: #FFFEFE\">on</span> <span style=\"background-color: #FFFEFE\">****</span> <span style=\"background-color: #FFFEFE\">****</span> <span style=\"background-color: #FFFEFE\">****</span> <span style=\"background-color: #FFFEFE\">or</span> <span style=\"background-color: #FFFEFE\">please</span> <span style=\"background-color: #FFFEFE\">hit</span> <span style=\"background-color: #EAEAFF\">the</span> <span style=\"background-color: #EAEAFF\">apply</span> <span style=\"background-color: #EAEAFF\">button</span> <span style=\"background-color: #FFFEFE\">.</span> <span style=\"background-color: #FFFEFE\">this</span> <span style=\"background-color: #FFFAFA\">job</span> <span style=\"background-color: #FFFEFE\">was</span> <span style=\"background-color: #FFFEFE\">originally</span> <span style=\"background-color: #FFFEFE\">posted</span> <span style=\"background-color: #FFFEFE\">as</span> <span style=\"background-color: #FFFEFE\">www</span> <span style=\"background-color: #FFFEFE\">.</span> <span style=\"background-color: #FFFEFE\">salestarget</span> <span style=\"background-color: #FFFAFA\">.</span> <span style=\"background-color: #FFECEC\">co</span> <span style=\"background-color: #FFDCDC\">.</span> <span style=\"background-color: #FFF6F6\">uk</span> <span style=\"background-color: #FAFAFF\">/</span> <span style=\"background-color: #FCFCFF\">jobseeking</span> <span style=\"background-color: #FFFAFA\">/</span> <span style=\"background-color: #FFFEFE\">UNK</span> <span style=\"background-color: #FFFEFE\">****</span></p>"
      ]
     },
     "metadata": {},
     "output_type": "display_data"
    }
   ],
   "execution_count": 44
  },
  {
   "cell_type": "code",
   "metadata": {
    "id": "bhnrf_uG2RqU",
    "ExecuteTime": {
     "end_time": "2025-03-27T11:13:40.473988Z",
     "start_time": "2025-03-27T11:13:40.354298Z"
    }
   },
   "source": [
    "i = np.random.randint(len(data))\n",
    "print(\"Index:\", i)\n",
    "print(\"Salary (gbp):\", np.expm1(model(make_batch(data.iloc[i: i+1], device=device)).detach().cpu()))\n",
    "\n",
    "tokens_and_weights = explain(model, data.loc[i], \"Title\")\n",
    "draw_html([(tok, weight * 5) for tok, weight in tokens_and_weights], font_style='font-size:20px;');\n",
    "\n",
    "tokens_and_weights = explain(model, data.loc[i], \"FullDescription\")\n",
    "draw_html([(tok, weight * 10) for tok, weight in tokens_and_weights]);"
   ],
   "outputs": [
    {
     "name": "stdout",
     "output_type": "stream",
     "text": [
      "Index: 49096\n",
      "Salary (gbp): tensor([26592.4512])\n"
     ]
    },
    {
     "data": {
      "text/html": [
       "<p style=\"font-size:20px;\"><span style=\"background-color: #CCCCFF\">english</span> <span style=\"background-color: #7676FF\">teacher</span> <span style=\"background-color: #FF9898\">uk</span> <span style=\"background-color: #FFF4F4\">wide</span></p>"
      ]
     },
     "metadata": {},
     "output_type": "display_data"
    },
    {
     "data": {
      "text/html": [
       "<p style=\"font-size:14px;\"><span style=\"background-color: #FFF8F8\">please</span> <span style=\"background-color: #FFD8D8\">note</span> <span style=\"background-color: #FFB6B6\">:</span> <span style=\"background-color: #FFF2F2\">our</span> <span style=\"background-color: #FFECEC\">client</span> <span style=\"background-color: #FFE4E4\">currently</span> <span style=\"background-color: #FFFEFE\">has</span> <span style=\"background-color: #FFFEFE\">a</span> <span style=\"background-color: #FFFEFE\">number</span> <span style=\"background-color: #FFFEFE\">of</span> <span style=\"background-color: #FFF4F4\">people</span> <span style=\"background-color: #FFFCFC\">working</span> <span style=\"background-color: #FFFEFE\">for</span> <span style=\"background-color: #F0F0FF\">them</span> <span style=\"background-color: #FEFEFF\">on</span> <span style=\"background-color: #ECECFF\">an</span> <span style=\"background-color: #FFFCFC\">`</span> <span style=\"background-color: #FAFAFF\">as</span> <span style=\"background-color: #FAFAFF\">and</span> <span style=\"background-color: #FFF4F4\">when</span> <span style=\"background-color: #FFFCFC\">`</span> <span style=\"background-color: #FFFEFE\">basis</span> <span style=\"background-color: #FFFEFE\">,</span> <span style=\"background-color: #FFFEFE\">which</span> <span style=\"background-color: #FFFEFE\">fits</span> <span style=\"background-color: #FFFEFE\">in</span> <span style=\"background-color: #FFECEC\">well</span> <span style=\"background-color: #FFFCFC\">with</span> <span style=\"background-color: #FFF0F0\">their</span> <span style=\"background-color: #FFF4F4\">current</span> <span style=\"background-color: #FFE4E4\">circumstances</span> <span style=\"background-color: #FEFEFF\">.</span> <span style=\"background-color: #FFFAFA\">purpose</span> <span style=\"background-color: #FAFAFF\">of</span> <span style=\"background-color: #FEFEFF\">the</span> <span style=\"background-color: #FFFEFE\">job</span> <span style=\"background-color: #FFFEFE\">within</span> <span style=\"background-color: #FFEEEE\">the</span> <span style=\"background-color: #FFF8F8\">framework</span> <span style=\"background-color: #FFFEFE\">of</span> <span style=\"background-color: #FFFEFE\">your</span> <span style=\"background-color: #FCFCFF\">expert</span> <span style=\"background-color: #EEEEFF\">area</span> <span style=\"background-color: #FFC8C8\">(</span> <span style=\"background-color: #FFF2F2\">english</span> <span style=\"background-color: #FFEEEE\">),</span> <span style=\"background-color: #FFFEFE\">to</span> <span style=\"background-color: #FFFEFE\">deliver</span> <span style=\"background-color: #FCFCFF\">engaging</span> <span style=\"background-color: #FCFCFF\">and</span> <span style=\"background-color: #FFF8F8\">inspirational</span> <span style=\"background-color: #F6F6FF\">programmes</span> <span style=\"background-color: #F6F6FF\">leading</span> <span style=\"background-color: #FFE8E8\">to</span> <span style=\"background-color: #FFFAFA\">defined</span> <span style=\"background-color: #E8E8FF\">outcomes</span> <span style=\"background-color: #DADAFF\">for</span> <span style=\"background-color: #F6F6FF\">young</span> <span style=\"background-color: #FFFEFE\">learners</span> <span style=\"background-color: #FFFEFE\">in</span> <span style=\"background-color: #FFFCFC\">accordance</span> <span style=\"background-color: #FFFCFC\">with</span> <span style=\"background-color: #FEFEFF\">our</span> <span style=\"background-color: #FEFEFF\">client</span> <span style=\"background-color: #FFFCFC\">`</span> <span style=\"background-color: #FFFAFA\">s</span> <span style=\"background-color: #FFFEFE\">company</span> <span style=\"background-color: #FFFEFE\">values</span> <span style=\"background-color: #FFFCFC\">and</span> <span style=\"background-color: #FFF4F4\">which</span> <span style=\"background-color: #FFFEFE\">meet</span> <span style=\"background-color: #FFF6F6\">prescribed</span> <span style=\"background-color: #FEFEFF\">internal</span> <span style=\"background-color: #FFD3D3\">and</span> <span style=\"background-color: #FFDADA\">external</span> <span style=\"background-color: #FEFEFF\">standards</span> <span style=\"background-color: #F8F8FF\">,</span> <span style=\"background-color: #FFFEFE\">in</span> <span style=\"background-color: #FFFEFE\">accordance</span> <span style=\"background-color: #FFFEFE\">with</span> <span style=\"background-color: #FFFEFE\">the</span> <span style=\"background-color: #FFFEFE\">detailed</span> <span style=\"background-color: #FFFEFE\">specification</span> <span style=\"background-color: #FFFEFE\">agreed</span> <span style=\"background-color: #EEEEFF\">with</span> <span style=\"background-color: #EEEEFF\">the</span> <span style=\"background-color: #F8F8FF\">particular</span> <span style=\"background-color: #FFFAFA\">client</span> <span style=\"background-color: #F2F2FF\">.</span> <span style=\"background-color: #FAFAFF\">skills</span> <span style=\"background-color: #FFFCFC\">and</span> <span style=\"background-color: #FEFEFF\">experience</span> <span style=\"background-color: #FFFAFA\">a</span> <span style=\"background-color: #FFFCFC\">relevant</span> <span style=\"background-color: #F8F8FF\">degree</span> <span style=\"background-color: #F8F8FF\">and</span> <span style=\"background-color: #FCFCFF\">pgce</span> <span style=\"background-color: #F6F6FF\">in</span> <span style=\"background-color: #FFE8E8\">english</span> <span style=\"background-color: #FFFEFE\">excellent</span> <span style=\"background-color: #E2E2FF\">teaching</span> <span style=\"background-color: #FEFEFF\">ability</span> <span style=\"background-color: #EEEEFF\">and</span> <span style=\"background-color: #CCCCFF\">the</span> <span style=\"background-color: #DEDEFF\">commitment</span> <span style=\"background-color: #FFE2E2\">to</span> <span style=\"background-color: #FFBEBE\">gain</span> <span style=\"background-color: #FFDCDC\">results</span> <span style=\"background-color: #F8F8FF\">with</span> <span style=\"background-color: #FEFEFF\">d</span> <span style=\"background-color: #DADAFF\">/</span> <span style=\"background-color: #E3E3FF\">c</span> <span style=\"background-color: #DCDCFF\">borderline</span> <span style=\"background-color: #FFF8F8\">pupils</span> <span style=\"background-color: #FFFEFE\">ability</span> <span style=\"background-color: #FFFEFE\">to</span> <span style=\"background-color: #FFFEFE\">engage</span> <span style=\"background-color: #FFD3D3\">with</span> <span style=\"background-color: #FFFEFE\">and</span> <span style=\"background-color: #F6F6FF\">inspire</span> <span style=\"background-color: #F8F8FF\">young</span> <span style=\"background-color: #FCFCFF\">learners</span> <span style=\"background-color: #FFF6F6\">by</span> <span style=\"background-color: #FFFEFE\">using</span> <span style=\"background-color: #E0E0FF\">appropriate</span> <span style=\"background-color: #FFECEC\">training</span> <span style=\"background-color: #FFECEC\">techniques</span> <span style=\"background-color: #FFECEC\">and</span> <span style=\"background-color: #FFFEFE\">interpersonal</span> <span style=\"background-color: #FFF0F0\">skills</span> <span style=\"background-color: #FFFAFA\">desirable</span> <span style=\"background-color: #FFFEFE\">experience</span> <span style=\"background-color: #FFF6F6\">of</span> <span style=\"background-color: #FFF0F0\">marking</span> <span style=\"background-color: #FFFEFE\">exam</span> <span style=\"background-color: #FFF4F4\">papers</span> <span style=\"background-color: #D2D2FF\">reporting</span> <span style=\"background-color: #FFFEFE\">to</span> <span style=\"background-color: #FFF4F4\">:</span> <span style=\"background-color: #FFFEFE\">course</span> <span style=\"background-color: #FFE8E8\">lead</span> <span style=\"background-color: #FFFEFE\">trainer</span> <span style=\"background-color: #FFFEFE\">responsible</span> <span style=\"background-color: #FFE4E4\">for</span> <span style=\"background-color: #FFFAFA\">:</span> <span style=\"background-color: #F6F6FF\">training</span> <span style=\"background-color: #F3F3FF\">of</span> <span style=\"background-color: #FFECEC\">young</span> <span style=\"background-color: #FFFEFE\">people</span> <span style=\"background-color: #F2F2FF\">key</span> <span style=\"background-color: #F6F6FF\">tasks</span> <span style=\"background-color: #F2F2FF\">deliver</span> <span style=\"background-color: #FFFEFE\">the</span> <span style=\"background-color: #FFFEFE\">agreed</span> <span style=\"background-color: #FFFEFE\">programme</span> <span style=\"background-color: #FFFEFE\">in</span> <span style=\"background-color: #FFFEFE\">accordance</span> <span style=\"background-color: #FFFEFE\">with</span> <span style=\"background-color: #FFE2E2\">the</span> <span style=\"background-color: #DADAFF\">lesson</span> <span style=\"background-color: #DADAFF\">plan</span> <span style=\"background-color: #FFEEEE\">ability</span> <span style=\"background-color: #E2E2FF\">to</span> <span style=\"background-color: #D2D2FF\">mark</span> <span style=\"background-color: #F6F6FF\">official</span> <span style=\"background-color: #FFFEFE\">exam</span> <span style=\"background-color: #FFF6F6\">papers</span> <span style=\"background-color: #DADAFF\">quickly</span> <span style=\"background-color: #FFFCFC\">and</span> <span style=\"background-color: #E8E8FF\">accurately</span> <span style=\"background-color: #FFDCDC\">person</span> <span style=\"background-color: #FFE8E8\">specification</span> <span style=\"background-color: #FCFCFF\">smart</span> <span style=\"background-color: #FFFEFE\">in</span> <span style=\"background-color: #FFF8F8\">appearance</span> <span style=\"background-color: #FFFEFE\">organised</span> <span style=\"background-color: #FFFAFA\">enthusiastic</span> <span style=\"background-color: #FFFCFC\">passionate</span> <span style=\"background-color: #FFFAFA\">dynamic</span> <span style=\"background-color: #FFC0C0\">can</span> <span style=\"background-color: #FFD6D6\">build</span> <span style=\"background-color: #FFF0F0\">positive</span> <span style=\"background-color: #FFFEFE\">relationships</span> <span style=\"background-color: #E8E8FF\">with</span> <span style=\"background-color: #FFFCFC\">both</span> <span style=\"background-color: #FFFCFC\">staff</span> <span style=\"background-color: #ECECFF\">and</span> <span style=\"background-color: #ECECFF\">students</span> <span style=\"background-color: #FFF0F0\">flexible</span> <span style=\"background-color: #FFFAFA\">excellent</span> <span style=\"background-color: #FFFCFC\">timekeeper</span> <span style=\"background-color: #E2E2FF\">you</span> <span style=\"background-color: #E2E2FF\">must</span> <span style=\"background-color: #FEFEFF\">hold</span> <span style=\"background-color: #FEFEFF\">a</span> <span style=\"background-color: #FFF0F0\">valid</span> <span style=\"background-color: #FCFCFF\">crb</span> <span style=\"background-color: #FCFCFF\">and</span> <span style=\"background-color: #FFFEFE\">driving</span> <span style=\"background-color: #FFECEC\">license</span> <span style=\"background-color: #FFFEFE\">for</span> <span style=\"background-color: #FFFEFE\">this</span> <span style=\"background-color: #FFF2F2\">position</span> <span style=\"background-color: #FFFEFE\">.</span> <span style=\"background-color: #FFFEFE\">nb</span> <span style=\"background-color: #FFFEFE\">:</span> <span style=\"background-color: #FFFEFE\">this</span> <span style=\"background-color: #FFFCFC\">description</span> <span style=\"background-color: #FCFCFF\">gives</span> <span style=\"background-color: #F6F6FF\">a</span> <span style=\"background-color: #F3F3FF\">broad</span> <span style=\"background-color: #FAFAFF\">explanation</span> <span style=\"background-color: #FFECEC\">of</span> <span style=\"background-color: #FFF6F6\">the</span> <span style=\"background-color: #FAFAFF\">duties</span> <span style=\"background-color: #FAFAFF\">of</span> <span style=\"background-color: #F0F0FF\">this</span> <span style=\"background-color: #F3F3FF\">post</span> <span style=\"background-color: #FFD6D6\">,</span> <span style=\"background-color: #FFD6D6\">however</span> <span style=\"background-color: #F0F0FF\">these</span> <span style=\"background-color: #FFF4F4\">may</span> <span style=\"background-color: #FFFEFE\">vary</span> <span style=\"background-color: #FFF6F6\">over</span> <span style=\"background-color: #FFFEFE\">time</span></p>"
      ]
     },
     "metadata": {},
     "output_type": "display_data"
    }
   ],
   "execution_count": 45
  }
 ],
 "metadata": {
  "accelerator": "GPU",
  "colab": {
   "collapsed_sections": [
    "4_1ac18pZYlZ"
   ],
   "gpuType": "T4",
   "provenance": [],
   "toc_visible": true
  },
  "kernelspec": {
   "display_name": "Python 3 (ipykernel)",
   "language": "python",
   "name": "python3"
  },
  "language_info": {
   "codemirror_mode": {
    "name": "ipython",
    "version": 3
   },
   "file_extension": ".py",
   "mimetype": "text/x-python",
   "name": "python",
   "nbconvert_exporter": "python",
   "pygments_lexer": "ipython3",
   "version": "3.12.9"
  }
 },
 "nbformat": 4,
 "nbformat_minor": 4
}
